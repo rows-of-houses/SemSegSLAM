{
 "cells": [
  {
   "cell_type": "code",
   "execution_count": 1,
   "metadata": {},
   "outputs": [],
   "source": [
    "import cv2 as cv\n",
    "import numpy as np\n",
    "\n",
    "cap = cv.VideoCapture('calibration.mp4')\n",
    "\n",
    "frameCount = int(cap.get(cv.CAP_PROP_FRAME_COUNT))\n",
    "frameWidth = int(cap.get(cv.CAP_PROP_FRAME_WIDTH))\n",
    "frameHeight = int(cap.get(cv.CAP_PROP_FRAME_HEIGHT))\n",
    "\n",
    "buf = np.empty((frameCount, frameHeight, frameWidth, 3), np.dtype('uint8'))\n",
    "\n",
    "fc = 0\n",
    "ret = True\n",
    "\n",
    "while (fc < frameCount  and ret):\n",
    "    ret, buf[fc] = cap.read()\n",
    "    fc += 1\n",
    "\n",
    "cap.release()"
   ]
  },
  {
   "cell_type": "code",
   "execution_count": 2,
   "metadata": {},
   "outputs": [
    {
     "data": {
      "text/plain": [
       "(451, 720, 1280, 3)"
      ]
     },
     "execution_count": 2,
     "metadata": {},
     "output_type": "execute_result"
    }
   ],
   "source": [
    "buf.shape"
   ]
  },
  {
   "cell_type": "code",
   "execution_count": 3,
   "metadata": {},
   "outputs": [],
   "source": [
    "frame_indeces = np.random.randint(0, len(buf), 15)"
   ]
  },
  {
   "cell_type": "code",
   "execution_count": 4,
   "metadata": {},
   "outputs": [
    {
     "name": "stdout",
     "output_type": "stream",
     "text": [
      "Camera matrix : \n",
      "\n",
      "[[1.20179783e+03 0.00000000e+00 6.46299599e+02]\n",
      " [0.00000000e+00 1.19798934e+03 3.50614222e+02]\n",
      " [0.00000000e+00 0.00000000e+00 1.00000000e+00]]\n",
      "dist : \n",
      "\n",
      "[[ 1.65174467e-01 -1.21010094e+00  2.02810171e-04 -1.83419117e-03\n",
      "   2.51848646e+00]]\n",
      "rvecs : \n",
      "\n",
      "(array([[-0.27711076],\n",
      "       [-0.28467298],\n",
      "       [-1.54961047]]), array([[-0.24597795],\n",
      "       [-0.27689333],\n",
      "       [-1.55800354]]), array([[-0.02070557],\n",
      "       [-0.09528152],\n",
      "       [-1.55815107]]), array([[-0.48338447],\n",
      "       [-0.56451468],\n",
      "       [-1.52225715]]), array([[-0.31950951],\n",
      "       [-0.33963562],\n",
      "       [-1.52932485]]), array([[-0.27750568],\n",
      "       [-0.28030269],\n",
      "       [-1.52032882]]), array([[-0.46382397],\n",
      "       [-0.55020142],\n",
      "       [-1.53236339]]), array([[-0.2513636 ],\n",
      "       [-0.27449325],\n",
      "       [-1.55265736]]), array([[-0.48045373],\n",
      "       [-0.56004041],\n",
      "       [-1.52313043]]), array([[-0.39308673],\n",
      "       [-0.46686756],\n",
      "       [-1.57138613]]), array([[-0.24893681],\n",
      "       [-0.40969778],\n",
      "       [-1.62229859]]), array([[ 0.06883212],\n",
      "       [ 0.01674333],\n",
      "       [-1.56257275]]), array([[-0.35210475],\n",
      "       [-0.4007451 ],\n",
      "       [-1.53090885]]), array([[-0.44484546],\n",
      "       [-0.53855044],\n",
      "       [-1.53975797]]), array([[-0.27360658],\n",
      "       [-0.27933343],\n",
      "       [-1.52318667]]))\n",
      "tvecs : \n",
      "\n",
      "(array([[-5.06273501],\n",
      "       [ 0.97249274],\n",
      "       [14.64057552]]), array([[-5.36480928],\n",
      "       [ 2.60843318],\n",
      "       [13.19177749]]), array([[-5.27247486],\n",
      "       [ 1.56984955],\n",
      "       [15.27781689]]), array([[-4.6509584 ],\n",
      "       [ 2.07996422],\n",
      "       [13.41031118]]), array([[-3.99638152],\n",
      "       [ 3.16055295],\n",
      "       [14.23442795]]), array([[-3.82829551],\n",
      "       [ 2.76299957],\n",
      "       [14.21116431]]), array([[-4.66689995],\n",
      "       [ 3.31118684],\n",
      "       [12.56673161]]), array([[-5.03776186],\n",
      "       [ 2.5437207 ],\n",
      "       [13.09473734]]), array([[-4.67027034],\n",
      "       [ 1.57698341],\n",
      "       [14.57137945]]), array([[-4.61041946],\n",
      "       [ 3.59721659],\n",
      "       [12.28272854]]), array([[-8.1180037 ],\n",
      "       [ 1.12682882],\n",
      "       [18.39674967]]), array([[-5.21377014],\n",
      "       [ 1.95267869],\n",
      "       [15.49180095]]), array([[-5.46407407],\n",
      "       [ 2.58881888],\n",
      "       [16.75217301]]), array([[-4.88660291],\n",
      "       [ 1.31101768],\n",
      "       [14.44393095]]), array([[-3.88580156],\n",
      "       [ 2.77966138],\n",
      "       [14.06632657]]))\n"
     ]
    }
   ],
   "source": [
    "# Defining the dimensions of checkerboard\n",
    "CHECKERBOARD = (6,9)\n",
    "criteria = (cv.TERM_CRITERIA_EPS + cv.TERM_CRITERIA_MAX_ITER, 30, 0.001)\n",
    " \n",
    "# Creating vector to store vectors of 3D points for each checkerboard image\n",
    "objpoints = []\n",
    "# Creating vector to store vectors of 2D points for each checkerboard image\n",
    "imgpoints = [] \n",
    " \n",
    "# Defining the world coordinates for 3D points\n",
    "objp = np.zeros((1, CHECKERBOARD[0] * CHECKERBOARD[1], 3), np.float32)\n",
    "objp[0,:,:2] = np.mgrid[0:CHECKERBOARD[0], 0:CHECKERBOARD[1]].T.reshape(-1, 2)\n",
    "prev_img_shape = None\n",
    "\n",
    "for img in buf[frame_indeces]:\n",
    "    gray = cv.cvtColor(img,cv.COLOR_BGR2GRAY)\n",
    "    # Find the chess board corners\n",
    "    # If desired number of corners are found in the image then ret = true\n",
    "    ret, corners = cv.findChessboardCorners(gray, CHECKERBOARD, cv.CALIB_CB_ADAPTIVE_THRESH + cv.CALIB_CB_FAST_CHECK + cv.CALIB_CB_NORMALIZE_IMAGE)\n",
    "     \n",
    "    \"\"\"\n",
    "    If desired number of corner are detected,\n",
    "    we refine the pixel coordinates and display \n",
    "    them on the images of checker board\n",
    "    \"\"\"\n",
    "    if ret == True:\n",
    "        objpoints.append(objp)\n",
    "        # refining pixel coordinates for given 2d points.\n",
    "        corners2 = cv.cornerSubPix(gray, corners, (11,11),(-1,-1), criteria)\n",
    "         \n",
    "        imgpoints.append(corners2)\n",
    " \n",
    "        # Draw and display the corners\n",
    "        img = cv.drawChessboardCorners(img, CHECKERBOARD, corners2, ret)\n",
    "     \n",
    "    cv.imshow('img',img)\n",
    "    cv.waitKey(0)\n",
    " \n",
    "cv.destroyAllWindows()\n",
    " \n",
    "h,w = img.shape[:2]\n",
    " \n",
    "\"\"\"\n",
    "Performing camera calibration by \n",
    "passing the value of known 3D points (objpoints)\n",
    "and corresponding pixel coordinates of the \n",
    "detected corners (imgpoints)\n",
    "\"\"\"\n",
    "ret, mtx, dist, rvecs, tvecs = cv.calibrateCamera(objpoints, imgpoints, gray.shape[::-1], None, None)\n",
    " \n",
    "print(\"Camera matrix : \\n\")\n",
    "print(mtx)\n",
    "print(\"dist : \\n\")\n",
    "print(dist)\n",
    "print(\"rvecs : \\n\")\n",
    "print(rvecs)\n",
    "print(\"tvecs : \\n\")\n",
    "print(tvecs)"
   ]
  },
  {
   "cell_type": "code",
   "execution_count": 6,
   "metadata": {},
   "outputs": [],
   "source": [
    "video = cv.VideoCapture(0)\n"
   ]
  },
  {
   "cell_type": "code",
   "execution_count": 8,
   "metadata": {},
   "outputs": [],
   "source": [
    "ret, frame = video.read()"
   ]
  },
  {
   "cell_type": "code",
   "execution_count": 9,
   "metadata": {},
   "outputs": [],
   "source": [
    "video.release()"
   ]
  },
  {
   "cell_type": "code",
   "execution_count": null,
   "metadata": {},
   "outputs": [],
   "source": []
  }
 ],
 "metadata": {
  "kernelspec": {
   "display_name": "Python 3",
   "language": "python",
   "name": "python3"
  },
  "language_info": {
   "codemirror_mode": {
    "name": "ipython",
    "version": 3
   },
   "file_extension": ".py",
   "mimetype": "text/x-python",
   "name": "python",
   "nbconvert_exporter": "python",
   "pygments_lexer": "ipython3",
   "version": "3.8.8"
  }
 },
 "nbformat": 4,
 "nbformat_minor": 2
}
