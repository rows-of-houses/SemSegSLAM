{
 "cells": [
  {
   "cell_type": "code",
   "execution_count": 1,
   "metadata": {},
   "outputs": [],
   "source": [
    "import numpy as np\n",
    "import cv2 as cv\n",
    "from tqdm import tqdm\n",
    "import mrob\n",
    "import matplotlib.pyplot as plt\n",
    "import seaborn as sns\n",
    "import plotly.graph_objects as go\n",
    "from sklearn.decomposition import PCA\n",
    "from arucoprocessor import ArucoProcessor"
   ]
  },
  {
   "cell_type": "code",
   "execution_count": 2,
   "metadata": {},
   "outputs": [],
   "source": [
    "cap = cv.VideoCapture('aruco_video.mp4')\n",
    "# cap = cv.VideoCapture('table.mp4')\n",
    "\n",
    "frameCount = int(cap.get(cv.CAP_PROP_FRAME_COUNT))\n",
    "frameWidth = int(cap.get(cv.CAP_PROP_FRAME_WIDTH))\n",
    "frameHeight = int(cap.get(cv.CAP_PROP_FRAME_HEIGHT))\n",
    "\n",
    "buf = np.empty((frameCount, frameHeight, frameWidth, 3), np.dtype('uint8'))\n",
    "\n",
    "fc = 0\n",
    "ret = True\n",
    "\n",
    "while (fc < frameCount  and ret):\n",
    "    ret, buf[fc] = cap.read()\n",
    "    fc += 1\n",
    "\n",
    "cap.release()"
   ]
  },
  {
   "cell_type": "code",
   "execution_count": 3,
   "metadata": {},
   "outputs": [
    {
     "name": "stderr",
     "output_type": "stream",
     "text": [
      "  1%|          | 4/496 [00:00<00:48, 10.13it/s]"
     ]
    },
    {
     "name": "stdout",
     "output_type": "stream",
     "text": [
      "Reliable\n"
     ]
    },
    {
     "name": "stderr",
     "output_type": "stream",
     "text": [
      "100%|██████████| 496/496 [00:20<00:00, 24.26it/s]\n"
     ]
    }
   ],
   "source": [
    "# sift = cv.SIFT_create(nfeatures=1500)\n",
    "orb = cv.ORB_create(nfeatures=500)\n",
    "\n",
    "# bf = cv.BFMatcher()\n",
    "bf = cv.BFMatcher(cv.NORM_HAMMING)\n",
    "apc = ArucoProcessor()\n",
    "\n",
    "# FLANN_INDEX_KDTREE = 1\n",
    "# index_params = dict(algorithm = FLANN_INDEX_KDTREE, trees = 5)\n",
    "# search_params = dict(checks=50) # or pass empty dictionary\n",
    "# flann = cv.FlannBasedMatcher(index_params,search_params)\n",
    "\n",
    "keyframe_index = 0\n",
    "frame_index = 0\n",
    "\n",
    "keyframes = []\n",
    "detected_arucos = []\n",
    "\n",
    "initialization = True\n",
    "\n",
    "for frame_index in tqdm(range(buf.shape[0])):\n",
    "    \n",
    "    frame = buf[frame_index]\n",
    "    gray = cv.cvtColor(frame, cv.COLOR_BGR2GRAY)\n",
    "    \n",
    "    if initialization:\n",
    "        see_arucos = apc.process_frame(gray)\n",
    "    if frame_index > 150 and initialization:\n",
    "        initialization = False\n",
    "\n",
    "    # kp, des = sift.detectAndCompute(gray,None)\n",
    "    kp, des = orb.detectAndCompute(gray,None)\n",
    "\n",
    "    if frame_index == 0:\n",
    "        keyframe_kp = kp\n",
    "        keyframe_des = des\n",
    "        keyframe_img = gray\n",
    "        keyframe_index = frame_index\n",
    "        keyframes.append((keyframe_index, keyframe_kp, keyframe_img))\n",
    "\n",
    "    if frame_index != 0:\n",
    "\n",
    "        matches = bf.knnMatch(prev_des, des, k=2)\n",
    "        keyframe_matches = bf.knnMatch(keyframe_des, des, k=2)\n",
    "\n",
    "        # matches = flann.knnMatch(prev_des, des, k=2)\n",
    "        # keyframe_matches = flann.knnMatch(keyframe_des, des, k=2)\n",
    "\n",
    "        good = []\n",
    "        for m,n in keyframe_matches:\n",
    "            if m.distance < 0.7*n.distance:\n",
    "                good.append(m)\n",
    "                # good.append([m])\n",
    "\n",
    "        # img=cv.drawKeypoints(gray, kp, None)\n",
    "        # cv.imshow('frame', img)\n",
    "\n",
    "        # cv.imshow('frame', cv.drawMatchesKnn(keyframe_img, keyframe_kp, gray, kp, good, None, flags=cv.DrawMatchesFlags_NOT_DRAW_SINGLE_POINTS))\n",
    "        # if cv.waitKey(1) == ord('q'):\n",
    "        #     break\n",
    "\n",
    "        if initialization and see_arucos:\n",
    "            if frame_index-keyframe_index > 15 or len(good) < 100:\n",
    "                keyframe_kp = kp\n",
    "                keyframe_des = des\n",
    "                keyframe_index = frame_index\n",
    "                keyframe_img = gray\n",
    "                keyframes.append((keyframe_index, keyframe_kp, keyframe_img, good))\n",
    "                detected_arucos.append((keyframe_index, apc.get_pose_wrt_aruco(), apc.get_corners()))\n",
    "        else:\n",
    "            if len(good) < 100:\n",
    "                keyframe_kp = kp\n",
    "                keyframe_des = des\n",
    "                keyframe_index = frame_index\n",
    "                keyframe_img = gray\n",
    "                keyframes.append((keyframe_index, keyframe_kp, keyframe_img, good))\n",
    "\n",
    "    prev_kp = kp\n",
    "    prev_des = des\n",
    "    prev_img = gray\n",
    "\n",
    "cv.destroyAllWindows()"
   ]
  },
  {
   "cell_type": "code",
   "execution_count": 4,
   "metadata": {},
   "outputs": [],
   "source": [
    "positions = []\n",
    "for a in range(len(detected_arucos)):\n",
    "    positions.append(detected_arucos[a][1][:3, 3])\n",
    "positions = np.array(positions)"
   ]
  },
  {
   "cell_type": "code",
   "execution_count": 5,
   "metadata": {},
   "outputs": [
    {
     "data": {
      "application/vnd.plotly.v1+json": {
       "config": {
        "plotlyServerURL": "https://plot.ly"
       },
       "data": [
        {
         "line": {
          "color": "darkblue",
          "width": 2
         },
         "marker": {
          "size": 5
         },
         "text": [
          0,
          1,
          2,
          3,
          4,
          5,
          6,
          7,
          8
         ],
         "type": "scatter3d",
         "x": [
          -0.018204615166588334,
          0.2209664254464958,
          -0.09151256966594537,
          -0.32790970972986344,
          -0.36915527048459595,
          -0.4986284177435963,
          -0.46858695167662956,
          -0.3536752927837055,
          -0.5014283815121171
         ],
         "y": [
          0.16952419474921415,
          -0.019054540313647034,
          -0.13486336529677873,
          -0.1095588342619861,
          -0.2534327227700066,
          -0.313853965328796,
          -0.2242032635238318,
          -0.3426361166914345,
          -0.25865661553510827
         ],
         "z": [
          -1.7388141022641208,
          -1.7400295320121228,
          -1.805574649223715,
          -1.7863908135911482,
          -1.8048370489488879,
          -1.7599600959076693,
          -1.7546471236938381,
          -1.72747031413825,
          -1.6786838834533988
         ]
        }
       ],
       "layout": {
        "scene": {
         "aspectmode": "data"
        },
        "template": {
         "data": {
          "bar": [
           {
            "error_x": {
             "color": "#2a3f5f"
            },
            "error_y": {
             "color": "#2a3f5f"
            },
            "marker": {
             "line": {
              "color": "#E5ECF6",
              "width": 0.5
             },
             "pattern": {
              "fillmode": "overlay",
              "size": 10,
              "solidity": 0.2
             }
            },
            "type": "bar"
           }
          ],
          "barpolar": [
           {
            "marker": {
             "line": {
              "color": "#E5ECF6",
              "width": 0.5
             },
             "pattern": {
              "fillmode": "overlay",
              "size": 10,
              "solidity": 0.2
             }
            },
            "type": "barpolar"
           }
          ],
          "carpet": [
           {
            "aaxis": {
             "endlinecolor": "#2a3f5f",
             "gridcolor": "white",
             "linecolor": "white",
             "minorgridcolor": "white",
             "startlinecolor": "#2a3f5f"
            },
            "baxis": {
             "endlinecolor": "#2a3f5f",
             "gridcolor": "white",
             "linecolor": "white",
             "minorgridcolor": "white",
             "startlinecolor": "#2a3f5f"
            },
            "type": "carpet"
           }
          ],
          "choropleth": [
           {
            "colorbar": {
             "outlinewidth": 0,
             "ticks": ""
            },
            "type": "choropleth"
           }
          ],
          "contour": [
           {
            "colorbar": {
             "outlinewidth": 0,
             "ticks": ""
            },
            "colorscale": [
             [
              0,
              "#0d0887"
             ],
             [
              0.1111111111111111,
              "#46039f"
             ],
             [
              0.2222222222222222,
              "#7201a8"
             ],
             [
              0.3333333333333333,
              "#9c179e"
             ],
             [
              0.4444444444444444,
              "#bd3786"
             ],
             [
              0.5555555555555556,
              "#d8576b"
             ],
             [
              0.6666666666666666,
              "#ed7953"
             ],
             [
              0.7777777777777778,
              "#fb9f3a"
             ],
             [
              0.8888888888888888,
              "#fdca26"
             ],
             [
              1,
              "#f0f921"
             ]
            ],
            "type": "contour"
           }
          ],
          "contourcarpet": [
           {
            "colorbar": {
             "outlinewidth": 0,
             "ticks": ""
            },
            "type": "contourcarpet"
           }
          ],
          "heatmap": [
           {
            "colorbar": {
             "outlinewidth": 0,
             "ticks": ""
            },
            "colorscale": [
             [
              0,
              "#0d0887"
             ],
             [
              0.1111111111111111,
              "#46039f"
             ],
             [
              0.2222222222222222,
              "#7201a8"
             ],
             [
              0.3333333333333333,
              "#9c179e"
             ],
             [
              0.4444444444444444,
              "#bd3786"
             ],
             [
              0.5555555555555556,
              "#d8576b"
             ],
             [
              0.6666666666666666,
              "#ed7953"
             ],
             [
              0.7777777777777778,
              "#fb9f3a"
             ],
             [
              0.8888888888888888,
              "#fdca26"
             ],
             [
              1,
              "#f0f921"
             ]
            ],
            "type": "heatmap"
           }
          ],
          "heatmapgl": [
           {
            "colorbar": {
             "outlinewidth": 0,
             "ticks": ""
            },
            "colorscale": [
             [
              0,
              "#0d0887"
             ],
             [
              0.1111111111111111,
              "#46039f"
             ],
             [
              0.2222222222222222,
              "#7201a8"
             ],
             [
              0.3333333333333333,
              "#9c179e"
             ],
             [
              0.4444444444444444,
              "#bd3786"
             ],
             [
              0.5555555555555556,
              "#d8576b"
             ],
             [
              0.6666666666666666,
              "#ed7953"
             ],
             [
              0.7777777777777778,
              "#fb9f3a"
             ],
             [
              0.8888888888888888,
              "#fdca26"
             ],
             [
              1,
              "#f0f921"
             ]
            ],
            "type": "heatmapgl"
           }
          ],
          "histogram": [
           {
            "marker": {
             "pattern": {
              "fillmode": "overlay",
              "size": 10,
              "solidity": 0.2
             }
            },
            "type": "histogram"
           }
          ],
          "histogram2d": [
           {
            "colorbar": {
             "outlinewidth": 0,
             "ticks": ""
            },
            "colorscale": [
             [
              0,
              "#0d0887"
             ],
             [
              0.1111111111111111,
              "#46039f"
             ],
             [
              0.2222222222222222,
              "#7201a8"
             ],
             [
              0.3333333333333333,
              "#9c179e"
             ],
             [
              0.4444444444444444,
              "#bd3786"
             ],
             [
              0.5555555555555556,
              "#d8576b"
             ],
             [
              0.6666666666666666,
              "#ed7953"
             ],
             [
              0.7777777777777778,
              "#fb9f3a"
             ],
             [
              0.8888888888888888,
              "#fdca26"
             ],
             [
              1,
              "#f0f921"
             ]
            ],
            "type": "histogram2d"
           }
          ],
          "histogram2dcontour": [
           {
            "colorbar": {
             "outlinewidth": 0,
             "ticks": ""
            },
            "colorscale": [
             [
              0,
              "#0d0887"
             ],
             [
              0.1111111111111111,
              "#46039f"
             ],
             [
              0.2222222222222222,
              "#7201a8"
             ],
             [
              0.3333333333333333,
              "#9c179e"
             ],
             [
              0.4444444444444444,
              "#bd3786"
             ],
             [
              0.5555555555555556,
              "#d8576b"
             ],
             [
              0.6666666666666666,
              "#ed7953"
             ],
             [
              0.7777777777777778,
              "#fb9f3a"
             ],
             [
              0.8888888888888888,
              "#fdca26"
             ],
             [
              1,
              "#f0f921"
             ]
            ],
            "type": "histogram2dcontour"
           }
          ],
          "mesh3d": [
           {
            "colorbar": {
             "outlinewidth": 0,
             "ticks": ""
            },
            "type": "mesh3d"
           }
          ],
          "parcoords": [
           {
            "line": {
             "colorbar": {
              "outlinewidth": 0,
              "ticks": ""
             }
            },
            "type": "parcoords"
           }
          ],
          "pie": [
           {
            "automargin": true,
            "type": "pie"
           }
          ],
          "scatter": [
           {
            "fillpattern": {
             "fillmode": "overlay",
             "size": 10,
             "solidity": 0.2
            },
            "type": "scatter"
           }
          ],
          "scatter3d": [
           {
            "line": {
             "colorbar": {
              "outlinewidth": 0,
              "ticks": ""
             }
            },
            "marker": {
             "colorbar": {
              "outlinewidth": 0,
              "ticks": ""
             }
            },
            "type": "scatter3d"
           }
          ],
          "scattercarpet": [
           {
            "marker": {
             "colorbar": {
              "outlinewidth": 0,
              "ticks": ""
             }
            },
            "type": "scattercarpet"
           }
          ],
          "scattergeo": [
           {
            "marker": {
             "colorbar": {
              "outlinewidth": 0,
              "ticks": ""
             }
            },
            "type": "scattergeo"
           }
          ],
          "scattergl": [
           {
            "marker": {
             "colorbar": {
              "outlinewidth": 0,
              "ticks": ""
             }
            },
            "type": "scattergl"
           }
          ],
          "scattermapbox": [
           {
            "marker": {
             "colorbar": {
              "outlinewidth": 0,
              "ticks": ""
             }
            },
            "type": "scattermapbox"
           }
          ],
          "scatterpolar": [
           {
            "marker": {
             "colorbar": {
              "outlinewidth": 0,
              "ticks": ""
             }
            },
            "type": "scatterpolar"
           }
          ],
          "scatterpolargl": [
           {
            "marker": {
             "colorbar": {
              "outlinewidth": 0,
              "ticks": ""
             }
            },
            "type": "scatterpolargl"
           }
          ],
          "scatterternary": [
           {
            "marker": {
             "colorbar": {
              "outlinewidth": 0,
              "ticks": ""
             }
            },
            "type": "scatterternary"
           }
          ],
          "surface": [
           {
            "colorbar": {
             "outlinewidth": 0,
             "ticks": ""
            },
            "colorscale": [
             [
              0,
              "#0d0887"
             ],
             [
              0.1111111111111111,
              "#46039f"
             ],
             [
              0.2222222222222222,
              "#7201a8"
             ],
             [
              0.3333333333333333,
              "#9c179e"
             ],
             [
              0.4444444444444444,
              "#bd3786"
             ],
             [
              0.5555555555555556,
              "#d8576b"
             ],
             [
              0.6666666666666666,
              "#ed7953"
             ],
             [
              0.7777777777777778,
              "#fb9f3a"
             ],
             [
              0.8888888888888888,
              "#fdca26"
             ],
             [
              1,
              "#f0f921"
             ]
            ],
            "type": "surface"
           }
          ],
          "table": [
           {
            "cells": {
             "fill": {
              "color": "#EBF0F8"
             },
             "line": {
              "color": "white"
             }
            },
            "header": {
             "fill": {
              "color": "#C8D4E3"
             },
             "line": {
              "color": "white"
             }
            },
            "type": "table"
           }
          ]
         },
         "layout": {
          "annotationdefaults": {
           "arrowcolor": "#2a3f5f",
           "arrowhead": 0,
           "arrowwidth": 1
          },
          "autotypenumbers": "strict",
          "coloraxis": {
           "colorbar": {
            "outlinewidth": 0,
            "ticks": ""
           }
          },
          "colorscale": {
           "diverging": [
            [
             0,
             "#8e0152"
            ],
            [
             0.1,
             "#c51b7d"
            ],
            [
             0.2,
             "#de77ae"
            ],
            [
             0.3,
             "#f1b6da"
            ],
            [
             0.4,
             "#fde0ef"
            ],
            [
             0.5,
             "#f7f7f7"
            ],
            [
             0.6,
             "#e6f5d0"
            ],
            [
             0.7,
             "#b8e186"
            ],
            [
             0.8,
             "#7fbc41"
            ],
            [
             0.9,
             "#4d9221"
            ],
            [
             1,
             "#276419"
            ]
           ],
           "sequential": [
            [
             0,
             "#0d0887"
            ],
            [
             0.1111111111111111,
             "#46039f"
            ],
            [
             0.2222222222222222,
             "#7201a8"
            ],
            [
             0.3333333333333333,
             "#9c179e"
            ],
            [
             0.4444444444444444,
             "#bd3786"
            ],
            [
             0.5555555555555556,
             "#d8576b"
            ],
            [
             0.6666666666666666,
             "#ed7953"
            ],
            [
             0.7777777777777778,
             "#fb9f3a"
            ],
            [
             0.8888888888888888,
             "#fdca26"
            ],
            [
             1,
             "#f0f921"
            ]
           ],
           "sequentialminus": [
            [
             0,
             "#0d0887"
            ],
            [
             0.1111111111111111,
             "#46039f"
            ],
            [
             0.2222222222222222,
             "#7201a8"
            ],
            [
             0.3333333333333333,
             "#9c179e"
            ],
            [
             0.4444444444444444,
             "#bd3786"
            ],
            [
             0.5555555555555556,
             "#d8576b"
            ],
            [
             0.6666666666666666,
             "#ed7953"
            ],
            [
             0.7777777777777778,
             "#fb9f3a"
            ],
            [
             0.8888888888888888,
             "#fdca26"
            ],
            [
             1,
             "#f0f921"
            ]
           ]
          },
          "colorway": [
           "#636efa",
           "#EF553B",
           "#00cc96",
           "#ab63fa",
           "#FFA15A",
           "#19d3f3",
           "#FF6692",
           "#B6E880",
           "#FF97FF",
           "#FECB52"
          ],
          "font": {
           "color": "#2a3f5f"
          },
          "geo": {
           "bgcolor": "white",
           "lakecolor": "white",
           "landcolor": "#E5ECF6",
           "showlakes": true,
           "showland": true,
           "subunitcolor": "white"
          },
          "hoverlabel": {
           "align": "left"
          },
          "hovermode": "closest",
          "mapbox": {
           "style": "light"
          },
          "paper_bgcolor": "white",
          "plot_bgcolor": "#E5ECF6",
          "polar": {
           "angularaxis": {
            "gridcolor": "white",
            "linecolor": "white",
            "ticks": ""
           },
           "bgcolor": "#E5ECF6",
           "radialaxis": {
            "gridcolor": "white",
            "linecolor": "white",
            "ticks": ""
           }
          },
          "scene": {
           "xaxis": {
            "backgroundcolor": "#E5ECF6",
            "gridcolor": "white",
            "gridwidth": 2,
            "linecolor": "white",
            "showbackground": true,
            "ticks": "",
            "zerolinecolor": "white"
           },
           "yaxis": {
            "backgroundcolor": "#E5ECF6",
            "gridcolor": "white",
            "gridwidth": 2,
            "linecolor": "white",
            "showbackground": true,
            "ticks": "",
            "zerolinecolor": "white"
           },
           "zaxis": {
            "backgroundcolor": "#E5ECF6",
            "gridcolor": "white",
            "gridwidth": 2,
            "linecolor": "white",
            "showbackground": true,
            "ticks": "",
            "zerolinecolor": "white"
           }
          },
          "shapedefaults": {
           "line": {
            "color": "#2a3f5f"
           }
          },
          "ternary": {
           "aaxis": {
            "gridcolor": "white",
            "linecolor": "white",
            "ticks": ""
           },
           "baxis": {
            "gridcolor": "white",
            "linecolor": "white",
            "ticks": ""
           },
           "bgcolor": "#E5ECF6",
           "caxis": {
            "gridcolor": "white",
            "linecolor": "white",
            "ticks": ""
           }
          },
          "title": {
           "x": 0.05
          },
          "xaxis": {
           "automargin": true,
           "gridcolor": "white",
           "linecolor": "white",
           "ticks": "",
           "title": {
            "standoff": 15
           },
           "zerolinecolor": "white",
           "zerolinewidth": 2
          },
          "yaxis": {
           "automargin": true,
           "gridcolor": "white",
           "linecolor": "white",
           "ticks": "",
           "title": {
            "standoff": 15
           },
           "zerolinecolor": "white",
           "zerolinewidth": 2
          }
         }
        }
       }
      }
     },
     "metadata": {},
     "output_type": "display_data"
    }
   ],
   "source": [
    "layout = go.Layout(\n",
    "             scene=dict(\n",
    "                 aspectmode='data'\n",
    "         ))\n",
    "\n",
    "fig = go.Figure(data=[go.Scatter3d(x=positions.T[0], y=positions.T[1], z=positions.T[2],\n",
    "                                    marker_size=5, text=np.arange(0, len(positions)), line=dict(\n",
    "        color='darkblue',\n",
    "        width=2\n",
    "    )\n",
    ")], layout=layout)\n",
    "\n",
    "fig.show()"
   ]
  },
  {
   "cell_type": "code",
   "execution_count": 6,
   "metadata": {},
   "outputs": [
    {
     "data": {
      "text/plain": [
       "27"
      ]
     },
     "execution_count": 6,
     "metadata": {},
     "output_type": "execute_result"
    }
   ],
   "source": [
    "len(keyframes)"
   ]
  },
  {
   "cell_type": "code",
   "execution_count": 7,
   "metadata": {},
   "outputs": [
    {
     "name": "stderr",
     "output_type": "stream",
     "text": [
      "  0%|          | 0/25 [00:00<?, ?it/s]"
     ]
    },
    {
     "name": "stderr",
     "output_type": "stream",
     "text": [
      "100%|██████████| 25/25 [00:01<00:00, 21.12it/s]\n"
     ]
    }
   ],
   "source": [
    "global_matches = []\n",
    "\n",
    "for m in range(len(keyframes[1][3])):\n",
    "    global_matches.append([keyframes[1][3][m].queryIdx, keyframes[1][3][m].trainIdx])\n",
    "\n",
    "for kf in tqdm(range(2, len(keyframes))):\n",
    "    for m in range(len(keyframes[kf][3])):\n",
    "        found_match = False\n",
    "        for global_match in global_matches:\n",
    "            if global_match[-1] == keyframes[kf][3][m].queryIdx and len(global_match) != kf+1:\n",
    "                global_match.append(keyframes[kf][3][m].trainIdx)\n",
    "                found_match = True\n",
    "        if not found_match:\n",
    "            global_matches.append([-1] * (kf - 1) + [keyframes[kf][3][m].queryIdx, keyframes[kf][3][m].trainIdx])\n",
    "            \n",
    "    for global_match in global_matches:\n",
    "        if len(global_match) < kf + 1:\n",
    "            global_match.extend([-1])\n",
    "\n",
    "assert len(keyframes) == min([len(x) for x in global_matches]) == max([len(x) for x in global_matches])"
   ]
  },
  {
   "cell_type": "code",
   "execution_count": 8,
   "metadata": {},
   "outputs": [],
   "source": [
    "global_matches = np.array(global_matches)"
   ]
  },
  {
   "cell_type": "code",
   "execution_count": 9,
   "metadata": {},
   "outputs": [
    {
     "data": {
      "image/png": "[encoded data removed]",
      "text/plain": [
       "<Figure size 1080x1440 with 2 Axes>"
      ]
     },
     "metadata": {
      "needs_background": "light"
     },
     "output_type": "display_data"
    }
   ],
   "source": [
    "plt.figure(figsize=(15, 20))\n",
    "sns.heatmap(np.where(global_matches > 0, 1, 0));"
   ]
  },
  {
   "cell_type": "code",
   "execution_count": 10,
   "metadata": {},
   "outputs": [],
   "source": [
    "W = np.identity(2)\n",
    "\n",
    "K = np.array([[1.23472227e+03, 0.00000000e+00, 6.38814655e+02],\n",
    "              [0.00000000e+00, 1.23122213e+03, 3.37257425e+02],\n",
    "              [0.00000000e+00, 0.00000000e+00, 1.00000000e+00]])\n",
    "\n",
    "camera_k = np.array([K[0, 0],\n",
    "                     K[1, 1],\n",
    "                     K[0, 2],\n",
    "                     K[1, 2]])\n",
    "\n",
    "marker_size = 0.144\n",
    "\n",
    "marker_points = np.array([[-marker_size / 2, -marker_size / 2, 0],\n",
    "                          [ marker_size / 2, -marker_size / 2, 0],\n",
    "                          [ marker_size / 2,  marker_size / 2, 0],\n",
    "                          [-marker_size / 2,  marker_size / 2, 0]])"
   ]
  },
  {
   "cell_type": "code",
   "execution_count": 11,
   "metadata": {},
   "outputs": [
    {
     "name": "stdout",
     "output_type": "stream",
     "text": [
      "\u001b[1;31mType:\u001b[0m           FGraph.robustFactorType\n",
      "\u001b[1;31mString form:\u001b[0m    FGraph.robustFactorType.RANSAC\n",
      "\u001b[1;31mFile:\u001b[0m           c:\\users\\almam\\anaconda3\\lib\\site-packages\\mrob\\pybind.cp38-win_amd64.pyd\n",
      "\u001b[1;31mDocstring:\u001b[0m     \n",
      "Members:\n",
      "\n",
      "QUADRATIC\n",
      "\n",
      "CAUCHY\n",
      "\n",
      "HUBER\n",
      "\n",
      "MCCLURE\n",
      "\n",
      "RANSAC\n",
      "\u001b[1;31mInit docstring:\u001b[0m __init__(self: mrob.pybind.FGraph.robustFactorType, value: int) -> None\n"
     ]
    }
   ],
   "source": [
    "mrob.RANSAC?"
   ]
  },
  {
   "cell_type": "code",
   "execution_count": 12,
   "metadata": {},
   "outputs": [
    {
     "data": {
      "text/plain": [
       "[(16,\n",
       "  array([[ 0.98963018, -0.01305672, -0.14304413, -0.01820462],\n",
       "         [-0.00945727,  0.98777636, -0.15559054,  0.16952419],\n",
       "         [ 0.14332712,  0.1553299 ,  0.97740982, -1.7388141 ],\n",
       "         [ 0.        ,  0.        ,  0.        ,  1.        ]]),\n",
       "  array([[779., 360.],\n",
       "         [883., 359.],\n",
       "         [885., 462.],\n",
       "         [780., 462.]], dtype=float32)),\n",
       " (32,\n",
       "  array([[ 0.95798596, -0.0300613 , -0.28523536,  0.22096643],\n",
       "         [ 0.01362753,  0.99813969, -0.05942597, -0.01905454],\n",
       "         [ 0.28649115,  0.05304219,  0.95661348, -1.74002953],\n",
       "         [ 0.        ,  0.        ,  0.        ,  1.        ]]),\n",
       "  array([[792., 371.],\n",
       "         [895., 369.],\n",
       "         [898., 473.],\n",
       "         [794., 473.]], dtype=float32)),\n",
       " (48,\n",
       "  array([[ 0.99268965, -0.00484202, -0.12059773, -0.09151257],\n",
       "         [-0.0047219 ,  0.99687195, -0.07889242, -0.13486337],\n",
       "         [ 0.12060249,  0.07888514,  0.98956161, -1.80557465],\n",
       "         [ 0.        ,  0.        ,  0.        ,  1.        ]]),\n",
       "  array([[803., 479.],\n",
       "         [905., 480.],\n",
       "         [906., 582.],\n",
       "         [804., 580.]], dtype=float32)),\n",
       " (64,\n",
       "  array([[ 9.99952584e-01,  7.45852536e-04, -9.70946474e-03,\n",
       "          -3.27909710e-01],\n",
       "         [-1.94022777e-03,  9.92331340e-01, -1.23591048e-01,\n",
       "          -1.09558834e-01],\n",
       "         [ 9.54282546e-03,  1.23604026e-01,  9.92285735e-01,\n",
       "          -1.78639081e+00],\n",
       "         [ 0.00000000e+00,  0.00000000e+00,  0.00000000e+00,\n",
       "           1.00000000e+00]]),\n",
       "  array([[829., 517.],\n",
       "         [931., 518.],\n",
       "         [933., 620.],\n",
       "         [832., 620.]], dtype=float32)),\n",
       " (80,\n",
       "  array([[ 0.99706811, -0.01062829, -0.0757774 , -0.36915527],\n",
       "         [ 0.0055138 ,  0.99771174, -0.06738606, -0.25343272],\n",
       "         [ 0.0763202 ,  0.06677067,  0.99484517, -1.80483705],\n",
       "         [ 0.        ,  0.        ,  0.        ,  1.        ]]),\n",
       "  array([[ 944.,  546.],\n",
       "         [1047.,  546.],\n",
       "         [1050.,  649.],\n",
       "         [ 946.,  648.]], dtype=float32)),\n",
       " (96,\n",
       "  array([[ 0.99824092, -0.01318472, -0.05780328, -0.49862842],\n",
       "         [ 0.01121388,  0.99934906, -0.0342885 , -0.31385397],\n",
       "         [ 0.05821774,  0.03357999,  0.99773898, -1.7599601 ],\n",
       "         [ 0.        ,  0.        ,  0.        ,  1.        ]]),\n",
       "  array([[1019.,  548.],\n",
       "         [1125.,  548.],\n",
       "         [1127.,  652.],\n",
       "         [1022.,  652.]], dtype=float32)),\n",
       " (112,\n",
       "  array([[ 9.99085399e-01, -2.49149742e-03, -4.26867359e-02,\n",
       "          -4.68586952e-01],\n",
       "         [-2.95763295e-04,  9.97874438e-01, -6.51653099e-02,\n",
       "          -2.24203264e-01],\n",
       "         [ 4.27583618e-02,  6.51183349e-02,  9.96961045e-01,\n",
       "          -1.75464712e+00],\n",
       "         [ 0.00000000e+00,  0.00000000e+00,  0.00000000e+00,\n",
       "           1.00000000e+00]]),\n",
       "  array([[ 977.,  527.],\n",
       "         [1081.,  527.],\n",
       "         [1084.,  632.],\n",
       "         [ 978.,  631.]], dtype=float32)),\n",
       " (128,\n",
       "  array([[ 9.95412129e-01, -1.87824659e-02, -9.38185103e-02,\n",
       "          -3.53675293e-01],\n",
       "         [ 1.89905073e-02,  9.99818786e-01,  1.32510136e-03,\n",
       "          -3.42636117e-01],\n",
       "         [ 9.37766204e-02, -3.10068307e-03,  9.95588435e-01,\n",
       "          -1.72747031e+00],\n",
       "         [ 0.00000000e+00,  0.00000000e+00,  0.00000000e+00,\n",
       "           1.00000000e+00]]),\n",
       "  array([[ 965.,  526.],\n",
       "         [1073.,  526.],\n",
       "         [1075.,  631.],\n",
       "         [ 967.,  631.]], dtype=float32)),\n",
       " (144,\n",
       "  array([[ 0.99800937, -0.01394287, -0.06150525, -0.50142838],\n",
       "         [ 0.01057302,  0.99844253, -0.05477879, -0.25865662],\n",
       "         [ 0.06217323,  0.05401945,  0.99660242, -1.67868388],\n",
       "         [ 0.        ,  0.        ,  0.        ,  1.        ]]),\n",
       "  array([[1042.,  541.],\n",
       "         [1154.,  541.],\n",
       "         [1157.,  651.],\n",
       "         [1046.,  651.]], dtype=float32))]"
      ]
     },
     "execution_count": 12,
     "metadata": {},
     "output_type": "execute_result"
    }
   ],
   "source": [
    "detected_arucos"
   ]
  },
  {
   "cell_type": "code",
   "execution_count": 13,
   "metadata": {},
   "outputs": [],
   "source": [
    "graph = mrob.FGraph()"
   ]
  },
  {
   "cell_type": "code",
   "execution_count": null,
   "metadata": {},
   "outputs": [],
   "source": []
  },
  {
   "cell_type": "code",
   "execution_count": 14,
   "metadata": {},
   "outputs": [
    {
     "data": {
      "text/plain": [
       "['__class__',\n",
       " '__delattr__',\n",
       " '__dir__',\n",
       " '__doc__',\n",
       " '__eq__',\n",
       " '__format__',\n",
       " '__ge__',\n",
       " '__getattribute__',\n",
       " '__gt__',\n",
       " '__hash__',\n",
       " '__init__',\n",
       " '__init_subclass__',\n",
       " '__le__',\n",
       " '__lt__',\n",
       " '__module__',\n",
       " '__ne__',\n",
       " '__new__',\n",
       " '__reduce__',\n",
       " '__reduce_ex__',\n",
       " '__repr__',\n",
       " '__setattr__',\n",
       " '__sizeof__',\n",
       " '__str__',\n",
       " '__subclasshook__',\n",
       " 'add_bareg_plane',\n",
       " 'add_eigen_factor_plane',\n",
       " 'add_eigen_factor_plane_center',\n",
       " 'add_eigen_factor_plane_raw',\n",
       " 'add_eigen_factor_point',\n",
       " 'add_factor_1pose_1landmark_2d',\n",
       " 'add_factor_1pose_1landmark_3d',\n",
       " 'add_factor_1pose_1plane_4d',\n",
       " 'add_factor_1pose_2d',\n",
       " 'add_factor_1pose_3d',\n",
       " 'add_factor_1pose_point2plane',\n",
       " 'add_factor_1pose_point2point',\n",
       " 'add_factor_2poses_2d',\n",
       " 'add_factor_2poses_2d_odom',\n",
       " 'add_factor_2poses_3d',\n",
       " 'add_factor_2poses_3d_2obs',\n",
       " 'add_factor_camera_proj_3d_line',\n",
       " 'add_factor_camera_proj_3d_point',\n",
       " 'add_node_landmark_2d',\n",
       " 'add_node_landmark_3d',\n",
       " 'add_node_plane_4d',\n",
       " 'add_node_pose_2d',\n",
       " 'add_node_pose_3d',\n",
       " 'add_pi_factor_plane_4d',\n",
       " 'chi2',\n",
       " 'eigen_factor_plane_add_point',\n",
       " 'eigen_factor_plane_add_points_array',\n",
       " 'get_W_matrix',\n",
       " 'get_adjacency_matrix',\n",
       " 'get_chi2_array',\n",
       " 'get_estimated_state',\n",
       " 'get_information_matrix',\n",
       " 'get_vector_b',\n",
       " 'number_factors',\n",
       " 'number_nodes',\n",
       " 'print',\n",
       " 'solve']"
      ]
     },
     "execution_count": 14,
     "metadata": {},
     "output_type": "execute_result"
    }
   ],
   "source": [
    "dir(graph)"
   ]
  },
  {
   "cell_type": "code",
   "execution_count": 15,
   "metadata": {},
   "outputs": [
    {
     "name": "stdout",
     "output_type": "stream",
     "text": [
      "\u001b[1;31mType:\u001b[0m           FGraph.robustFactorType\n",
      "\u001b[1;31mString form:\u001b[0m    FGraph.robustFactorType.CAUCHY\n",
      "\u001b[1;31mFile:\u001b[0m           c:\\users\\almam\\anaconda3\\lib\\site-packages\\mrob\\pybind.cp38-win_amd64.pyd\n",
      "\u001b[1;31mDocstring:\u001b[0m     \n",
      "Members:\n",
      "\n",
      "QUADRATIC\n",
      "\n",
      "CAUCHY\n",
      "\n",
      "HUBER\n",
      "\n",
      "MCCLURE\n",
      "\n",
      "RANSAC\n",
      "\u001b[1;31mInit docstring:\u001b[0m __init__(self: mrob.pybind.FGraph.robustFactorType, value: int) -> None\n"
     ]
    }
   ],
   "source": [
    "mrob.CAUCHY?"
   ]
  },
  {
   "cell_type": "code",
   "execution_count": 86,
   "metadata": {},
   "outputs": [
    {
     "name": "stderr",
     "output_type": "stream",
     "text": [
      "100%|██████████| 27/27 [01:20<00:00,  2.99s/it]"
     ]
    },
    {
     "name": "stdout",
     "output_type": "stream",
     "text": [
      "394181860.9550539\n"
     ]
    },
    {
     "name": "stderr",
     "output_type": "stream",
     "text": [
      "\n"
     ]
    }
   ],
   "source": [
    "graph = mrob.FGraph(mrob.CAUCHY)\n",
    "\n",
    "global_matches_to_graph_id = {}\n",
    "corners_to_graph_id = {}\n",
    "\n",
    "poses_indeces_in_graph = []\n",
    "last_position = np.zeros((3, 1))\n",
    "\n",
    "for angle in range(4):\n",
    "    l = graph.add_node_landmark_3d(marker_points[angle], mrob.NODE_ANCHOR)\n",
    "    corners_to_graph_id[angle] = l\n",
    "\n",
    "for kf in tqdm(range(len(keyframes))):\n",
    "# for kf in tqdm(range(len(detected_arucos))):\n",
    "\n",
    "    if len(detected_arucos) > kf:\n",
    "        # pose_id = graph.add_node_pose_3d(mrob.geometry.SE3(detected_arucos[kf][1]))\n",
    "\n",
    "        pose_id = graph.add_node_pose_3d(mrob.geometry.SE3())\n",
    "\n",
    "        graph.add_factor_1pose_3d(mrob.geometry.SE3(detected_arucos[kf][1]), pose_id, np.linalg.inv(np.diag((0.1, 0.1, 0.1, 0.5, 0.5, 0.5))))\n",
    "        # graph.add_factor_1pose_3d(mrob.geometry.SE3(detected_arucos[kf][1]), pose_id, np.diag((0.1, 0.1, 0.1, 0.5, 0.5, 0.5)))\n",
    "\n",
    "        for angles in range(4):\n",
    "            graph.add_factor_camera_proj_3d_point(\n",
    "                obs = detected_arucos[kf][2][angle],\n",
    "                nodePoseId = pose_id,\n",
    "                nodeLandmarkId = corners_to_graph_id[angle],\n",
    "                camera_k = camera_k,\n",
    "                obsInvCov = W)\n",
    "\n",
    "    # if kf == 0:\n",
    "    #     pose_id = graph.add_node_pose_3d(mrob.geometry.SE3(), mrob.NODE_ANCHOR)\n",
    "    else:\n",
    "        pose_id = graph.add_node_pose_3d(mrob.geometry.SE3(last_pose))\n",
    "        # pose_id = graph.add_node_pose_3d(mrob.geometry.SE3())\n",
    "\n",
    "    poses_indeces_in_graph.append(pose_id)\n",
    "    \n",
    "    for global_match_index in range(global_matches.shape[0]):\n",
    "\n",
    "        if global_matches[global_match_index, kf] == -1:\n",
    "            continue\n",
    "        \n",
    "        if not (global_match_index in global_matches_to_graph_id.keys()):\n",
    "            l = graph.add_node_landmark_3d(last_position + np.random.random((3, 1)))\n",
    "            # l = graph.add_node_landmark_3d(np.random.random((3, 1)))\n",
    "            global_matches_to_graph_id[global_match_index] = l\n",
    "            \n",
    "        graph.add_factor_camera_proj_3d_point(\n",
    "                obs = keyframes[kf][1][global_matches[global_match_index, kf]].pt,\n",
    "                nodePoseId = pose_id,\n",
    "                nodeLandmarkId = global_matches_to_graph_id[global_match_index],\n",
    "                camera_k = camera_k,\n",
    "                obsInvCov = W)\n",
    "    \n",
    "    # print(f\"{kf} : {graph.solve(method=mrob.LM, maxIters=200)} iterations\")\n",
    "    graph.solve(method=mrob.LM, maxIters=200)\n",
    "    last_pose = graph.get_estimated_state()[pose_id]\n",
    "    last_position = last_pose[0:3, 3:]\n",
    "    \n",
    "print(graph.chi2())"
   ]
  },
  {
   "cell_type": "code",
   "execution_count": 89,
   "metadata": {},
   "outputs": [
    {
     "name": "stderr",
     "output_type": "stream",
     "text": [
      "<ipython-input-89-1089bd6a750f>:1: VisibleDeprecationWarning:\n",
      "\n",
      "Creating an ndarray from ragged nested sequences (which is a list-or-tuple of lists-or-tuples-or ndarrays with different lengths or shapes) is deprecated. If you meant to do this, you must specify 'dtype=object' when creating the ndarray.\n",
      "\n",
      "<ipython-input-89-1089bd6a750f>:2: VisibleDeprecationWarning:\n",
      "\n",
      "Creating an ndarray from ragged nested sequences (which is a list-or-tuple of lists-or-tuples-or ndarrays with different lengths or shapes) is deprecated. If you meant to do this, you must specify 'dtype=object' when creating the ndarray.\n",
      "\n"
     ]
    }
   ],
   "source": [
    "landmarks_3d = np.array([x for x in np.array(graph.get_estimated_state())[list(global_matches_to_graph_id.values())]]).reshape(-1, 3).T\n",
    "camera_poses = np.array([x[0:3, 3] for x in np.array(graph.get_estimated_state())[poses_indeces_in_graph]]).T"
   ]
  },
  {
   "cell_type": "code",
   "execution_count": 92,
   "metadata": {},
   "outputs": [
    {
     "data": {
      "application/vnd.plotly.v1+json": {
       "config": {
        "plotlyServerURL": "https://plot.ly"
       },
       "data": [
        {
         "marker": {
          "size": 1
         },
         "mode": "markers",
         "type": "scatter3d",
         "x": [
          -1.5037048056568139,
          -0.8116300522096438,
          -4.169283055486797,
          -4.617131694188086,
          -21.36910881837282,
          -0.8067242110172426,
          -0.35439551184238494,
          -0.6940146457788013,
          -1.9043883913551982,
          -0.7809716190079453,
          0.36640878804351534,
          -14.702324315635126,
          1.892682563192975,
          0.3997821977448138,
          -0.7687998991493542,
          -1.0482268920261728,
          -3.7831141458231303,
          -1.0836991034370318,
          -0.721705920077731,
          10.18262907486065,
          -3.3609209247757867,
          -1.3304395821585466,
          -5.500259984610664,
          10.061032357929944,
          -0.6713595985616146,
          -0.7214167084392404,
          -3.402982863353013,
          -14.901840221925514,
          -0.7230374795588057,
          -1.9123588107164604,
          -4.455688744802416,
          -3.3599293079832946,
          -3.541925488839074,
          -0.04801710486765967,
          -0.7068136800983191,
          -19.916164597446176,
          1.6137612565722108,
          1.4005021694976865,
          0.5212203771607128,
          0.1642674364182515,
          -3.4157203472844344,
          -0.6724428829178264,
          -2.7983719561845186,
          -3.717922375119806,
          39.09523082752507,
          -301.40061775958736,
          -0.8669704570524122,
          -0.19764228699644495,
          -15.304461447757786,
          0.40373751175559836,
          -1.2115001417170215,
          0.009462543081076157,
          -0.23027898330884317,
          -3.56013612108024,
          -0.6591281298671351,
          -1.91565921501675,
          -1.3596714355017758,
          0.5403026134925326,
          0.6565366420138237,
          -4.726539981765871,
          -0.7501107177468337,
          1.1285353427924987,
          -4.037045895783749,
          -9.652762765804892,
          -17.399854141611772,
          -0.163339919521384,
          -3.947214398006711,
          -3.950148579665685,
          -0.7197487072946731,
          -0.6729082213557885,
          -0.8070344285273511,
          0.14508440113677923,
          -19.125290168735138,
          -3.4040175362065686,
          -3.5733577484884154,
          0.4218585575163108,
          0.4280376149790682,
          1.1907914397964985,
          -2.0328088642371878,
          -3.0586592166654265,
          -6.647243972263344,
          0.5164064638628115,
          -0.8064972189925386,
          -0.6857841406166151,
          0.611696670928206,
          -3.5934086015626003,
          0.38719826456366974,
          2.1738181562166337,
          1.2232134450977665,
          0.4244659189307879,
          -3138.7699315525388,
          -2670.373783501999,
          -4.601329207699485,
          -0.72563600430618,
          0.9614458764334364,
          19.52319972744232,
          0.49760928094962265,
          543.2612550348158,
          -412.3987692139729,
          -0.6865783727066015,
          -6.66769420719167,
          0.21514408550599154,
          0.3747729919909652,
          0.5812214649174346,
          -0.6528746858690561,
          -0.7502533093753061,
          1.6710460431466347,
          0.3889084820484535,
          0.26066977761751886,
          -0.6800046172894554,
          -11.354023266438947,
          0.5408162484183462,
          0.6381384083595739,
          -13.825746381733621,
          0.42395377812582064,
          -0.6864821548447707,
          0.6204430605921067,
          1.6736086896483529,
          0.4080140290599052,
          -0.680194859237783,
          42.49436704624577,
          -13.700119179966048,
          0.3861157285620486,
          0.10959407370286758,
          5.36314467581156,
          -3.4074922478412955,
          -0.9764087626853897,
          -15.89911214979653,
          -11.63682463552466,
          -1.295587640192316,
          -0.8930370985317775,
          -0.9158487024864005,
          -8.50059974990331,
          -0.6741199899703918,
          -0.2590187796285056,
          -2.0462926531441323,
          -13.311176153323974,
          -75.26734065276774,
          -0.7554949052557216,
          -0.733562930062993,
          -2.3215297677421756,
          -15.7070678439787,
          -7.025166607310402,
          -1.8149018040651879,
          -13.099518952719773,
          -4.6463992559898415,
          -3.5947572962412795,
          -0.9548800627673056,
          -0.2627869411076469,
          -0.93618154667733,
          0.0747222049547926,
          -1.321761377404932,
          -12.590713964790334,
          -1.1597849932582525,
          -0.8119392599109372,
          -0.9508049604898008,
          -1.0961190283899171,
          -1.3471363291654743,
          -0.7015435106795743,
          -1.2783116756523247,
          -13.837238921999653,
          -4.043833316443425,
          -0.7785893655928414,
          -13.604731367849316,
          -1.0468524350956272,
          -0.010048505941002988,
          -2.1244180029096595,
          682.7045246140394,
          -2.240169936676715,
          -3.9773500072857946,
          -12.106067968645522,
          -3.073645547618216,
          0.18796937644623748,
          -9.256899382796506,
          120.65358077447252,
          -0.23316942996874113,
          -0.7391437106197626,
          -3.491494528785949,
          -15.131598891069748,
          -1.311365951992896,
          -0.9343907421881141,
          -1.051868599509604,
          -1.0638017670360087,
          -1.9775855049923834,
          0.2673178492059168,
          -5.028687703782365,
          -0.9742699271220805,
          -0.8249141023659938,
          -9.803945557033266,
          -13.873286008916368,
          -3.4672487727653545,
          -1.1469513266720104,
          0.0008163671747917684,
          -1.229703010399457,
          -0.7209314506820945,
          -14.055888181566289,
          -8.694730658516221,
          -9.340822817165222,
          -0.8797058638803756,
          -12.247745264417835,
          -0.7019201758869481,
          0.05231260484068787,
          -1.2371164674438533,
          -1.4147688196119121,
          -1.0860446843487483,
          0.2857582765138262,
          -0.9641335812462501,
          -0.2329429849435554,
          0.1927301132940679,
          -1.369186999203176,
          -11.2982294510769,
          -13.6031972488917,
          -11.505281893112732,
          -9.286938443863715,
          -0.7083742736049208,
          0.04377480027828455,
          -0.7330238548917887,
          -1.3530495797060236,
          0.5629865822905387,
          -0.8837681495002248,
          -12.629882117060353,
          -8.4833677469394,
          -0.02345807567127356,
          0.23388887730353808,
          769.0155365831346,
          -0.04229041121766774,
          -7.93435675791621,
          -10.245384580237463,
          -10.10067019424402,
          899.8869766675958,
          -0.6747475955624352,
          -1.9429747529986825,
          -3.370917172379086,
          -0.9997228170429431,
          -0.726994604829962,
          -0.23417607277496577,
          -0.7088528043338556,
          0.3260313852115497,
          -12.183817722210708,
          -0.7233838402469475,
          -4.725590303414618,
          -5.012816328244245,
          -0.4087467950685004,
          -5.3812915490694415,
          721.5308270170196,
          -8.538264540754355,
          981.6355367047497,
          -12.201488439825019,
          377.2855963717679,
          -0.22050720529188175,
          -1.4463699527435063,
          -0.026739028062391743,
          -1.215226733708354,
          -0.009277368078020815,
          -10.692307001958302,
          0.06997182691762036,
          -9.47642091406034,
          -12.418697984798426,
          935.5578790408374,
          -0.03295544946911275,
          -0.6758596442756819,
          -9.2316315949698,
          0.17660554050663074,
          0.17208932222448853,
          -0.3862392366068208,
          0.2652336248828616,
          -0.012350409278031443,
          -1.2795738453816257,
          -0.12044729555687142,
          -12.14704067637953,
          -8.891344704305652,
          -8.799884516183658,
          5.849009926124676,
          220.89365256149856,
          80.53234711846459,
          -485.91418664810783,
          -3.490110135007115,
          407.8732125887984,
          1.243586930072457,
          -5.873986714925318,
          3.2756180204453145,
          -32.660782701883804,
          5.908323088944746,
          24.12543714202966,
          33.504589316581516,
          -1.15589930161039,
          219.30147392437692,
          -14.705145370178213,
          -13.312264217305898,
          55.241728210194914,
          -0.3989116926931515,
          428.31373216380416,
          -0.7548647085406267,
          -3.804748320280072,
          92.93111409963196,
          0.1139040169505146,
          5.2761427148418365,
          51.86856440560133,
          -9.47073020593558,
          7.65058132146072,
          5.404172976329156,
          -32.54062617625675,
          2.547656371425672,
          2.2786139820956506,
          -1.0479785014709946,
          0.04504212032774049,
          -0.06567621574931742,
          -1.634262083436415,
          646.4719875795339,
          3.011940485197683,
          -1.5426497540725002,
          -44.955287249218976,
          -3.5231609620879096,
          -0.7711114937892957,
          2.846154355557613,
          -0.24048821700731896,
          -1.1401363206696764,
          -0.7779108137946867,
          -7.980717825863259,
          0.6851806516300201,
          -3.4995945189458286,
          -4.618866246443229,
          -5.01524211708252,
          -0.9515069348131767,
          -5.480005476134299,
          0.09452555537654443,
          -7161.184181402254,
          -5.03717073402712,
          -77.93295847867087,
          0.09231068375779154,
          -5.020247253612773,
          -0.02830388920083088,
          -4962.242258402264,
          -0.8528949390613577,
          -3.511869268583803,
          -3.5129028389893846,
          -3.409103908467685,
          -6.359861733268036,
          -2.32447908711994,
          -3.489944407211924,
          -4.323286305793704,
          -3.887089149733287,
          -2.984825537418452,
          1213.284824758641,
          0.15957157121850582,
          -0.30698556351174866,
          18.804482474801084,
          -22.059171450495153,
          -0.01964286866710341,
          -67.9262296662617,
          -0.7301494520948074,
          195.41978422792545,
          225.19177964987264,
          -2.3623265329152545,
          -0.6115453317683305,
          -3.343633718232641,
          0.22318742664617028,
          -0.14175958535731747,
          -7.619128507276005,
          -4972.7548679693,
          -0.14123287636301557,
          -0.7600032484446295,
          1320.3897357796152,
          0.16687042776959063,
          -3.630491970062412,
          0.05014503673926763,
          -1.6012852753288445,
          -1.1961318386386899,
          205.70307600103726,
          -0.29940328968047303,
          -38.94604637270217,
          -85.04459242142836,
          -0.14156939144032943,
          -1.7490882663492295,
          -3.3938354638014205,
          -0.8055613565096302,
          -0.08519104730005052,
          -3.386229991084203,
          -7.768944093291032,
          -0.13797226552336195,
          -3.390473116641204,
          -0.1418770545249731,
          -410.34529999455685,
          -21.54024718301034,
          -1.489165451471926,
          -0.1416349878840329,
          -0.7759281935624531,
          0.06264433431910198,
          -14.965252601715232,
          -2.816782298453825,
          -1.1047691168280702,
          -7.481966758866088,
          -1.6123896563895748,
          -0.7751926053878533,
          -7.4912962331798045,
          -16.134311495503827,
          -0.09231507720622639,
          -6.960127137778989,
          -0.1415956645876025,
          -4.6202573987588424,
          0.07614062567398899,
          -0.7967154027387641,
          -2.87405237028118,
          -0.7874500227612534,
          -112.08120047628833,
          -1.7220633985456577,
          -6.377080823604896,
          -16.652003397663517,
          -0.14159385976131691,
          -0.3508796713463012,
          -0.029318491067907373,
          -10.798549702342823,
          -6.925393596827797,
          -1.0576542789116985,
          -10.414211461785628,
          4.215840918692701,
          0.07237882811943055,
          -3.0808437465693945,
          -2.9945056403683856,
          -0.4918392121093623,
          -3.637587799701531,
          -4447.226629670378,
          0.29213091402285524,
          -1.5740804663002705,
          0.3851792713116205,
          -0.7118806851897427,
          -1.508625566542168,
          -2.2289704620861657,
          -0.8852313190042476,
          0.05044992363964765,
          -0.004241460974654148,
          0.002270531153184929,
          6.281489245988113,
          77.9008378393122,
          -1.01206686814252,
          -1.667719600694594,
          -5.680508881644849,
          -2.8356265184809484,
          -0.9552495223996166,
          -3.220027657614689,
          -0.7852315597559374,
          1.3198547299652712,
          -2.849140879015049,
          0.07867050775303336,
          -2.9898748828426327,
          -3.620910373932118,
          -0.2905956596072026,
          -1.9370366176979608,
          0.007110936156472523,
          -3.1525841753945425,
          -2706.8887193498795,
          -0.7441650080662302,
          -2.9510311631686523,
          0.32360064080391393,
          -0.7645686638641818,
          -0.21038032615253177,
          -0.22136844813608647,
          0.06992976888515268,
          0.47137739014042784,
          -0.34156845345948394,
          -0.4369093708017392,
          -0.38346967205797683,
          -43.262561098691776,
          -2.8724648014374026,
          0.02989092565974422,
          -2.57909677246148,
          -0.37560460884885055,
          -3.078204066751309,
          -0.8459664530443103,
          -0.2840257282811892,
          0.08034192115243129,
          -0.7757695249157349,
          -4.144860137507027,
          -0.8724415047570812,
          -0.9482943854480438,
          -0.9871090283651618,
          -4.548746956341266,
          -1.1726252166884712,
          -1.7022292809384332,
          0.012329974561442136,
          -1.205906228810647,
          -0.7123140757741215,
          -1.2185636188940443,
          -1.166173929505148,
          0.6562877678328171,
          -0.37718219351437515,
          -0.0823682124686316,
          0.0624475789365157,
          -3.5001421291347548,
          -0.8320381935592581,
          -1.4291331296528513,
          -1.8269327882597388,
          -0.5440719017131297,
          -1.2257699337375498,
          -1.8507071472972796,
          -4.202423568050431,
          -7.3405203056914825,
          -2.273044280622403,
          0.35590821807478124,
          -1.3635415021696742,
          -0.8551420512682432,
          0.09414826620873717,
          -0.2538445708176257,
          -1.2440657406482656,
          -1.845116324498286,
          0.27732183445676784,
          -4.16622188082476,
          2.7539814415440462,
          -0.804838632935958,
          -1.330338275130413,
          -0.8511094962686723,
          -0.5017137527963462,
          -2.5691005022461004,
          -2.0366031793041395,
          -1.0216930912767712,
          0.12858765465515354,
          -0.3848230157994451,
          -1.1653207512752999,
          -0.5866004447213853,
          -0.888947956372311,
          -1.951470381369032,
          -0.4591190445950621,
          -0.7906808766932616,
          -1.0531133058832158,
          1.699926661442114,
          -0.292037657390313,
          -0.1297619527275466,
          -0.5620625951280689,
          -2.2553244821631906,
          -1.7116037064356553,
          -1.7285688113063544,
          -1.0672118728018218,
          -0.9024788990283396,
          -0.8979139844509461,
          -0.8978550817071503,
          -0.775703543517737,
          -2.7304427506731765,
          0.044729468789922185,
          0.03891071766746698,
          1.596081291187323,
          -0.8279454071167853,
          1.3016399639789018,
          -1.176111606118124,
          1.4859902586360083,
          -2.81794593067811,
          0.5656159929674573,
          -0.9360441710732827,
          -1.248249069185248,
          -2.644728210004847,
          -1.3671783035021587,
          -0.9085956757685303,
          -0.6653769868512808,
          -0.9193223221549206,
          -1.0156951112145514,
          -1.1035177950915978,
          -0.7616966507088274,
          0.029895690771231644,
          -1.5239956266931658,
          10.309036720702224,
          38.276909515761076,
          0.011332523792314364,
          0.24905597971574256,
          1.6435940319743536,
          0.6794894891615539,
          -0.6716392431471724,
          -0.04048961805102724,
          -0.31501820091288507,
          25.16392646063594,
          0.20341100793111166,
          0.3910436314010374,
          -0.319943436609733,
          -0.40448641827776477,
          -0.29967419024695546,
          0.04859746989256412,
          0.05403037464447971,
          0.0532476603649113,
          -0.10973968620257517,
          0.013005705870503342,
          -0.04415060080847902,
          9.049808163561757,
          0.059379107159511335,
          -0.9704099629299797,
          0.611756499649884,
          5.599177756102561,
          -0.8201942350685445,
          0.43304726002939053,
          0.08851861588038591,
          4.017846869854389,
          -0.698328355283902,
          -0.9219904064784575,
          -10.217784641832417,
          1.1101911980591006,
          -0.933568932231894,
          2.6359701111469915,
          1.4885169011020314,
          -0.7377872682895383,
          0.02948912969076648,
          -0.6423497666473401,
          0.029474395307169617,
          112.0560927870238,
          0.6026410724649247,
          -0.3371641291584155,
          -0.044845807240843694,
          -0.2869013787152619,
          0.40572868467812007,
          4.79872497934933,
          -0.3509896368919053,
          1.5224548474576132,
          -0.7547350981792688,
          0.44051208458154856,
          -0.060075996393856884,
          -3.1246101530088364,
          2.35445006099418,
          -2.117815249519721,
          -0.4998870716129608,
          -2.2345507103942532,
          -0.044840447364691643,
          -1.622503584506351,
          8.970493508752604,
          1.0517064658223783,
          5.253569113774108,
          1.2112333024244135,
          2.3796354509630664,
          -1.7274455043039854,
          -0.832346295974877,
          70.22778215631261,
          -1.2873960862374803,
          -0.8551980661037346,
          8.608582577147303,
          1.0815965594016137,
          5.485610701023986,
          4.490114265436423,
          1.0586198678617404,
          -1.1985027889078623,
          -1.1961986200888686,
          0.010244899904796906,
          -1.9462199360639754,
          -0.1005635863159697,
          -2.295218268103662,
          0.49642654331614205,
          -0.8563386854491606,
          1.412663321007672,
          -2.658395457953022,
          -0.13039252495107598,
          0.5134966830213212,
          -0.35626058240076836,
          0.6390414793845551,
          -1.5834634195397872,
          4.4609017350988305,
          0.7252403577927409,
          -0.8603257066133875,
          -1.2371151301626373,
          -0.6634721704206868,
          -0.35395640386662647,
          -0.017504649972314157,
          19.98331459841885,
          -1.407452820809623,
          -8.983253185013451,
          3.4082866834093006,
          8.531037745812135,
          -0.1266531779190195,
          -0.9356085362990686,
          -0.9833198315789966,
          -0.1698284986678519,
          -0.9250503607580971,
          0.2921358088615883,
          -0.7941015476540578,
          -1.0210656730495649,
          -0.8883474105655182,
          -0.20413912297585135,
          13.436464620278407,
          -1.4432340462326232,
          -1.0819718378741363,
          -1.030921132868011,
          2.7770325539710305,
          -0.13141009473589638,
          0.5590416936752194,
          -1.0213557930884076,
          -1.0146633821078277,
          0.26471841969343624,
          -0.9644416690321448,
          -0.7422033421981858,
          -1.263527923341551,
          0.1657837929101673,
          9.614024819489389,
          -2.301687700010568,
          2.106738435191875,
          -1.7507465016156052,
          -2.495194634793186,
          -0.9487851129061523,
          -2.300121566596951,
          -1.8010502235006023,
          -0.23037097393680717,
          -1.2532136416998474,
          -5.815624095607213,
          8.084346702281824,
          10.522649834087005,
          10.03344963375597,
          0.11948516247868929,
          0.03645195708823856,
          -2.269533522865221,
          -1.1603880382152392,
          -1.6749290094575358,
          -0.7697345486059815,
          -0.01298847671299408,
          6.50125312437444,
          -1.5675982188810953,
          0.49263010430126686,
          -0.38645067659685783,
          -1.1440748366863658,
          -1.1993372547372252,
          0.34559195278012655,
          -1.1823155443724456,
          -1.2019557888842047,
          -0.12402477765568423,
          -156.96193124728438,
          0.1599246287300616,
          -4.7218216949402985,
          2.629218839968835,
          0.004259843468052638,
          1.1319945017504183,
          -0.04876752123003403,
          0.4971209872646484,
          -2.368302636940397,
          -0.5975531900120665,
          0.10938464650201205,
          -0.39207052944993254,
          0.17410961054562846,
          -15.278934197712843,
          -1.0867900193706923,
          -1.3611925323334995,
          9.638838256492992,
          0.12475666817733111,
          -0.7077688922927645,
          0.3639156669356852,
          17.171912151331938,
          -0.2141294066134288,
          -1.2578447550224392,
          -0.04340282021134224,
          -0.15247044911657354,
          0.5274945497067816,
          -0.834884330190942,
          2.518379284632978,
          3.6653608009880925,
          0.7982839452882455,
          -1.0963224956757078,
          -1.68878407087154,
          -1.0173740786040608,
          -1.4905592255781468,
          28.201204636289418,
          2.2515829377050958,
          -13.211398163581858,
          0.2934950663525226,
          -5.685557545108598,
          5.285529889932669,
          -0.2729015851981079,
          0.6643884295145579,
          4.768960821058796,
          -203.04294343499942,
          0.26806579585687657,
          1.0902704499051805,
          -0.030020428217176875,
          2.4963918886370453,
          0.5264997353204005,
          3.7382054153489284,
          47.50956652085835,
          15.882421307784298,
          -0.3592248421324816,
          30.79107147526346,
          0.2943416925752587,
          -1.0209746524542214,
          -0.8309660564676384,
          -1.4088649425156827,
          -0.3923861412522595,
          1.0135079964187974,
          -1.1996883441065265,
          -3.6156705031998397,
          0.34929384143186265,
          -3.427139238329016,
          -0.8772746544360548,
          -0.9283462996418371,
          0.7182195519711055,
          -0.16924583206322769,
          -0.3076465759097068,
          -0.4697675681198965,
          -1.0485666893833108,
          -0.7764910534173606,
          -2.699191670932568,
          0.07129920101899516,
          -2.4927546846166617,
          0.04797465836164408,
          0.7732086124641803,
          -0.9538547440003957,
          0.40582244298033654,
          -0.7031208686203647,
          -1.025874336316052,
          -2.3820908756232453,
          -1.5449338406069792,
          -0.5058972410500965,
          -0.7887672607998883,
          -2.195025005049348,
          -0.765915775861003,
          -1.0073649167258873,
          -0.7505627184305128,
          -1.0548943523163812,
          -0.9164646588745512,
          0.3943095870103912,
          -1.0524118489616394,
          -1.0048682987541626,
          -2.5837827338334782,
          -0.1289149651632701,
          0.053747804429236996,
          -0.6117119131004376,
          -0.13137953735367167,
          -0.38566709393249476,
          -0.8151528076186477,
          -0.13167916813446662,
          0.7883346198693691,
          -0.7328591275211154,
          0.1566803963981564,
          -0.0013282696566926377,
          -1.0251661514260988,
          -1.0363140863654046,
          -1.141399097205192,
          -1.9847081634547161,
          -2.232429807634123,
          -3.0774917342499437,
          -0.7997492311598088,
          -0.8729684736969997,
          -0.7514261121876666,
          -0.37837907240838087,
          -2.553173683421981,
          -0.349622501273493,
          -1.2285982089677336,
          -1.16072729668021,
          -1.0303247805486593,
          -0.8876836189507068,
          0.09687006445196822,
          -0.9770496967927261,
          -0.8842615916196959,
          -0.7612878678809696,
          -0.9199475956586355,
          -0.8613871566783379,
          -0.9738013115176576,
          -0.9498472643444513,
          0.19100760741710676,
          -0.24655298851670251,
          -0.9051157932767454,
          -1.9140915265394673,
          -1159.3581861680345,
          -2.220983075593816,
          -1.0907617681297848,
          -0.36094594763967525,
          0.9168821267102675,
          -0.9379188573697053,
          0.0017516678127259286,
          -1.013477012275829,
          -0.3696417916012609,
          -7.245471294506235,
          0.40575098027771317,
          1.1290918437568198,
          -0.00450278632198467,
          -0.13631953378370296,
          1.4372729370328567,
          17.415624731476633,
          -1.0534232477582879,
          0.6996308464550367,
          -0.1392434344204223,
          -0.6632848427806662,
          -0.6921093445111816,
          80.69683130413812,
          3.184077560337678,
          -3.050291184333758,
          21.855981642359435,
          0.627450922721558,
          -0.098751228281627,
          -2.708469579272373,
          34.96258443950393,
          4.756418562959368,
          6.166329030943341,
          -0.8946906268659254,
          -0.9960981440836725,
          -1.1770024906840963,
          -1.1052999886542645,
          35.824177749739384,
          -0.3659984436333028,
          -0.9614584555952799,
          -0.747847929252581,
          0.70205850862048,
          0.8731727152424824,
          -50.49790784061206,
          -0.6292752975623,
          -0.2412676673557734,
          -0.9591323643598108,
          0.021287047964239053,
          -0.2841064156333015,
          0.14426568167321016,
          -2.6799194192771933,
          -0.6656863639585043,
          -0.2537275039904686,
          0.16932734496510501,
          0.7120798363085583,
          0.09798291937667478,
          -0.799506670477644,
          -0.6788024181037475,
          17.815394496291418,
          14.831289610250447,
          -4.236629453487595,
          -1.6081333159899067,
          4.153882525786345,
          -0.6874417221687201,
          22.88462526853363,
          -0.6689986227831003,
          -0.1439179667695552,
          -1.2048432637245128,
          -0.9794607454480787,
          0.7660997079888632,
          -0.43090056642685576,
          -1.1630126810578656,
          -1.1268924564248728,
          -0.8931382304852676,
          0.7573384162744734,
          -0.6900284399102139,
          0.019289459644674697,
          -2.95474938872735,
          -0.697000365712536,
          0.5789270281228563,
          -0.0008222696210054004,
          -0.6702751164160842,
          -0.6422047929771854,
          -0.8850518167969039,
          0.6681690148150587,
          0.6976161289189371,
          7.2071581818951245,
          -0.8824577389460563,
          0.6510882782446747,
          -1.0498967986311518,
          -0.07506337056247164,
          -0.9682409301070757,
          0.5277320618272205,
          168.2100063637621,
          0.3505422991801388,
          0.7922207590433162,
          -1.3276580179512858,
          -0.28781418519935303,
          0.5726862850674405,
          -0.0622108328369005,
          -0.12615603157676347,
          -0.7687371590558526,
          -0.6497012672079568,
          -1.125392655800183,
          -0.8609815962777447,
          0.6164548676973853,
          -2.4284472052059307,
          0.1337428992873373,
          -0.43651421878410157,
          0.6328211707534427,
          -3.1857776720926267,
          0.6561536557086528,
          0.8114815474168352,
          -0.045668638355337535,
          -0.4335975211373268,
          0.7304090116271639,
          0.42358136230486804,
          0.6170282260271603,
          -0.44420103027350594,
          -0.16064343281050153,
          -2.6251146689577687,
          -1.099360272320891,
          -0.8977026574649175,
          -0.4428864506026986,
          0.5578696601063662,
          0.02905100119981245,
          0.411721545499846,
          -0.382093855965534,
          14.145536080835905,
          0.7246061615362371,
          -1.496716143023255,
          0.1552928344722348,
          0.5080470053882643,
          -0.35035485407729267,
          0.6724390428180943,
          -1.0710261427861345,
          -4.3162806973269525,
          -0.626111450487528,
          0.6054208553607925,
          -0.8886982714498249,
          0.6608278477631851,
          1.018721720144309,
          0.644266216607688,
          -1.090006858383083,
          0.18716768029130568,
          -0.11959019309859215,
          -0.04929848844730114,
          0.7784696791334907,
          -1.0763327978792963,
          0.43783372041845714,
          -2.1030257439068807,
          0.20425270135493032,
          -1.367968229757794,
          3.7227113427500336,
          0.8500998066568553,
          -0.8184261053628502,
          -0.6907941362214169,
          -1.8842795426781487,
          0.7628013435284349,
          -0.8276885003586191,
          -0.43753062942563054,
          -6.029648585664212,
          -0.6327837551970013,
          -1.089458411335917,
          -1.0875260037275596,
          0.7200070128720196,
          -1.272460720667798,
          -0.43638871852892336,
          0.685303531100981,
          -0.23347416833516185,
          0.4241729570705136,
          0.6877936620785051,
          -1.172239705471636,
          0.7261542816678846,
          -1.1070384404230826,
          -0.9877711909943772,
          0.3752869551186929,
          -1.162078900436077,
          -0.7089509939349283,
          -1.1051223823815883,
          -0.28966532223818275,
          0.6643093475948123,
          0.1693235467304124,
          1.0675885061850647,
          -0.2375348772554794,
          0.6703413570277806,
          -0.7991301963331091,
          -1.1106659904393026,
          -0.7064107724061373,
          0.5372418324397825,
          0.6906756090709132,
          -0.9001422751331265,
          -0.4398108618426496,
          -1.103112558760978,
          -0.6886598080883477,
          0.8315895669248885,
          -0.7926626741450191,
          -2.4574746503500884,
          -0.7046326462066518,
          -0.07156940035392709,
          -0.852164666381358,
          0.34618470370935095,
          -0.6668122068189901,
          -0.3555411471755225,
          -0.7081980487192877,
          0.6739808628191333,
          -0.5953777924033067,
          -0.929407109326549,
          -0.2812653137934576,
          0.7181401010883071,
          515.7331955191316,
          -0.3495078190090141,
          0.7820262126624877,
          -0.09675370448711308,
          -0.35618248526163654,
          -0.667978191089741,
          -1.1646753402992536,
          0.7365631802716324,
          -1.4299094645729247,
          -0.6600018766532649,
          -0.7020404006708609,
          -0.34517404311715494,
          -0.16158399311310545,
          0.7054598363542076,
          0.6502160242483317,
          0.7020219709512521,
          -0.4347380355727214,
          -0.15558417045250142,
          0.644360284691968,
          -0.6582376531625206,
          -1.2200637036957804,
          -0.750506352680101,
          -0.4115432888050619,
          -1.0658819178422452,
          -0.36003290147855244,
          -0.3482912910256327,
          -0.5778790116498124,
          0.6893554250547778,
          -0.33058199307427416,
          -0.6303587387273867,
          0.661649176300211,
          -1.059870357992562,
          0.6377154412994667,
          0.6665232990003931,
          0.6432390486943916,
          0.6411392483492508,
          0.6484934276991049,
          -0.6602211439822634,
          -0.350301620440493,
          -0.7075548074179575,
          -0.4472707805216178,
          0.692563037777794,
          0.8008157988361884,
          0.12658876011105383,
          0.6439238450399133,
          -0.4405578162508835,
          0.7070223225068708,
          0.5107744786123943,
          0.69613947256115,
          -0.32492899567159966,
          0.7712023793897838,
          -1.1343148905368041,
          -0.6088632126099941,
          -0.09223622814294578,
          0.2686399332255004,
          0.6914878614845322,
          0.6609850598992295,
          0.7499636361957824,
          -0.44136707089535776,
          -0.8790100196588584,
          -0.9120761921938457,
          -0.23114511048388114,
          -1.1436803961244517,
          0.05972563006078134,
          0.7312365295610102,
          -0.27014364247316136,
          -0.2795677224549201,
          1.0049527508354608,
          -0.4409657567738625,
          -0.9946680112696189,
          -0.3003592284226582,
          0.7093844268487806,
          0.72130297992014,
          -1.1156482636827567,
          -0.6587775019835415,
          -0.5754792614382537,
          -1.1745817936604752,
          0.7898488566507371,
          -0.8149605827177214,
          -17.43566563570741,
          -1.1546473041237522,
          0.9978101528666604,
          1565.3639330571445,
          -0.23867672367044573,
          -0.8898469002314225,
          0.38710950672952166,
          -0.5754725884424521,
          0.6944198093582405,
          -1.1742716162552003,
          -0.2327597790861861,
          0.6596327527536019,
          0.73726653427649,
          -0.30076373642706494,
          -0.723061016972438,
          -0.09275435819836998,
          0.9954301967729395,
          -0.35697728916100385,
          0.37486194417114654,
          -1.0632371437111579,
          0.6497833146295792,
          0.33193580969815256,
          -0.6608280989161718,
          0.7772000492779799,
          -0.8834440601981399,
          -0.7174402908220767,
          -0.8806948836294889,
          0.7078011464149238,
          0.6174768823658922,
          0.7025633392710549,
          -0.6690012524034938,
          0.11382827395776315,
          0.04563509545841125,
          -0.6771541227472802,
          -1.1427194640820204,
          -0.6832921405394056,
          0.11475344875883237,
          0.7610813315768329,
          -0.6751663795108197,
          0.5681686480160925,
          -0.4038071147379256,
          -0.7100989637927564,
          -0.7950625801889247,
          0.536178222244026,
          0.6379131424581618,
          -0.413270854530878,
          0.08011609548750442,
          -0.3025167031421495,
          0.00602789013602362,
          -0.7957751223782142,
          -0.6853290903737099,
          -0.7086003133220972,
          -0.15245900530276188,
          -1.4393802129120532,
          -1.6942708681469656,
          77.24124796953647,
          -0.5500316957627687,
          -0.17228863935892555,
          -0.8739619786304931,
          0.7575053498859797,
          0.6513839799652835,
          -0.9861034709801446,
          -0.15683977460790036,
          0.04461749705676605,
          0.7098348411656704,
          0.7022276408817637,
          0.7882797052910603,
          -0.9352628255076665,
          -0.3467126158564615,
          -0.6590058755314663,
          0.012642893868321715,
          -0.33858896838663133,
          0.7662050169333802,
          -0.9485570657016127,
          -0.8490833617966417,
          -0.2916658999300732,
          -80.4339261647587,
          0.8234357331114625,
          -0.36955224210009985,
          -0.8014472287029403,
          -0.16563015666534736,
          0.7206094970462985,
          0.6603413150099143,
          -0.5482990004529479,
          0.7747485619736582,
          -0.8299242229376872,
          -0.5445395690330052,
          -0.48777244061419833,
          -0.41773378025569186,
          -0.36200016227857607,
          -1.3607704147577924,
          0.08954566950742664,
          -0.1927904516104267,
          0.677275958650491,
          0.8484930558666781,
          0.017507681749216724,
          -0.2844075803461768,
          -13.416277121142231,
          0.590255240166644,
          0.09651831552026796,
          -0.32295993967228886,
          -0.19814962763528293,
          -0.5096092952619927,
          -0.46527179069055397,
          -0.06138168740419476,
          -0.28282506068847907,
          -0.1615036582502368,
          -0.9302511627964148,
          -0.00306864760329603,
          -1.062343703698872,
          -0.8809872670226785,
          0.052093848250493985,
          -0.2824238228083104,
          -0.21446241193750976,
          -0.027965505345297546,
          -0.2682609396749683,
          -0.5555943785458487,
          0.6649279717275325,
          -0.485737738753589,
          -0.8998433224620351,
          -0.1488943059145398,
          -0.7093923118662218,
          -0.6987114104935681,
          0.6526737811496729,
          -0.3046234424146014,
          0.6975526292823934,
          0.7040474731330681,
          -0.30393488388425144,
          -0.7824473875354281,
          0.7365123100635497,
          0.7622009038427496,
          0.6477711187483742,
          -0.2694027403332458,
          0.7450337832559658,
          -0.9319088347851108,
          -1.8789608947656666,
          -0.3073829447057432,
          -0.702967245883164,
          -0.262451970915231,
          -0.15381136875937168,
          0.6514836799065626,
          0.6870981241699275,
          -0.3019539862444971,
          -0.6826103899239474,
          -0.4802125239476453,
          -0.10618881159689597,
          -0.43817875333471723,
          0.6816055973714743,
          -0.9885267716569399,
          0.7139380939061507,
          0.7605082909249516,
          0.6945713309028334,
          -0.30269999468395103,
          -0.15349221188266068,
          0.718321408788697,
          0.6688814411379858,
          0.7633241198644511,
          0.7171553097359092,
          0.7579902185903099,
          0.7441577504623381,
          0.6794894192584291,
          -0.10142015816260821,
          -0.14923872214176426,
          -0.3029645664612009,
          -0.43410582214119814,
          -0.9822784440802199,
          -0.32552584008998664,
          0.7017563878598804,
          -9.70583369412631,
          0.7588196521620116,
          -0.13981112793128933,
          -0.7147552971093181,
          -0.30803958160536216,
          0.7035001581103589,
          -0.7010808595267848,
          -7938.130098633147,
          0.45974216070559526,
          -18.275046451382302,
          -0.32171463377013093,
          0.7024879177546506,
          0.6979498710654651,
          -0.8041130104756835,
          -0.7169369316107261,
          -8.749323660077565,
          -0.06103666696766272,
          -4.601248880215085,
          0.7183557721930712,
          0.7167865109217655,
          -59.723013428943055,
          -393.2541840122921,
          -0.15176296699187872,
          -0.6038418283372557,
          -0.26059315102732566,
          0.6478302013176198,
          -0.7714287639228314,
          -0.28297829792620266,
          -0.2762460071378356,
          0.6340049979522795,
          -88.0653981845922,
          -13.37994851518137,
          0.7514014114238561,
          0.7055110453944434,
          0.7778196337068337,
          -0.7288622391471438,
          0.615261642631383,
          0.7639964006683609,
          0.7144912303051597,
          0.681899070640443,
          0.09525530794856248,
          -0.1540288164102061,
          -0.2661782437326536,
          0.7578996697017691,
          -0.7546932314912126,
          -0.18107995796464194,
          0.7026454836999926,
          0.6363125242564145,
          0.7806762032458866,
          0.6394105471628642,
          -2.3578682079593545,
          0.7041476228364422,
          -1.0264018306792586,
          0.789019194373467,
          -0.7003132951891766,
          -2.2299937846352478,
          0.050528923437549576,
          -0.33601920701224847,
          -0.3470048172193788,
          -0.1851623334802653,
          -0.9015703964402942,
          -1.1357354067977674,
          -0.6144404078210004,
          0.6405042576283201,
          0.07952924271528666,
          -0.6303405817264215,
          -0.4439939882302767,
          0.6581606908620203,
          -0.762743124884647,
          -0.6146297706025325,
          -1.391435621089771,
          -0.7722375842097622,
          -0.1569676677843655,
          0.7647500639662802,
          0.6701302986129973,
          -11.12844305930635,
          -0.7081853066304481,
          -0.31170221861757164,
          -0.7315865989085133,
          -0.11337062678216356,
          -1.3105323552524069,
          0.6710154597997712,
          434.99567112835985,
          -0.6999069346307416,
          -0.3779821005520422,
          0.7888162006773908,
          -0.269085200298695,
          0.12425228024279548,
          -0.7850124479085533,
          0.09389754191224392,
          -0.1544459424146949,
          0.7190538611605326,
          0.6700366024415867,
          -0.9292219550040247,
          0.6741969700396738,
          0.7280258199780435,
          0.6872757929489607,
          -0.3373182642104639,
          0.7541487012323892,
          0.649161795682825,
          0.6466748528976931,
          0.7831583520476301,
          -1.7894742987490289,
          -0.8208998852967789,
          -16.257521266459804,
          0.208972223864683,
          0.14543565591875252,
          -1.375750416832056,
          0.668944256682459,
          0.6531622452175256,
          0.6737669538743353,
          0.7120807259864896,
          0.7246376988354961,
          0.7295006792968929,
          0.7757300349810318,
          235.22715078380548,
          -0.9122761716180015,
          0.6666098966855609,
          0.759926684828542,
          0.712994840118811,
          -0.915951600889857,
          -0.6424193570453014,
          -0.30760738598622905,
          -0.19236466054029347,
          0.7105940968811912,
          -0.65386613261631,
          0.5111033645138295,
          0.765437889672206,
          -0.16603779531130455,
          0.9011630727250827,
          0.6838053639103574,
          0.7102185132287286,
          -0.626984968731892,
          0.11569398202654986,
          0.7445421368058703,
          -0.19253324003657146,
          -0.625980812274278,
          -0.6136526195180013,
          0.024296570710658164,
          0.10809794855300842,
          0.6212446402326913,
          0.7189634125561094,
          -0.9947698711103261,
          0.039436052516470234,
          0.69181326302036,
          0.7116910561876165,
          0.6845750217095727,
          0.9853952834227131,
          0.02816060610393007,
          0.6979759919113661,
          -0.0910097026394318,
          0.5099702062814709,
          -1.71970134261992,
          0.4890677657695141,
          -91.30645123526524,
          0.9368165910605276,
          115.21542848530744,
          160.32045277048937,
          1.4112883158843075,
          -1.2098817733049596,
          0.6757694166335318,
          -0.7951760176479974,
          0.8268690259869912,
          0.940641542167022,
          0.9405358545653175,
          1.2072200364585572,
          0.6610321666365817,
          0.911352773981342,
          -1.242292718249676,
          0.5575071192438518,
          0.10956387890795075,
          0.6287674182011419,
          1.2173814584466263,
          124.29375350499691,
          1.2240118410106378,
          0.9022482013554135,
          2.6869662226082762,
          7.456908889956844,
          0.6373656430976019,
          -0.6404148416533667,
          0.5503379543042252,
          0.9638531692210198,
          -2.9567489935745286,
          2.786280289159577,
          0.4556310043064507,
          -0.8826669912806919,
          -0.6710363050965016,
          0.962211369923061,
          0.4945973349294849,
          0.18352112351353758,
          0.8913805276592371,
          -0.7059734617384497,
          0.9037884348084412,
          0.1314798242085497,
          -0.09086967733497511,
          194.75385294080164,
          0.4477469503806653,
          -50.0610620795564,
          192.96977997939928,
          0.8094680577103286,
          2.6290971204459184,
          119.82132884180169,
          -1.6995319240034918,
          -0.5419245014314669,
          -4.855299307720173,
          0.6818405347949743,
          -0.6776596020897288,
          190.0186731624398,
          -13.131235344409873,
          1.0664703727141176,
          1.1067368723603497,
          -45.85305199612054,
          0.242586156748246,
          0.4794879439990292,
          -24.612733938164453,
          0.041698563472245244,
          -3.2711546148555595,
          -0.9090304207051405,
          -0.7153475557911328,
          -106.26307624949175,
          -1.1462193460172716,
          0.10883806896871537,
          -0.08717841382991297,
          -0.8186917583255684,
          -11.536121479861723,
          -0.6968029344079701,
          0.5211884359572644,
          0.5543753739928594,
          1.006751243750371,
          4.104432524621383,
          -0.09813582029310836,
          0.9591010349316149,
          -0.7632315559218518,
          0.12137276997977688,
          1.293158951879373,
          0.5271327421839707,
          3.7077970494653463,
          -0.09905248883532072,
          0.691355712334894,
          -0.08973366310496624,
          -2.2557529196187796,
          -6.532327443471026,
          0.505833532467615,
          -0.6981825479255596,
          -1.0160111310412172,
          -0.09105556127846409,
          -0.6604449092370966,
          0.9468302168367481,
          -1.0289327800812917,
          -1.0227920216759427,
          -1.7476550839175173,
          0.8159495544004706,
          -0.6805663378422873,
          0.6949547263081297,
          -50.25173743007755,
          0.5644755055670433,
          -9.436887962073769,
          -5.909571490807977,
          0.29737990643304,
          3.1963328694517634,
          0.8913851990566132,
          -179.25044204918106,
          0.13999618522513665,
          -1.7375397806309443,
          3.5178463610465536,
          -1.3178411638524103,
          -1.0372751562191915,
          0.5786992226323581,
          0.45050635608193407,
          -2.6875605054563714,
          3.1205898026889143,
          0.28459789023002485,
          4.287440510422494,
          0.08052751077757896,
          3.921130777970739,
          0.5335865489150389,
          0.9826432542749386,
          -100.72999359127074,
          238.74483147941805,
          -0.8336849449982013,
          0.45808568324263493,
          -19.01220318419145,
          -8.69433322562833,
          -0.1442057001718577,
          -0.120131575377317,
          -41.31324473410645,
          1.0953306711750757,
          2.7467414372373438,
          109.18206779074681,
          -12.539626947180626,
          -1.7772802792731268,
          -4.412275649606041,
          0.5706960059544591,
          0.5219422422928074,
          0.7351505717464764,
          1.1899845192983252,
          -6.5303368778926405,
          0.08893873547771226,
          1.0803354288310318,
          -2.7595535358246575,
          1.6580187040437657,
          -0.14085506178566506,
          0.5376698410772751,
          2.338712312922427,
          -0.13432256715895563,
          112.89339357462387,
          0.5658602888422039,
          0.5059022171290987,
          0.5016098117530124,
          -1.4493523869745648,
          1.0755239823274105,
          175.23471225986398,
          28.448288389351937,
          0.45982092953433407,
          -9.276350212016004,
          -15.228378037760898,
          -5.316965329862631,
          -26.677917950785215,
          -26.939425732076206,
          1.2727307666294778,
          1.222544671587016,
          -7.397875238061206,
          1.317212607501302,
          -0.6190711111528259,
          -28.885689745386635,
          -21.85992275219452,
          -3.606630679237663,
          -1.2259334647500055,
          1.4219875923867542,
          1.233973941937981,
          -3.1442091000299373,
          -2.5129590502812147,
          0.41517333795946215,
          -6.170230225357621,
          -9.26797929264945,
          -2.810852540866697,
          -24.739909635734744,
          -51.36678940223056,
          -12.945299358017683,
          -0.7742294342029173,
          2.552061239628143,
          -4.006483381755016,
          -3.726354145646509,
          186.253169127381,
          -4.430523071846846,
          -0.2579792426480822,
          -3.3944206066669285,
          -0.1788933914868276,
          -0.18239407413863665,
          -1.1720233249920082,
          -0.12048077897120882,
          -0.22934557738171574,
          -0.9713217933620167,
          -0.2618772143546341,
          0.24082654246785823,
          -0.8957008753928437,
          -15.818265947573469,
          0.7322395179037781,
          0.1547385495232478,
          -1.058449344865925,
          -2.048411915848602,
          -0.0522455572482906,
          -2.7044435349086076,
          -0.17625953869088345,
          -0.7276381404313539,
          0.6573798272985835,
          0.6467404790799336,
          -0.2607980478652066,
          -0.05689620205294312,
          0.3882563520814302,
          -0.18889466081411113,
          0.2525277713815994,
          -0.1481099823589273,
          -1.3544513248791519,
          109.94142914070127,
          -0.021361889644187088,
          -0.10932735229019944,
          -0.054592767714948726,
          -2.203563300336876,
          0.5427660116097148,
          -1.2772297647311444,
          70.49651478901067,
          -0.17698693877118385,
          0.04500744667699901,
          -0.6678028670144286,
          -0.7351884248041858,
          0.5696240951774254,
          -0.006918269859537764,
          -0.1709094233582309,
          0.0388823005625017,
          -0.17830246337206798,
          -2.004630640536779,
          -3.2384582188624877,
          270.7630253124953,
          0.22016432288042254,
          0.2132612926100859,
          -0.023475722133950626,
          0.3248980094941763,
          -0.5145908782418753,
          -1.9053740653823272,
          0.5081274833378641,
          0.07007393182938047,
          -0.014367292859977716,
          -1.1509276837421303,
          -0.011216506488928923,
          25.853511365141966,
          -0.03216198022810721,
          0.08170423360594209,
          -4.556895968233403,
          -0.6505911120074823,
          -0.006107410102801575,
          0.5432652531792032,
          -0.06198011991738843,
          -0.05373265409182249,
          -0.041557753379805384,
          0.6663832098483091,
          234.85202005028353,
          0.4755864347366068,
          346.0256747340717,
          0.5979565092190018,
          0.6042417142346603,
          0.45629534724006443,
          -0.035908352760730976,
          0.5738815222048518,
          0.42556895198089767,
          -0.04193751669280707,
          -0.06179909507847056,
          357.8537919496729,
          0.5793516983340212,
          -0.05142270889077289,
          0.7795517999853708,
          0.7794936183289691,
          0.7201282195760698,
          0.6661435546979183,
          -0.5188755505921897,
          0.5404851603869067,
          0.47875589999894513,
          362.3426815169066,
          0.5805627909100413,
          355.5160958900512,
          -0.05997946164703585,
          -107.54284017301681,
          0.5757759538461561,
          -0.03338098927678188,
          0.6078961254277389,
          0.5006207785890499,
          -0.052472227955403655,
          0.473878779986479,
          0.0029947378923322163,
          0.7638581335348115,
          0.3368166727344987,
          0.002631868111477999,
          0.46041476331882825,
          0.6669858811603601,
          -2.9197212570271747,
          -0.025130031983423624,
          -0.03364188355826216,
          -0.05284016556697184,
          0.579190276203953,
          -0.0629232997755795,
          0.7307359499384064,
          0.45916094808501284,
          0.4704063767524082,
          -0.0519900447312477,
          -1.6501562900519786,
          0.47561149280816223,
          0.5753028973784331,
          0.47355062974219936,
          -0.019730866412603895,
          -0.044972672919107996,
          -1.3606065364236044,
          0.46296760956158167,
          -0.058834800883203135,
          -0.05328409659578404,
          -0.048766079483813195,
          -0.04346807106693067,
          -0.05847403111110828,
          0.4602222605752164,
          0.4549956963973499,
          0.6559765873133525,
          0.42583051947657863,
          -0.6219212995607725,
          0.5632138378822815,
          0.550724563691836,
          0.6588798619240444,
          -0.6312043856185734,
          0.5470184780993435,
          0.6475932102540966,
          -0.06093334879226817,
          0.5733230575570466,
          0.5562901642243345,
          0.8695551320440591,
          -1.6110068170235294,
          -0.06133596232068398,
          -1.097092397205963,
          -171.8636611361264,
          -0.8259615423227357,
          0.5457396975705293,
          -1.0180535246965476,
          -0.05885463335164435,
          0.46735702011700336,
          0.8653977761721053,
          0.4901904856508904,
          -0.5727046811293791,
          0.5449211138499989,
          -0.8417820090104288,
          0.558071244256592,
          0.5212621492219783,
          0.5200049822966198,
          -1.7400313745309537,
          -0.6826102623142735,
          0.5358715887355704,
          0.645983473297496,
          -1.671820954106359,
          0.5811443047395508,
          0.5468842059923911,
          0.46834869513361754,
          0.45332154184487056,
          -0.769361282374327,
          0.5285550695156485,
          -3.859964417729538,
          -15.19545620271984,
          -1.9658939606733825,
          0.5472726257621056,
          0.41262316974479746,
          -0.45169639000739953,
          0.6601389185015402,
          0.7257843122758321,
          -2.6323673108712358,
          -11.062550881523716,
          0.49640028586481694,
          0.5447661486019766,
          -16.00642521965977,
          0.5436140645536067,
          -6.141123747664383,
          -18.02423328639546,
          -3.7080668656568854,
          -0.6269060126394679,
          0.7159899849815289,
          0.5383899687223663,
          -0.7366444221170263,
          -0.5789216121406067,
          0.49579361472487354,
          -0.05595658420319792,
          -1.2750122295597681,
          0.5422604122865242,
          0.6633682814455546,
          0.22297518497523824,
          0.18548621435788282,
          0.0004195229714731453,
          0.24023570546960557,
          0.3527631705215135,
          0.043152382188913055,
          0.5620546209431359,
          0.9963796095810717,
          0.5213975292061925,
          0.5550857130747977,
          0.04077770671917302,
          0.3811234388481582,
          0.4159072138708302,
          0.54300009109135,
          -0.011334758292743755,
          0.12767704789186984,
          0.6907679030999027,
          0.06865091189830325,
          0.19496265340696117,
          -0.14801576597431593,
          0.8051805943880197,
          0.516357524599916,
          0.4821871098338649,
          0.3572027543192589,
          0.5982522205629492,
          -0.12185860955224782,
          0.4759891556384958,
          0.10289122033127142,
          0.4514862021201218,
          -0.3356845369991462,
          0.19605758794361772,
          0.32719775387859545,
          0.07633862980002237,
          0.5159018291169443,
          -0.04753546521214248,
          0.5496709563251381,
          -0.20517406260207122,
          0.4479718690628191,
          0.7854556376536295,
          0.4193413730047603,
          0.1706429376417982,
          -0.054455965629353,
          0.42646405675194504,
          -0.24263252287740678,
          0.22349930632086243,
          0.34015636039947034,
          0.05839069281527391,
          0.2248155597815489,
          0.23011465795724623,
          0.47260455107581034,
          0.3941254429157276,
          0.6569915209275738,
          0.493892779578482,
          0.519138083409603,
          0.265670837400252,
          0.37215571723373486,
          0.029671342535407503,
          0.198693287448905,
          0.7105094969636934,
          0.519785441637111,
          0.5189887480046526,
          0.41950281252561694,
          -0.3699256809529795,
          0.06298350960483456,
          1.0943794529816586,
          0.7036786651363636,
          -0.21912177556319407,
          0.42791157357322246,
          0.4773551720917142,
          0.552767395904439,
          -0.02283431422434246,
          -0.23426461514263852,
          0.4225939594774363,
          0.23236098500434985,
          -0.04633210062575098,
          -0.002074590275409673
         ],
         "y": [
          -0.58219942121599,
          -1.3732993219084535,
          -3.1019217241776817,
          -3.1805507067772836,
          -6.979352243145572,
          -1.339845932932653,
          -1.1570885642764173,
          -0.9445338650643437,
          -1.9217300517181273,
          -1.2074821010901289,
          -0.7208399466648868,
          -3.6304659796755483,
          1.5859670281695624,
          0.3711773124768582,
          -1.014463171741861,
          -1.1045691484624323,
          -2.8487302040093114,
          -1.089940115190656,
          -1.011446462949054,
          13.79541050254609,
          -2.673274103824754,
          -1.192644476940196,
          -1.868689751898385,
          26.82701990073013,
          -1.1401506979066682,
          -1.0038376950751533,
          -2.6540023443682346,
          -3.69017641114418,
          -1.0061169528941205,
          -1.9314392880290585,
          -3.091602947548469,
          -2.6646876552569894,
          -2.7356604116166237,
          -0.17499957952129716,
          -0.9904463352381562,
          -6.497394737885463,
          2.7027526568626286,
          5.722477733592303,
          0.4362964308497425,
          0.06209038736017547,
          -2.6851646326685628,
          -1.1420042498951948,
          -1.1142898934918688,
          -2.8061256649491653,
          6.611209667783516,
          -46.79128113068677,
          -1.3694729984480807,
          -0.03974855739253831,
          -3.7759045367698505,
          0.37174904332533754,
          -1.1699118801577608,
          0.16929172518767605,
          -0.0728248284185454,
          -2.7418625108742183,
          -1.1145442296666366,
          -1.9280223367203502,
          -0.5210206937204491,
          0.10438157992798072,
          0.09279042747742161,
          -2.9706311589203933,
          -0.9561550076060772,
          1.3929961377777624,
          -2.052367449724624,
          -3.0218814914794967,
          -4.272294965107534,
          -0.032760212551741504,
          -1.0987241143462743,
          -2.1337259386775953,
          -1.0012764421451328,
          -1.133002114082882,
          -1.3633910399630782,
          0.30780414904381326,
          -2.4773009733687847,
          -2.6826935589355965,
          -2.740591382691223,
          0.3841971169876765,
          0.9441189415804623,
          0.4583858211140471,
          -1.8840091069717393,
          -1.6524163417902733,
          -1.866602822116378,
          0.10063781378802845,
          -1.3780628645056567,
          -1.148526002741355,
          0.0908468246661493,
          -2.739680284821589,
          0.8778034653185195,
          1.007682997183074,
          0.4638199561775634,
          0.3844939378231979,
          -455.60279782730373,
          -392.3791784178328,
          -2.2067884508383466,
          -1.0126593157929593,
          -0.34908818130257624,
          50.88467934526362,
          0.24842189415194138,
          1175.520589818569,
          382.39006011848494,
          -1.1460126151596128,
          -1.7564266675951221,
          0.08760361692595128,
          0.8549035121684759,
          0.08740611119777288,
          -0.993105619423106,
          -1.3333127075272448,
          -0.07563467652403326,
          0.21183946988928756,
          0.20885028246393603,
          -1.137528368891832,
          -4.2903345566494515,
          0.10952127731509086,
          0.098435813994492,
          -5.227270085924129,
          0.934860303765743,
          -1.1375345427819845,
          0.12599124041346826,
          -2.073011773786936,
          0.37363938040951594,
          -1.0457313502434924,
          21.669347299898646,
          -5.149054269025415,
          0.21208292164384793,
          0.09262088427465962,
          13.594566218023743,
          -2.680700216856393,
          -0.9703786431561349,
          -2.9157979695647573,
          -2.1432478848206706,
          -1.2121320242428082,
          2.0030536588664143,
          1.9383653429845595,
          6.910957869059667,
          1.7608927181239582,
          -1.2160401883320233,
          -1.507556410471125,
          -2.4094291440788793,
          -7.0516349002848315,
          1.999723312622202,
          -1.1819573208688388,
          -2.208525731495828,
          -2.839388598549201,
          -2.55545192823836,
          -2.2297855677744898,
          -2.0373355741103567,
          -1.4324601542411537,
          -2.591120675164532,
          -1.8587109268504354,
          -1.2564991542606045,
          2.126403786502283,
          -0.3759938201177416,
          -1.1863889078443546,
          -2.289452157701906,
          -1.1328103621954233,
          -0.9560079277046106,
          2.0533062280280947,
          -1.107434354941706,
          -0.48905361205484715,
          -0.991063490174416,
          -0.4911401732623012,
          -2.1354091109630184,
          -3.249202760446832,
          -1.3058573979550758,
          -2.112454047192645,
          2.1600915994150833,
          -0.08060138237151493,
          -1.9365026099106895,
          0.9711059005262762,
          -2.1299750129687083,
          -2.8944192609007686,
          -4.229943432967332,
          -1.2247149757591982,
          -0.007545405195017471,
          -3.325845977039185,
          44.21626754976313,
          -0.9045402088578756,
          -1.0283681579207233,
          -2.755173427901886,
          -2.342669782702172,
          -0.41640706434047003,
          2.0793335198030523,
          2.1474669288144415,
          2.3741493059633707,
          -1.469847014117512,
          -0.052806471191916955,
          -1.335276715439569,
          1.8718338962033307,
          -1.369044324633614,
          -3.4274656662881093,
          -2.5250360703142487,
          -2.447587909776448,
          -1.1794571092237305,
          0.3599758923592008,
          -1.213406805703374,
          -1.0268310255510533,
          -2.5787529353756398,
          -3.369022397300943,
          -3.371499528433365,
          -1.3879589942949897,
          -1.9135450498536748,
          1.8341676158605684,
          -0.35770146608774694,
          -0.39861532946405637,
          -0.5446426603983913,
          2.1533466176856426,
          -0.05028502780802139,
          2.151272543823621,
          -0.9740944547960473,
          -0.007622978978882369,
          -0.4963877769875127,
          -3.960625120947659,
          -2.4807497913711773,
          -4.3088090999689275,
          -3.33223532858134,
          -1.002969151921687,
          -0.36803989623183836,
          -1.0728270049277306,
          -1.1953161055093176,
          -0.06049656171462124,
          -1.3923537154784313,
          -2.3168544806644444,
          6.933235730849066,
          -0.5750314311985926,
          -0.05584275902541762,
          -485.73359886604567,
          -0.6688666061333592,
          -2.0073076839969684,
          -3.8343524596223815,
          -3.5627404934746174,
          -556.4756656712692,
          1.7048515289654775,
          -1.4536648221421054,
          -2.661226343797309,
          1.9502406177183043,
          -1.0828433021639858,
          -0.894500620927595,
          -1.0698215928620447,
          0.3117560018466032,
          -2.27522653170034,
          1.8148577952285838,
          -2.259701879668861,
          -2.3336780340239045,
          -0.674024395550252,
          4.324157722336768,
          3.0984921134297463,
          -3.0204993118047865,
          -606.9883490572684,
          -4.575634629023783,
          256.7492177469163,
          -0.8024103061121957,
          -0.507731020414834,
          -0.5320224707296716,
          -0.46117161039072924,
          0.303376725328327,
          -3.989230231830071,
          -0.44387646438249934,
          -3.3632111346156295,
          -4.787719103370642,
          -569.2960527298127,
          -0.05292488671579136,
          -1.0377028845647411,
          -1.6951118890647998,
          -1.0398473295097412,
          0.0011698288353137003,
          -0.812803486723219,
          -0.048542145015076414,
          -0.07415741994437601,
          -0.36112135672323425,
          -0.12219685107550657,
          -4.561450748009569,
          -3.339739370422196,
          103.34886324936984,
          11.913604187966026,
          183.93721367445733,
          110.25465624174902,
          -864.917247590474,
          -2.7008558725409175,
          456.973797589171,
          0.2929933174984234,
          -3.2061273690885446,
          1.64210467367975,
          -2.8159603553582846,
          15.132404523435724,
          18.96436144451817,
          13.103501122805094,
          -1.1682168124711385,
          62.51459040531085,
          -3.5532605197274854,
          -3.992030307025304,
          20.599386906753093,
          -0.8877941174887563,
          272.77790271874426,
          -0.9051556047070671,
          -2.896992165844839,
          103.10144322067615,
          0.10716979900703336,
          23.86540292085728,
          71.35509076572117,
          -2.9992320597771007,
          5.821961873969396,
          -4.750432468940493,
          -4.136028890856071,
          22.29244049458886,
          7.708548747064447,
          -1.101655239382123,
          -0.014743618601335816,
          -0.03186544203505039,
          -1.698589239382874,
          -817.2327357993049,
          -1.4295331477155104,
          -1.2753199189087268,
          -11.245725631051632,
          -2.6901184216859355,
          -1.251126217616366,
          -1.454163887331185,
          1.4725352171241801,
          -1.1498694508389422,
          -1.0123710456979642,
          -1.992400015986357,
          0.040375952137918336,
          -2.7681704100978366,
          -3.1987075289000435,
          -1.3286534830062136,
          -1.0789544740226915,
          -1.7362904576308353,
          -0.23177018466932084,
          -907.5834640743416,
          -3.676140765769017,
          -7.3009567559061335,
          -0.22932563228109396,
          -3.4590481454080915,
          0.15627325089395294,
          -666.2339437864948,
          -1.3393482954581233,
          -2.8222976798072836,
          -1.2414996660193538,
          -2.7553828415827226,
          -1.674387789620904,
          -1.1349060832710054,
          -2.766207312546996,
          -2.9941354326756398,
          -2.807466468861278,
          -1.071859310690039,
          -1945.411596239216,
          0.1410002318004584,
          -0.9535750392093353,
          47.072783449924366,
          -2.7285330577955653,
          0.1734721667710061,
          -6.437227279611269,
          -0.42964007162578904,
          -1166.198164097245,
          -1191.2728281438974,
          -1.1510406026054687,
          -0.8407799227018178,
          -2.690749037446173,
          -0.0622703080712532,
          -0.04808062978413866,
          -2.7186974564910864,
          -668.7396727516485,
          -0.04601959866276794,
          -1.2505287443361384,
          -2117.8789004663813,
          0.1455784761209736,
          -2.931900688657663,
          -0.012128963797886624,
          -1.33606794394686,
          -0.6899216504337861,
          -1249.0755344706777,
          -0.9360476552958894,
          -3.636718254892183,
          -8.084517404895038,
          -0.05438803680568474,
          -1.4176778280036924,
          -2.5015971827387284,
          -1.3698458486943184,
          0.04080709015996303,
          -1.0658228526721651,
          -2.433025366638329,
          0.1512040874775682,
          -2.7582150692735716,
          -0.053523046674279484,
          -39.28923686326139,
          -2.0494570341356337,
          -1.2548795944231799,
          -0.05239946645680254,
          -1.2684421181725936,
          0.0361674239272731,
          -1.6565631297726628,
          -1.756527321426563,
          -2.0065153392276507,
          -2.4275835472521288,
          -0.9211423018396834,
          -1.2672834166655564,
          -2.4862034641697046,
          -5.134583131942706,
          0.017385108133650212,
          -2.1584981650548216,
          -0.05686681429207566,
          -2.3840608128027743,
          0.04182827261306923,
          -0.4720746847009321,
          -1.7928618070833515,
          -1.3717903917033991,
          -609.0467338463448,
          -0.8774827664808297,
          -2.079814356438205,
          -4.638217195841221,
          -0.05742798457924624,
          -1.0022544929929889,
          0.14572169682128402,
          -3.9463147538111056,
          -2.18017649845403,
          -0.6287164640699453,
          -3.818266918402818,
          2.3965448415644337,
          -0.03917244258702136,
          -2.474931907010679,
          -1.6076714169591233,
          -0.6056566773026648,
          -2.748555268826713,
          -1240.479815752235,
          0.23562004688944765,
          -1.2657930791650298,
          -0.07993101501546042,
          -1.061981199407675,
          -1.8197377824064884,
          -1.096537301908156,
          -0.3042564588723259,
          -0.8399452944908564,
          -0.9064494326095008,
          -0.9091943560279562,
          2.226963988602485,
          38.026153706703354,
          -0.4392543599656529,
          -1.3395270093352372,
          -1.8216499037728975,
          -1.525300719440565,
          -1.0835834110015372,
          -2.379000889295622,
          -0.8257952658566704,
          0.4956053370471254,
          -2.2449384265517867,
          -0.8723959647168374,
          -1.071411305280902,
          -2.7400271661910556,
          -0.3021949350376409,
          -2.8379147455921423,
          -0.9357784668339925,
          -2.273243473302431,
          -853.7444827369814,
          -1.130315435126802,
          -0.9431632666370722,
          -0.6887433824077865,
          -1.2895670147661806,
          -0.41802716801348966,
          -0.08824936560717389,
          -0.8683257863394612,
          -0.7110868832806173,
          -1.079819212738387,
          -1.187009886293886,
          -1.1173698429777867,
          -14.836558034261804,
          -1.7924712286885247,
          -1.0082668096434635,
          -1.8768624088290926,
          -1.2070871170595965,
          -2.4919288779193853,
          -0.2750087556023982,
          2.4610487973368818,
          2.354612116638575,
          -0.39150254184431954,
          -1.9806339310120982,
          -1.5001918920479096,
          -0.2947001677621732,
          -0.5584142729030444,
          -3.504264000898403,
          -0.41000257639779314,
          -1.7063603519415076,
          0.06805569938252953,
          -0.5415595791013702,
          -0.9828167968453433,
          1.8766018730477239,
          -0.4130446479973525,
          1.6539117516166728,
          -1.2092441584324656,
          1.3290041161926676,
          1.6319783816775062,
          -1.6865036467902963,
          -0.3915840525134159,
          -1.4934124718896629,
          -1.8385125508254816,
          5.431312754010816,
          -0.42358637812491085,
          -1.5154073128334469,
          -3.1046341402430278,
          3.571722439180739,
          -1.8320140031791987,
          0.16131207747331033,
          -0.5805079898157026,
          -0.38684922872022376,
          -0.7214125867043875,
          0.034111629712819724,
          -1.0207505190805954,
          -1.916674207938313,
          0.08393550200716038,
          -2.8843077124081664,
          1.9865565947940187,
          0.20807322216153745,
          -0.5698625121985673,
          -1.408313213434812,
          4.115838008192454,
          -0.9268514529709211,
          -1.122755892677949,
          -0.3797180901867437,
          0.11488678302108657,
          -0.508979640940704,
          -0.5276377140633357,
          2.022526326321837,
          -0.26104643763567503,
          -1.0804937343255179,
          -0.6349558192506686,
          -0.20537176337245924,
          -0.31817609212181536,
          2.640414687305648,
          -0.2593636889445375,
          -0.41461802690387284,
          0.15633656780288724,
          -1.8533374349493523,
          -0.909488741429692,
          -0.6802949502480345,
          2.531948943883905,
          -0.2645646048134152,
          0.6742467446362198,
          -0.26330117671474307,
          -0.2689133824548731,
          12.012291762526832,
          -0.7915401531193327,
          4.260945900414724,
          0.6278236947704243,
          -0.2769756623838471,
          0.4647986447844774,
          -0.5510235936538255,
          4.5078283988799495,
          -1.4988267558232644,
          0.10832795209575596,
          -0.26827165944103604,
          -0.5410891372595081,
          1.0055857795523162,
          -0.6117163336082583,
          -0.2783798733436286,
          -0.2562077267505397,
          -0.2662702235959795,
          -0.4673476544918349,
          -0.41173642322258075,
          -0.37149666362249567,
          -1.0829859239326587,
          22.00428690874288,
          26.32740080094719,
          44.24749456696235,
          0.1547828942721638,
          0.0596413475651949,
          2.2117629650180923,
          4.294559367230089,
          1.3565847783570557,
          -0.05777871643078347,
          -0.05826921400589677,
          4.495726481916747,
          0.10980106787138133,
          3.5180380584451676,
          0.003964380722871252,
          -0.5350893512178847,
          -0.4559108494154291,
          -1.1415062740379245,
          0.4044035461244401,
          0.31646649111351166,
          -0.18529046396801824,
          0.1517705330763894,
          -0.019131006149569335,
          2.5023515660429707,
          0.30780698871882517,
          -0.4285179964611289,
          0.4822473931271125,
          3.9267243901444413,
          -1.0769312799199482,
          0.2416433881984742,
          -0.8951303553318779,
          1.2218977299348381,
          -1.0388939628159917,
          -0.528117697673645,
          1.7531691132240552,
          2.6572811679462274,
          1.8847718736683925,
          0.8499575979048144,
          1.2506366471519765,
          -1.0330868910903785,
          -1.0449021790856599,
          -0.2083023786660777,
          -0.7669879252459587,
          32.441248600529136,
          0.43815022116297264,
          9.982876187230152,
          1.2268887188739108,
          -0.43547407202539934,
          0.21035844732411413,
          1.705450584812287,
          -1.1731656140095539,
          2.2197042057853023,
          -0.2513744909701484,
          1.3334424942780543,
          0.47064413401222627,
          0.3804676379118168,
          1.2341854184189918,
          1.2522503743196636,
          0.9583956242664922,
          2.128528384271096,
          -0.6720538706315689,
          -1.346243725147869,
          3.3339093236967834,
          2.2585975225396973,
          3.9218821175823226,
          4.400343088803581,
          1.6912932943417118,
          -0.9659107682463816,
          -0.37797367509692203,
          14.194747095597227,
          -0.5371127519188681,
          -0.39588410821319414,
          11.374193618120836,
          2.499486349605855,
          1.9112138426779133,
          10.44368000222628,
          1.7800140335177153,
          -0.5022565981457787,
          -0.5172193137604889,
          0.23389444339872298,
          -0.7641556476582402,
          -0.21936464681052048,
          -1.1835528213874658,
          1.5509145708726593,
          -0.26296701633191066,
          1.944891572959793,
          1.3603222795745695,
          -0.5093293840022576,
          0.057330908211079556,
          -1.241328966651327,
          1.0098987856388073,
          -0.6407097514241384,
          11.966084589661115,
          1.2686989160114344,
          -0.28192317679924556,
          1.8188306927195348,
          -1.0923508386054053,
          -1.2163910822256103,
          0.14494871758840655,
          14.836607743707011,
          -1.4660778484209378,
          5.909460030265843,
          22.683128974683285,
          10.352853699904495,
          -0.47182621239213673,
          -0.4161474061706411,
          -0.43178687042729835,
          -0.29714256503822806,
          -1.4264933478157713,
          1.731818941692319,
          0.7049275520672713,
          -0.39258250917737664,
          -0.9233867720809262,
          -0.33075046271281394,
          5.092905359073472,
          -1.2435907720257264,
          -0.4579642475238777,
          -1.1538177802186178,
          1.126325611560703,
          -0.050148924883212265,
          -1.1984777356188547,
          -0.40868908117352937,
          -0.4494070502527157,
          0.08300217625820505,
          -1.2469351219757394,
          -1.201491119903313,
          -1.3150831935913736,
          0.9891781016292387,
          11.632302151057013,
          7.784241019880336,
          0.6349464712214488,
          -1.3294674274316705,
          23.498871697683896,
          -0.5404293834423932,
          -1.8487632697209861,
          -1.3396220733434392,
          -0.4772105268602312,
          -0.7446234853651035,
          -5.559840029693657,
          2.924060103379593,
          4.181133250962403,
          1.6209865762512694,
          0.34390206061235506,
          0.16273498573180434,
          -1.8128422384740852,
          -0.5105415611455519,
          -1.6846910113707991,
          -0.3404035851428686,
          0.057729053261876384,
          5.210346636036113,
          -1.3048226894677581,
          -0.7418752806944524,
          -0.5991083650893941,
          -0.49019806776914465,
          -0.5391331590860776,
          0.2747979256334827,
          -0.429212591157071,
          -0.5267134874450031,
          -0.7312217580373905,
          -43.47334878416811,
          0.6409585104909221,
          19.984400506699554,
          17.75262147684717,
          0.17228079369842098,
          2.4651173517138965,
          -0.14853280957044523,
          -0.7460277650538597,
          -1.8871711852815194,
          11.89085439629048,
          -0.9761388076153107,
          -0.6092629443300012,
          0.6807648150558336,
          -1.8335832725035592,
          -0.72823284250079,
          6.009911997661333,
          3.6966312751349646,
          0.3849795252002928,
          0.27273398210480226,
          0.41702818772282313,
          6.664661750772381,
          -0.35402702958988236,
          -0.5306425377557179,
          -0.029364609812502357,
          -0.8523125627757072,
          -0.7740543076467612,
          -0.27509201313258963,
          3.101730130361875,
          2.5692549995632628,
          1.252782429317353,
          -0.48173494583557325,
          0.7470201657683675,
          0.23912067381554056,
          -0.6780855592134076,
          10.980267866743276,
          3.8773963573450403,
          -12.448077777310035,
          0.41775432828831094,
          -4.412616795821427,
          12.316736440445446,
          -0.24807459915685687,
          0.1514247060349816,
          0.9972687370735231,
          -46.565145126315414,
          0.5567528050491595,
          1.179379982764395,
          -0.022905613362753874,
          1.8836194518990754,
          0.8352728982880689,
          1.4486765498588294,
          16.965124498569658,
          7.568911609314187,
          -1.0219760453491284,
          -242.03514348088999,
          3.9140549447554407,
          -0.4671636311450931,
          -0.2709641995629884,
          -1.1678750020702922,
          -1.2760114644492182,
          0.43307036508232155,
          -0.41965691582015,
          -2.5210068259116465,
          -1.0848562618719693,
          -2.651218684670019,
          -0.26726152516822665,
          -0.29145295391935766,
          0.37660149162181294,
          0.3963979831603208,
          -0.2668220973043536,
          0.13780473137188612,
          -1.058522003792273,
          -1.190458006882702,
          -1.9064702764866435,
          -1.1964173857863427,
          -2.0361727566401133,
          0.4343243810071219,
          0.4430113512174776,
          -0.3009635523435486,
          0.4547238209228097,
          -1.1532934644147494,
          -0.311992142082701,
          -1.9380675146917452,
          -1.6142432088915608,
          -0.15795893235463085,
          -0.3918219195247072,
          -1.696814638236097,
          -1.1515753512937217,
          -0.2738312480859339,
          -1.0400378381181632,
          -0.4511834692680479,
          -0.26278798465291836,
          0.7854642212929244,
          -0.4630599141255589,
          -1.7363341269395627,
          -2.0394062128439194,
          -0.44197178719158065,
          -0.9342142482704401,
          -1.028907899214242,
          -0.46058967222663116,
          -1.3545151307752759,
          -0.3730634532898293,
          -0.5024577892403994,
          0.3155444782417272,
          -1.120915590276767,
          0.40127965970256485,
          0.21773616731125645,
          -0.5722520274034055,
          -0.3856733202763409,
          -1.382422220811961,
          -1.096601196863722,
          -1.6357905606018375,
          -2.4033540303897682,
          -0.382779764368558,
          -0.41899226615387075,
          -1.2165695622331805,
          -1.2199026536767068,
          -1.9009752117894374,
          -1.143557171066624,
          -0.7297037045161561,
          -0.7599352701816315,
          -0.49812634242238807,
          -0.42486166909766404,
          -1.080355701033114,
          -0.45672800557575,
          -0.28169515263934297,
          -1.0566793214385488,
          -0.41410313759079725,
          -0.4104540163402315,
          -0.30638338442724866,
          -0.267312754292905,
          -0.02388754146433758,
          -0.38052740375105143,
          -0.4067266357576535,
          -1.0391728402623177,
          -313.0179094385322,
          -1.1349208396867472,
          -0.744139624608347,
          -1.1916655929525315,
          0.12904124088534463,
          -1.5699707687547453,
          -0.704008434177289,
          -0.43542782804196173,
          -1.1948881781330185,
          -1.3968123100445449,
          0.38461077110021824,
          4.559121368239534,
          0.7876174551072574,
          0.07593265868149507,
          2.752891525975418,
          9.450619677261006,
          -0.9987485943712442,
          0.9048836392684879,
          -0.5400159327192331,
          -0.9847902866903756,
          -0.7293407336616766,
          37.37818324091799,
          4.793006613373464,
          -2.4670864077509584,
          23.155036325030373,
          -1.0824307852717168,
          -0.174657573061713,
          -1.532608642134164,
          55.37916315914209,
          3.6416890712273835,
          6.834932547465676,
          -0.42714821292478583,
          -0.432170585543584,
          -0.49413563782285175,
          -1.3350924111891789,
          7.212153640744245,
          -1.2570011224404787,
          -0.9252883990563575,
          -1.0320815939227665,
          0.5351564154936603,
          0.6193498784299265,
          105.92987251359693,
          -1.0416105914127889,
          -0.3930615994575074,
          -0.3200070143222407,
          0.7774340969333442,
          -0.4874320122567065,
          0.661266409084712,
          -1.4314885512373206,
          -1.113385082138978,
          -0.42339499315228807,
          -1.1360775077724694,
          0.28563471685040076,
          0.1104178822230988,
          -0.2660555973033969,
          -1.0003133127415251,
          10.152455068126137,
          10.670067293752838,
          17.166746370486287,
          -0.8970474926747455,
          1.8827983194774225,
          -1.1605737328443888,
          52.126981055228725,
          -1.1188868963612402,
          -0.3778665373586406,
          -1.1744648175269237,
          -0.42735165831066685,
          0.875465560171126,
          -0.5956709733666771,
          -0.5833880966328859,
          -1.1459048084796335,
          -0.4266785884605647,
          0.41426472341036547,
          -0.9632580107591321,
          0.9710263931835185,
          -2.3900522446159527,
          -0.9480173888508096,
          0.8096539753780229,
          -0.039660071000328756,
          -1.2026883850526058,
          -1.077550930519948,
          -0.42080567210986575,
          -1.1001562432350218,
          -1.22019762614725,
          5.800452885117959,
          -1.1093745033255555,
          -1.1569503840352493,
          -1.200253497788934,
          -0.39882604225564744,
          -0.9168239496322613,
          0.43364459481489703,
          119.65180530075328,
          0.41998546890307953,
          0.2722083756314094,
          -0.9761568971228651,
          -0.40573479399444123,
          0.5862094127437885,
          0.847644409072071,
          -0.5570876157905603,
          -1.3543877470536712,
          -0.9451446673526488,
          -0.5732684337144632,
          -1.0681175540202799,
          0.3036756842586854,
          -1.9203558230087445,
          0.06726355621838709,
          -0.5748305242122321,
          -1.0881301341890104,
          -2.5671738857755924,
          0.783300545536706,
          0.5878091557897386,
          -0.5800024018542805,
          -0.6079838810875501,
          0.2417136879968378,
          0.18679833933785783,
          0.873001737404211,
          -0.5941420393332747,
          -0.20045576613608063,
          -2.129075002602592,
          -0.8917671598117588,
          -1.1434769520293842,
          -0.6192288129460807,
          0.7576372272501518,
          0.49884615515985253,
          0.46910124426047317,
          -0.7387360469178096,
          11.803044730282732,
          -0.9700112058196722,
          -0.8519348556630153,
          0.7366993761292915,
          0.4115114600923544,
          -1.2136289563693194,
          -0.9349454379685181,
          -0.5542835649849261,
          -3.0861434950284488,
          -0.9169571735991375,
          0.3443098695307964,
          -0.4222289768528533,
          0.38651056770887376,
          1.3935266935528265,
          -1.2873915870460542,
          -0.47220255148033674,
          0.8281188393316978,
          0.26438512117529755,
          0.3504375525446159,
          -1.003265285476952,
          -0.4699556716333507,
          0.0899782542018815,
          -1.6493170388562843,
          0.7248730668142555,
          -0.7410474979043978,
          4.790986696833533,
          -0.49442051055617026,
          -1.0120425733282068,
          -1.1284575280684976,
          -1.2921045397626256,
          -0.991973388318343,
          -0.9669957879727521,
          -0.613488247172998,
          -4.333625675724399,
          -0.92512594526073,
          -0.6227679513901005,
          -0.4718271540567382,
          -1.1847806745105012,
          -0.6218538653407452,
          -0.6072966282437348,
          -1.3050604232428697,
          -0.4288254047947541,
          0.26179927818846555,
          -1.1327346987656155,
          -1.2238142705312172,
          0.4695838976800079,
          -0.9318697279599996,
          -0.9332797284839073,
          0.2876971311454238,
          -0.5882745610546126,
          -0.9852160650612489,
          -0.6306466648357737,
          -0.4125356981622123,
          -1.3132496170932773,
          0.08272245628189356,
          8.649160502884584,
          -0.42385025578441454,
          -1.3191602483996403,
          -0.9473776739281764,
          -0.9414740694547484,
          -0.9786196671037842,
          0.7342500571729094,
          -1.3045685043272064,
          -0.38906034615489443,
          -0.6163565514731277,
          -0.6320206588227945,
          -1.0224957440585416,
          0.813281489880313,
          -0.9482183365289093,
          -1.2829188895750663,
          -1.0703162477234867,
          0.29940329004751565,
          -0.9937574594100664,
          0.11675427747198072,
          -0.9959819540349668,
          -1.2342079618979074,
          -1.0892615230743055,
          -1.1997454895830841,
          -0.35790666952688294,
          -0.408010590288913,
          -0.30206948884292406,
          -0.9539367696843908,
          110.1752403821558,
          -1.2786828794650344,
          -0.49275955217403516,
          -0.3833037723071154,
          -1.194697570781114,
          -0.9803486923587014,
          -1.217265252677565,
          -0.9795380632501353,
          -1.1658358818638503,
          -1.003216018840112,
          -0.9919077608948434,
          -0.24011248679959807,
          -0.2903320922791019,
          -0.8703517170550873,
          -1.353896689222064,
          -0.9806449489710302,
          -0.6148438503228021,
          -0.4708929553760619,
          -1.264470430885486,
          -0.9948454263294205,
          -1.0001276132312498,
          0.039291329612444525,
          -1.2134648328217927,
          -1.0076457038360336,
          -1.175911865252639,
          -1.2307965534814411,
          -0.21927204911339687,
          -1.034705994315738,
          -0.30596886713022825,
          -0.07235824345995273,
          -1.1454500191528962,
          -0.9993177884508279,
          0.15250381416151557,
          -1.1510350112420547,
          0.7290771895364846,
          0.5230416927788255,
          -1.268375962716616,
          -1.130056824870949,
          -1.2049358057575972,
          -1.0466082829035688,
          -0.6105773986732077,
          -1.1389976585930457,
          0.46564856371854946,
          0.7594860060742696,
          -1.1381759522212653,
          -0.6101743250908723,
          -0.9671993353373355,
          0.6807009477374024,
          -1.1471974883537583,
          -0.2746121053945052,
          -0.5055045586155397,
          -1.0750115042885682,
          -0.30893780717760916,
          -0.40791839711799766,
          0.23733067618586542,
          -0.8741149087417472,
          -0.9384267143481684,
          -0.7783281222415216,
          -0.6274474925850959,
          -1.1030816992334551,
          -1.1475462775698453,
          -0.40762704280630346,
          -1.1409781141695925,
          -1.2007258341788067,
          -0.5946641371190816,
          -0.4093736143658431,
          -0.300747651217383,
          -1.0111293415778533,
          -0.35567867896711247,
          -1.3238115166496998,
          -0.4004590251077881,
          -0.9993381991349877,
          -0.06583147716046854,
          -1.2725633820804254,
          -1.1461654786063877,
          -0.35223989690859303,
          -0.9568350580234851,
          -0.495937983689458,
          -1.0125341675788913,
          -3.242531437709926,
          -0.9608354466386894,
          -1.0085459374748993,
          -49.635492712105055,
          -0.2016500866246999,
          -1.119369490928434,
          0.41330396674677977,
          -0.35370020593581103,
          -0.9908428570205334,
          -1.1775321451620402,
          0.5644679446818772,
          -1.1693247832573341,
          -0.5943539862924815,
          -0.4002327576190852,
          -1.0235861689487273,
          -0.3842808328709893,
          -1.0110397492156349,
          -1.1985411467215543,
          -1.098254385531673,
          -1.2813114921432203,
          -1.2685685297513667,
          0.39736062555153845,
          -1.1266047915020343,
          -0.4922878694005489,
          -1.105732059770968,
          -1.082486364354477,
          -1.0993076837638167,
          -0.9969513768429937,
          -1.2638775592938738,
          -0.9941662687948918,
          -1.0053551925688426,
          -1.079110208578105,
          -1.028690782302855,
          -0.9972491920920888,
          -0.9284148028802444,
          -1.240387491758007,
          -1.0698572814523861,
          -1.0055756610050253,
          -0.9676788248362316,
          -1.1146982394695084,
          -0.34981897304850873,
          -1.09641792144488,
          -0.9348932460599757,
          -1.0962577832738847,
          -1.2580590542592807,
          -1.2151574556709304,
          -1.0516691221360006,
          -0.410761061984678,
          -0.99014334070845,
          -1.4660556981371637,
          -1.247956212319404,
          -1.0184324955916297,
          1.4119036674476122,
          -1.5187645127469471,
          -1.4367262992325032,
          12.973862666552687,
          -0.38740913228364876,
          0.8919948983897954,
          -1.040417230727133,
          -0.5645268039091281,
          -1.1474869563118597,
          -0.5203019441758279,
          -0.6383178280624775,
          -1.1838384048480342,
          -0.9873172822525861,
          -1.2221871394171622,
          -0.7913498337376464,
          -1.1506964234101005,
          -1.1738086497473608,
          -1.140633928142614,
          -0.9961451484084229,
          -0.4132837184055296,
          -0.565532370967949,
          1.7241790515733972,
          -1.4230956263127297,
          -0.4151763809607902,
          558.5985484275583,
          -0.49704235379842765,
          -0.30022023526710806,
          -1.4830356977255046,
          -0.6331328726843886,
          -0.8903365197045181,
          -1.2230103911071075,
          -0.42606953440556355,
          -0.4933134202620613,
          -1.3605388721618175,
          -0.4157320354686992,
          -0.342116039161217,
          -1.1759675982146498,
          -1.1629524160175881,
          -1.1153032023136855,
          -1.0563384044388024,
          -0.6258121561625717,
          -1.1789217372076102,
          -0.7723968875402628,
          -1.1626906826859174,
          -0.4150885430035088,
          58.438688055332,
          -1.245506225916297,
          -1.0617623277242085,
          -0.40233371347276026,
          -0.6149827647754249,
          -0.3803808024060858,
          -0.049868889009796025,
          -0.6416112399960984,
          -0.39765453204893664,
          0.9755080972521208,
          -1.2089227641819273,
          -0.9797012480490697,
          -0.9963689019826539,
          -1.0787294326656736,
          -1.0337725500738466,
          -0.4189431456630417,
          -0.6105647359540954,
          -0.6962111472939215,
          -0.3935530109161658,
          -0.36909530780794797,
          -1.2262630708391387,
          0.09013121247630251,
          -1.6078380048410836,
          -0.6228796091103099,
          -1.0772584396266045,
          -1.0282282210736045,
          -1.1662444650000112,
          -0.39987348568997233,
          -0.9814247904221084,
          -0.9837403738260554,
          -0.40396915972553654,
          -1.4045125748093927,
          -0.9349452297994297,
          -0.7552296611500002,
          -1.0834587219652418,
          -0.45553239343414176,
          -0.7805208788921595,
          -0.20927209099601196,
          0.37026184554108327,
          -0.4165636611119669,
          -1.0331089080988216,
          -0.3950067760507312,
          -0.6405082334270182,
          -1.217008422729297,
          -1.2091935246392322,
          -0.39903434843589713,
          -1.2126427659574253,
          0.15798610101748134,
          -0.3853963121257582,
          -0.620890827001857,
          -1.0300682161912973,
          -0.20410816437839152,
          -0.9278155760941222,
          -0.8513125966894073,
          -1.212694374742929,
          -0.39917706748933923,
          -0.6241255566448127,
          -0.9712526707229332,
          -1.1460190624193798,
          -0.784348331967776,
          -0.8718762129466872,
          -0.7509466595511266,
          -0.8790203187845665,
          -1.0294174823618194,
          -0.3842425072998735,
          -0.6381258241722957,
          -0.4042765071793685,
          -0.6240974510081798,
          0.14698053897456015,
          -1.3071813684586626,
          -0.8676844047516067,
          3.706025666378802,
          -0.8847148162130413,
          -0.6426159308095956,
          -1.0671039033740832,
          -0.40073763436416304,
          -0.8707068869771993,
          -1.094401242109413,
          4958.713767827843,
          -1.1656105401962014,
          7.580590216957479,
          -0.4047342686736588,
          -0.9923873299400118,
          -1.165899877582536,
          -0.27568127726704184,
          -1.0757781007900615,
          5.554956424884138,
          -0.6503610874724182,
          1.4022880623532128,
          -0.9696498488059678,
          -0.9886892929485913,
          26.679456283753595,
          140.92574313629046,
          -0.6214822058444783,
          -0.504042497704001,
          -0.3951875608781236,
          -1.1875563017380337,
          -0.5275943332858168,
          -0.39257637698656284,
          -0.4103607615468347,
          -1.1377861708826988,
          45.21893211469383,
          3.324609265560736,
          -0.7796023998090501,
          -0.8661133479904379,
          -0.7531739895997874,
          -0.3226388602205255,
          -1.2411621106356667,
          -0.7792095797027648,
          -0.9706076239516055,
          -0.976948701323118,
          -1.2218334852419022,
          -0.6397785347531125,
          -0.41433500698318837,
          -0.8831428422402418,
          -0.5221261012543166,
          -0.6387379098149804,
          -0.9951002599053945,
          -1.1663956364906878,
          -0.8568104032764445,
          -1.1399423560602386,
          0.4362053952371914,
          -0.8660797100479712,
          -0.13316832257142974,
          -0.7583828833450827,
          -0.5021011056749078,
          1.2449215427590405,
          -1.1970764487495071,
          -1.213455242025982,
          -1.2030170319279778,
          -0.6378514317752654,
          -0.32411425557745177,
          -0.2705116387529771,
          -0.4931039692964729,
          -1.1315503020750846,
          -1.227988793017003,
          -0.4902731178044038,
          -0.6190274458561987,
          -1.0210050650080233,
          -0.4178332032312495,
          -0.4931958091304622,
          -0.6978799899006524,
          -0.03956411908912494,
          -0.6369983207432144,
          -0.7864419799038873,
          -1.1744616436797106,
          -2.4802506983761172,
          -0.21569724961228876,
          -0.4016534256259896,
          -0.5172925485571886,
          -0.5610258180655835,
          -0.20579330776381588,
          -0.9823024824482826,
          -71.95231481437757,
          -0.40816391631290616,
          -0.07529234585312106,
          -0.8570710082951413,
          -0.39495471354804085,
          -1.0725377005331924,
          0.012419288497786285,
          -1.2201007244446413,
          -0.6191622327216302,
          -0.9710203775532974,
          -0.9590459833501931,
          -0.4278359339331218,
          -1.1934829142332133,
          -0.932308541485104,
          -0.9529298866125798,
          -0.40272291909186186,
          -0.7854436785891911,
          -1.1791650014777881,
          -1.1256190827673929,
          -0.7602255043699223,
          -0.26736220809089456,
          -0.6479183404857467,
          7.701541413404392,
          -1.0594593973245185,
          -0.6903861472587244,
          -0.3427690411523297,
          -0.9585592828479922,
          -1.2136704732943355,
          -0.9392071424506508,
          -0.985573153874798,
          -0.9313743258810572,
          -0.8918652976419637,
          -0.7533267366053377,
          55.94851533635833,
          -0.4567120820302103,
          -0.932152880921445,
          -0.7837256496608814,
          -0.9873522220672405,
          -0.48285120845288143,
          -0.5483942089708587,
          -0.41984423739270976,
          -0.4397962601863002,
          -0.8871759496675445,
          -0.49205791256802994,
          -0.8256328559244871,
          -0.7839552248188567,
          -0.4315289376059703,
          -1.0587397972998842,
          -0.864952586062431,
          -0.9683855657040006,
          -0.48926969129716025,
          -1.0738161556585526,
          -1.0793773341046975,
          -0.4403476468176026,
          -0.5446798165855818,
          -0.5063132932010853,
          -1.186375693652516,
          -1.0687110603630545,
          -1.125082252296397,
          -0.984989084834656,
          -0.45276769086668445,
          -1.1887050841792004,
          -0.8671090477784343,
          -0.9658438784545211,
          -0.9759349137512099,
          -1.0847486787252725,
          -1.1789176059937045,
          -1.2315806834982066,
          -0.6397079386647185,
          -0.9764927077345968,
          -0.11170139356600084,
          -0.9041738000308777,
          5.974101927623664,
          -1.0559491983878782,
          38.08118332560183,
          -15.15969766546822,
          -0.9798690799404071,
          -0.2888808254269597,
          -1.2279191101846614,
          -0.3866041256218528,
          -0.7984669363266198,
          -0.7767002725953023,
          -0.7732539838391269,
          -0.7620007435708869,
          -1.1311686372328893,
          -0.8071101845447245,
          -0.32131933735632584,
          -0.810748824075317,
          -0.9641299667232415,
          -1.165919416440911,
          -0.9898522391867363,
          -10.157195334273979,
          -0.7649293917890455,
          -1.043794853415435,
          -0.9692256150049143,
          -1.2087331493207891,
          -1.1451311751633593,
          -0.4906969941451471,
          -0.8089101743299537,
          -1.0800653524355244,
          0.8136663642360646,
          -0.9828102369291752,
          -0.8109404024593657,
          -0.3453193145866327,
          -0.3702349270124735,
          -1.0662556667653542,
          -0.8887470563101649,
          -0.665182601684647,
          -1.0391858085426346,
          -0.4670218546957793,
          -0.9133775496829191,
          -0.6879836997060513,
          -1.0776789530788724,
          -9.50767525793268,
          -0.8120508889647982,
          17.939248505757956,
          -5.439773189452901,
          -0.8928233375202651,
          -0.9622681567950225,
          30.244061325349602,
          -0.25489530839824526,
          -0.41662539054435577,
          1.0273668772582905,
          -1.1531962399125895,
          -0.4567898084398946,
          -5.379016572920722,
          2.3384632464414,
          -1.111576694266329,
          -1.0137186162667657,
          16.208466828733023,
          -0.9171629107303163,
          -0.8135143284107588,
          0.8415728257386044,
          -1.0326907166897796,
          -0.43056784595018915,
          -0.41716844912728857,
          -0.44519817713613613,
          31.222250658058794,
          -0.4000086871052809,
          -0.6828756467643146,
          -0.6543498484566419,
          -0.5217767377999867,
          1.90344957294074,
          -0.46713018169152976,
          -0.7963113971855401,
          -0.8340117303571123,
          -1.057750909856906,
          0.1392421167073245,
          -1.0580612492453019,
          -0.8181367990065905,
          -0.5186372473360765,
          -0.68477274910491,
          -0.7657226587498639,
          -0.8266199459058191,
          0.06921727030458079,
          -0.6482095307742273,
          -1.1632033491791927,
          -0.6531007489683227,
          0.1125781545186868,
          -1.388594200101649,
          -0.8211315657956428,
          -0.4642994211137558,
          -0.3592411656521416,
          -1.0791127766160173,
          -0.5037254363296191,
          -0.8154633000279123,
          -0.35773898854149244,
          -0.35616371636150657,
          -0.015976726643724293,
          -1.20688054826079,
          -0.5268990144951458,
          -1.185411512311937,
          2.005685535593512,
          -0.903327373332724,
          -1.712650426342277,
          -1.0133289711952393,
          -0.6572222638626429,
          -0.31167697358320035,
          -1.0392164089790732,
          -25.272666913763373,
          -0.6601240546357097,
          -0.20852409706716513,
          -0.29772538244489827,
          -0.6560818183084747,
          -0.49385607266287523,
          -0.9075341466655463,
          -0.8132808811526562,
          0.08352020134321447,
          -0.3351096976467458,
          -0.9360319516938449,
          -0.37644432193960087,
          -0.6656833319654076,
          -0.45303334946037443,
          -0.7263303063830023,
          -1.0514436933356133,
          2.18807776317113,
          -42.88901986005971,
          -0.5322412801277921,
          -1.0604439917037922,
          2.3117706995216087,
          2.057877413863094,
          -0.6408621529605426,
          -0.6417155009704738,
          0.28950874080612365,
          -0.8075281259072485,
          -1.0687596657859613,
          -57.6803293490383,
          -2.60315041534916,
          0.3434218890182671,
          0.2859618271380153,
          -1.1162965760746653,
          -1.0772325984519198,
          -1.1275209867397535,
          -0.8188643660459537,
          -1.5835095670536827,
          -0.6822866249023155,
          -0.9636476686149937,
          0.5581506218051902,
          -0.08171972481654127,
          -0.642050164301433,
          -1.1163702570066911,
          -1.1983767486212127,
          -0.6442773945264461,
          -59.268375247321856,
          -1.1129364386494462,
          -1.06756831761285,
          -1.0923587099209662,
          -0.3974400038183466,
          -0.7992269700241859,
          -60.255975955628344,
          -11.63175052591591,
          -0.9814587461293129,
          1.668488018452034,
          -0.6922143068791198,
          0.9054337960699739,
          8.384676673108626,
          -0.7779685919650476,
          -0.887074228583733,
          -0.47079734888203556,
          -2.496760083207682,
          -1.268238570865521,
          -0.55678669861985,
          0.5308045388922462,
          5.0271656879992905,
          1.4366950237611886,
          -0.3282935743423988,
          -1.0703991570030327,
          -0.8277473091744477,
          0.29668118644837604,
          -0.05314550506699167,
          -0.9939189361729684,
          0.2840244756941338,
          -2.1422370483038824,
          -0.5735349989753337,
          -2.5615108766255643,
          12.964269213252903,
          3.6712611755752977,
          -0.429297452730802,
          -1.6684971727212097,
          -0.07149812384062304,
          0.8931081266275446,
          -64.07122743751805,
          -0.4632571704414793,
          -0.6239307076753088,
          0.48649133098611463,
          -0.6054738406958953,
          -0.7291478857897655,
          -0.5692650397459447,
          -0.4831707932638456,
          -0.6391887764649024,
          -0.45710760917445714,
          -0.6219826307895548,
          -0.8021351555685347,
          -0.4498646545634798,
          4.63598661163709,
          -0.91707863673572,
          -0.7162690393873099,
          -0.4075013733278107,
          -0.34146818524041656,
          -0.47137987946595594,
          -0.7772974285235058,
          -0.518436873977883,
          -0.47993627022634416,
          -0.49013067931248283,
          -0.8374744799111645,
          -0.6223621178102855,
          -0.729100908901728,
          -0.8437167977825193,
          -0.6025268236565764,
          -0.8076352369818435,
          -0.5855042539146502,
          -0.2968118255985087,
          -14.45000356407109,
          -0.48664380180582206,
          -0.4593999759765384,
          -0.47243746285346366,
          -0.15648856538704192,
          -0.8048133683573054,
          -0.47692639567747563,
          -5.281085327230877,
          -0.6049712261125196,
          -0.48250941419855103,
          -0.5531409073623976,
          -0.41322609740169985,
          -0.5583805463764842,
          -0.4856133551190542,
          -0.6071144663839513,
          -0.6396179276952414,
          -0.6056774867860996,
          -0.07211253569973908,
          0.2955640641874222,
          -109.08779513735202,
          -0.7792467822548266,
          -0.49624119173641285,
          -0.4899307958068004,
          -0.5106006587919413,
          -0.5741267989940978,
          -0.09838778642861856,
          -0.5700427418679056,
          -0.5144402209607618,
          -0.495439684943869,
          -0.3680956492895844,
          -0.5195206685325106,
          -2.343545580087846,
          -0.6231840531033647,
          -0.5705868443529664,
          0.8207922863026079,
          -0.533120773887131,
          -0.6278702000068485,
          -0.8021511842486699,
          -0.4632196719066815,
          -0.49361099130468516,
          -0.4535699319901381,
          -0.746353031113726,
          -35.77317444170014,
          -0.604695119809753,
          -76.39350860903139,
          -0.7573079442621272,
          -0.8802245308933847,
          -0.8107911879969446,
          -0.560569507439,
          -0.9058400488307531,
          -0.9959708988334129,
          -0.49211746782880605,
          -0.4970263604535772,
          -79.06983641037269,
          -0.9082561040910316,
          -0.49318902914025703,
          -0.9277173911176382,
          -0.813924687439872,
          -0.8372596165508119,
          -0.7452751885354054,
          -0.5912888812092936,
          -0.8042875611915702,
          -0.6050056356335934,
          -54.874388442089916,
          -0.9167497435928611,
          -52.27284908328491,
          -0.49648172542688307,
          14.86423908200873,
          -0.9148373662588309,
          -0.5672415376815199,
          -0.8977513478419112,
          -0.6178614518162978,
          -0.4927111950597952,
          -0.8762582279004401,
          -0.4761602590870866,
          -0.8104502279383513,
          -0.6602771711385039,
          -0.47619820396965434,
          -0.88106174231978,
          -0.7430202594469633,
          1.6114204601211282,
          -0.5473144406350167,
          -0.5611784530148302,
          -0.48630454790615324,
          -0.9068453157351166,
          -0.5845740922459376,
          -0.9159021415636146,
          -0.8727194798365955,
          -0.8861921709232864,
          -0.4920915877014685,
          -0.3258661547717653,
          -0.8753341225978021,
          -0.9153006488479308,
          -0.8950271635667418,
          -0.5473542587667183,
          -0.5254472954950155,
          -0.6215958975878185,
          -0.8757681598383096,
          -0.4895180689903387,
          -0.5063949612786004,
          -0.4915797628781744,
          -0.564529710010065,
          -0.5845423180008479,
          -0.8882283899369042,
          -0.8717250798708497,
          -0.8375863533045784,
          -1.000573441203165,
          -0.5500222218776389,
          -0.8525345933092456,
          -0.8033053947175317,
          -0.7403343975778058,
          -0.5179907284672929,
          -0.8584169696038964,
          -0.7419534493314398,
          -0.4968893156809358,
          -0.9140597083918607,
          -0.582432755241711,
          -0.7646611948956522,
          -0.3652932948841827,
          -0.48931886792253343,
          -0.03287032365334297,
          0.19453221293841494,
          -0.4352676732484638,
          -0.8463307419534736,
          -0.7755542319492206,
          -0.5842424166152517,
          -0.8923298826733095,
          -0.7638669569090675,
          -0.6178983359463668,
          -0.558500702196851,
          -0.8052579875242613,
          -0.2479005035496873,
          -0.7725817643969262,
          -0.9665152575256974,
          -0.9701538337426481,
          -0.26234495602039376,
          -0.5244613685441375,
          -0.8406893405330441,
          -0.7424395933298831,
          -0.9861332788039083,
          -0.9063548719810114,
          -0.858017430762503,
          -0.6114131205423894,
          -0.8102443545997814,
          -0.314948142659483,
          -0.8498476949618077,
          -1.4063917497517644,
          -1.317605917746846,
          0.1699228051885875,
          -0.8570702144602571,
          -0.9921575408204332,
          -0.5891577704413171,
          -0.8394622181286425,
          -0.7211872925027072,
          -0.030810588868374955,
          -0.6596836029204676,
          -0.8226334520021439,
          -0.8508425930223974,
          -1.4578731582276032,
          -0.8521903361381873,
          -0.9769673402461798,
          -1.5713985751867323,
          -1.3860913392273924,
          -0.5621355768766254,
          -0.7974121679480893,
          -0.8536903483594024,
          -0.5224300933390253,
          -0.5647672441310541,
          -0.8853812036978941,
          -0.584510170033028,
          -0.7815699427334637,
          -0.852838569132461,
          -0.9135594423757599,
          -0.6021586679388019,
          -0.7404576729957706,
          -0.6018715870789803,
          -0.905003622862173,
          -0.5840551304860608,
          -0.5873570268689895,
          -0.7067700753549077,
          -0.8553674755001927,
          -0.526714761850018,
          -0.7301429696590944,
          -0.6437562506596818,
          -0.760754859789051,
          -0.7967987032298757,
          -0.42621037761641384,
          -0.6253466184956339,
          -0.6524663572017583,
          -0.7634904699784406,
          -0.6003405956652604,
          -0.550650033387384,
          -0.597127097696603,
          -0.990503997501763,
          -0.848966115962456,
          -0.8595326977558982,
          -0.5741845002522843,
          -0.7095354901794073,
          -0.6342945154886714,
          -0.7871381673672447,
          -0.7294841719629219,
          -0.5317762398061965,
          -0.6115623572953928,
          -0.7864095919880869,
          -0.583493337111342,
          -0.644109573821711,
          -0.8874476967369908,
          -0.6705967214449464,
          -0.8906983974676622,
          -0.6214513475794361,
          -0.5176926965164372,
          -0.9130122009183688,
          -0.8630118663611007,
          -0.6020019966183104,
          -0.5698066088515361,
          -0.8770502556228856,
          -0.6158288748905807,
          -0.793142997247745,
          -0.7332682695628281,
          -0.5871524208311217,
          -0.6012651212779697,
          -0.6836314812059971,
          -0.8810397882818728,
          -0.5357029263171396,
          -0.9121258276505517,
          -0.8421303880315858,
          -0.8808132406981377,
          -0.6882629854633234,
          -0.58516678620038,
          -0.6797725917558143,
          -0.7877408166301131,
          -0.9497768842584117,
          -0.5135916442806238,
          -0.889123707303791,
          -0.8557084687578608,
          -0.5929995487364784,
          -0.7496760399711881,
          -1.0633050009272862,
          -0.7202856482557178,
          -0.6195507705970182,
          -0.5245725691008492,
          -0.888133856249993,
          -0.774899427768084,
          -0.6898328305992825,
          -0.6258905858830277,
          -0.8604026635936202,
          -0.7159938270506994,
          -0.6478232705658804,
          -0.6563758269789133
         ],
         "z": [
          7.965701497251522,
          4.252941602456657,
          10.179610849529375,
          11.190901792913946,
          42.09326943300006,
          4.200885533738247,
          3.2511576064442558,
          3.6849455847123136,
          6.863661982573446,
          4.000658470687274,
          5.266260007918348,
          34.6082288717889,
          -6.352463804143591,
          2.6130687218593454,
          3.990908721144147,
          4.709716221809857,
          10.107774093466357,
          4.909575762124263,
          3.9360825483579784,
          -59.52500652921623,
          9.338471173127289,
          5.534270774613436,
          16.66996084117727,
          -122.15399204945626,
          3.743286624874026,
          3.8580796265611172,
          9.4098941177224,
          35.13340142449053,
          3.8693392783190865,
          6.864445294626,
          10.746093072794535,
          9.319154413908953,
          9.594637294824652,
          -1.9416685003000982,
          3.8302586125020186,
          39.01606189381762,
          -11.53625137647515,
          -28.202971061775457,
          3.594085603302561,
          -6.395342994174748,
          9.39424936686965,
          3.7520376367262096,
          8.487767116161766,
          9.909977400701337,
          -78.43777722423889,
          522.8214222704851,
          4.335088124027929,
          -2.3113737597986526,
          36.09952462977455,
          2.652456118428251,
          5.071553804829956,
          -2.8506249013533616,
          -2.4193320998927637,
          9.634384789247727,
          3.6262775401522713,
          6.882672988589467,
          6.794527589619657,
          8.220015932536628,
          6.684679781440783,
          11.55221340587793,
          3.8373368884518775,
          -6.9176445187558,
          11.569432906475555,
          23.461974032668792,
          41.414685753707545,
          -1.9547329868740317,
          10.838501644690167,
          11.526134269739611,
          3.8398750866481857,
          3.7231982308897673,
          4.254253705590092,
          -3.8957208301450974,
          34.238052709511194,
          9.416388162627637,
          9.648320977816969,
          2.819110555695154,
          10.895486536853957,
          12.321709948677997,
          6.860931817390545,
          9.847478674599733,
          20.488041557281395,
          7.810250855237301,
          4.29041392867695,
          3.811650227500437,
          6.30155663415896,
          9.666114916178435,
          10.11621147825007,
          32.36037499610628,
          12.944464484858823,
          2.881173851575837,
          5883.5665490914125,
          5056.920726453965,
          11.768686484913955,
          3.901345082461649,
          -12.59094434012224,
          -162.43243086389262,
          5.114241983624877,
          -4935.305474432056,
          -1259.8112367531116,
          3.7995041717487394,
          20.16576649187942,
          3.340881265563836,
          9.976270434861632,
          5.954994201800759,
          3.479918009226913,
          4.157914526021358,
          13.520918098081621,
          3.9252721428175015,
          3.7480934307316014,
          3.7493397819295726,
          26.499918929996948,
          8.057870479287141,
          6.593387268071742,
          26.591843238448494,
          10.954525562825989,
          3.742212637774749,
          9.446155627152141,
          6.96602804189856,
          2.8341537194043003,
          3.6505844470227773,
          -133.20444657321775,
          24.941493579276756,
          4.02027891291698,
          2.004571484965226,
          -44.30544489470748,
          9.364739582415885,
          4.0458167881967295,
          27.581031869020453,
          19.436755067860027,
          5.719891432722769,
          7.0525664300238935,
          6.8314089177750565,
          -40.5467548714372,
          6.436750526747791,
          3.373274191083189,
          7.721559179269968,
          22.755523096535907,
          127.81877085007135,
          7.257840933236194,
          3.8913991559004626,
          8.282603026713488,
          26.60257491773325,
          15.225391987700002,
          7.127308647055321,
          20.51151938382489,
          13.379386368134721,
          10.031101056320187,
          4.957240469443571,
          3.491556934136742,
          7.614842606962303,
          1.2780295478192836,
          5.4746419710223515,
          21.426138940415527,
          5.18477532396488,
          3.995420957966341,
          7.375192672142035,
          5.032734246832338,
          7.065842153639565,
          3.538435471542219,
          6.158364176038351,
          21.465925339902274,
          12.243539314184671,
          3.904895701144279,
          21.41079975089457,
          7.757749532510093,
          1.877108556338746,
          7.239648360709657,
          5610.189905232737,
          7.868564630149472,
          11.48767058688193,
          21.57362961068173,
          9.66311328267537,
          1.5317763211795246,
          20.990781505150593,
          -170.52432494037788,
          1.7145839702184171,
          3.9874906926425795,
          9.727477967514162,
          23.742106489440225,
          6.776569319660944,
          7.3150437618077975,
          7.711416928151488,
          8.828538209562959,
          7.382741536391291,
          1.2333367659382246,
          14.439467802121134,
          6.465495961331987,
          4.305264311568193,
          16.91743840160665,
          23.903625903008304,
          9.220800139167597,
          5.539449925011257,
          3.004079036222581,
          5.7440635318763995,
          3.7278027406931504,
          24.004267235703676,
          19.643365544860515,
          21.20024080247182,
          4.421306459835769,
          18.974138824966516,
          6.91119514215904,
          1.0745798529732462,
          6.1740870873019205,
          7.329064390337767,
          7.7652630807913425,
          1.4198801225917714,
          7.65296265219622,
          2.0581438990983583,
          1.627853592492839,
          7.267722379474381,
          19.95915973680288,
          23.406609713150083,
          20.419677509098353,
          21.057600344407813,
          3.608320993186357,
          1.8559467445937166,
          3.8279629485732967,
          5.551475614901072,
          1.6840423783406802,
          4.442265169759398,
          21.544063047311074,
          -39.53627949105294,
          1.988020524482187,
          1.0196547631154225,
          2517.5784701553,
          2.8649445624252965,
          16.56630597067246,
          17.871675197558158,
          17.545450773449698,
          2855.8708890433336,
          6.292943761414759,
          7.193033829903159,
          9.3016045801822,
          6.842301822021967,
          4.16765572131482,
          1.6527127577611171,
          3.818094325857264,
          2.0764402500977694,
          20.072443065195927,
          6.849551243985811,
          12.15960819404501,
          13.079172156739805,
          2.63224632844558,
          -25.47145595911053,
          6037.188241018289,
          14.381531637913126,
          3115.388364021242,
          21.805902792059637,
          2822.903442786308,
          1.1851193180893513,
          8.20394355273345,
          1.666300126732993,
          5.724402573500908,
          2.405424594336988,
          18.767859151716937,
          2.7906804650555697,
          16.271913850057217,
          23.549807159972897,
          2933.9606865361184,
          5.362758297260758,
          3.6359769849620642,
          14.73956232758786,
          6.332923472067574,
          1.5702197640102944,
          3.0321007664132376,
          1.3326104941652883,
          1.653723410555344,
          6.618321749027133,
          0.7919287727750441,
          22.881708844148267,
          20.184348357189723,
          -852.5268601176615,
          -46.59026818216887,
          -690.7133373084324,
          -566.2297988981572,
          -10407.628659889433,
          9.445915687601955,
          -2374.221847211845,
          18.632538694236263,
          13.586057174010339,
          -5.762332494697873,
          73.49572942682208,
          -97.82267341692094,
          206.52558102320006,
          -102.14562506924165,
          4.867697854953625,
          -607.230961607926,
          34.154764469781874,
          -179.7154382918279,
          -146.1655491720433,
          3.4987860845937027,
          -1165.9578584736564,
          3.57293843044799,
          10.305075659222126,
          -411.171901467757,
          2.1452559870082912,
          -132.7616104778876,
          -185.670712659172,
          22.86913517790967,
          -12.003795345112948,
          22.15052723759246,
          58.16711877897198,
          -107.95336815016718,
          -32.10243587421958,
          4.499125860691762,
          0.8849328734277215,
          0.7526623127213168,
          5.888111285999711,
          3466.20761164215,
          7.526005525944285,
          5.574137524875667,
          74.59440122075063,
          9.543898836904207,
          3.9021778769475715,
          7.29800273282411,
          -6.7968527128199225,
          4.755091190618727,
          4.029373584035555,
          17.93128480119851,
          -2.195618007281789,
          9.451410815464035,
          12.854904149392247,
          13.343320710131325,
          4.3553696965467426,
          14.786130838644379,
          1.4901281989315154,
          11839.028887643275,
          12.432704858666648,
          132.36204370029768,
          1.4749632312761087,
          12.263790708820734,
          1.3675013920472232,
          8439.978322111223,
          4.558554680752372,
          9.583020456382448,
          10.152321942580851,
          9.37570268186459,
          17.225242189293454,
          7.411072494312014,
          9.422733057448204,
          11.953252015297474,
          10.70761753209678,
          8.477253202140961,
          5709.043571084657,
          1.3545783816905523,
          2.4196013111828147,
          -242.03912936295688,
          39.6941955530343,
          1.5558897080135856,
          115.22676330640131,
          3.7592380423640708,
          4300.331384087124,
          4390.268924564275,
          7.549508481067564,
          3.0848178003975413,
          9.056493472146807,
          1.1555817722570247,
          -0.9496935197985417,
          17.059785432010738,
          8457.122123781293,
          -0.9624668362005989,
          3.863235451231156,
          6223.698031275738,
          1.4088156167399415,
          9.956181086178905,
          0.93079173359398,
          5.88550786168705,
          6.669890486794001,
          4613.266034915539,
          2.3611509249890257,
          65.53684597428666,
          146.0539279293768,
          -0.915120380082567,
          6.337205220882442,
          9.436378421509282,
          4.256622993083805,
          -1.1435520289274237,
          9.725339009144516,
          16.201475897398115,
          -1.116145022109131,
          9.352665241631238,
          -0.9189471794284217,
          707.3993525354794,
          35.74249727229824,
          5.404044010958154,
          -0.9260603109398249,
          3.9213737180052193,
          1.043489286729827,
          33.012529682146926,
          9.289761966232255,
          6.900469483006569,
          17.805905642453236,
          9.624180072284917,
          3.9153929097217097,
          15.550507172227023,
          29.048100425599188,
          -1.0533597786652609,
          13.875754114602172,
          -0.9005304192317375,
          12.075731622935436,
          1.162618503010273,
          4.283949568331698,
          9.50567407091586,
          4.356608324118086,
          2280.263321140328,
          11.175980095002735,
          13.120101570020427,
          28.639948886200035,
          -0.8973554989596968,
          2.7173530548254803,
          1.3138639544088004,
          24.76523599911598,
          13.829740876168128,
          6.404901185698488,
          23.836781919509576,
          -27.667017089666217,
          0.820092183480895,
          8.623455186787508,
          8.409718504742257,
          3.871232370089566,
          9.66990045296634,
          7986.2807103365785,
          2.2802104080720182,
          5.5421091705569525,
          1.4672280919868337,
          4.016966814496092,
          5.573563819023415,
          7.049154805612626,
          0.6709889077395567,
          2.283098903903032,
          2.2481763328960733,
          2.234077122559661,
          -11.178486491153071,
          -139.09579859117483,
          0.8740345059157049,
          5.937670309396375,
          13.219124496932313,
          7.892109713906921,
          4.366923004676127,
          8.859178332840981,
          4.206325588109064,
          -4.412559356961944,
          7.645211691886449,
          2.206749308594635,
          8.468245266953488,
          9.631021112432558,
          0.701692515985041,
          -20.87230783215617,
          2.342068582961119,
          8.400564497306313,
          5062.601731740186,
          4.12217496615243,
          8.290219527592521,
          1.7810280663502214,
          3.958365760207441,
          0.7257577254099206,
          -1.3026189709527856,
          2.1891772613212663,
          1.2109120398895774,
          2.946422143782762,
          3.4449821511434435,
          3.2024164555963526,
          84.0588175928454,
          9.495809241228995,
          2.6719534653259482,
          6.687664518897865,
          3.6512626181431926,
          8.347767443013522,
          0.5910100699635101,
          -7.99631391054384,
          -14.593027691462432,
          1.3780442463376952,
          10.034638707824657,
          5.438116672008239,
          0.6356168748836983,
          2.438745754001986,
          12.887978343936476,
          0.9068006707498102,
          5.9447741409373975,
          -1.2182929878734314,
          1.2983573323805475,
          3.7650231674728554,
          -33.46658946042945,
          0.8961506072740344,
          -14.274130165142939,
          3.6518890454598076,
          -7.204543481507959,
          -10.327579622905402,
          8.296058425675268,
          1.575935729490443,
          5.018482243058248,
          6.525365484363608,
          -16.531137993072747,
          0.9895647562259708,
          6.937331125777259,
          10.29378212762178,
          -81.12087110248281,
          5.948621068679351,
          -1.7998995870425611,
          1.5850926640055643,
          1.6174733746068797,
          1.5700689685644182,
          -3.022841158089542,
          4.079656960764109,
          6.874587506195197,
          -1.2621989998414964,
          9.986063848100539,
          -13.7307630545413,
          -6.507157109066821,
          1.5221992033117047,
          4.542419478635073,
          -13.127898400306485,
          4.801618494099731,
          4.71500377868866,
          0.6688698920627891,
          -1.692385724127195,
          2.10036617265451,
          1.2231017792193752,
          -5.8537505362165,
          0.5806961925413354,
          4.464828730688499,
          3.11652397751044,
          1.2345683470203228,
          0.7876751774718691,
          -12.860567136893005,
          0.4967238568082114,
          0.8570367798783504,
          -5.442591311066902,
          8.78790072070344,
          3.767202129076756,
          2.8711308546430656,
          -18.670390880666297,
          0.613970915500288,
          -14.536930078321499,
          0.5949116553383489,
          0.4025772277951518,
          -28.836752017578384,
          1.8664439414465808,
          -26.252394107021985,
          -4.901213761734259,
          0.5625534493000344,
          -3.0222902155407443,
          1.7618748672500166,
          -18.714139329206922,
          6.9246265947709436,
          -1.7454518339331333,
          0.6699211397224192,
          1.4892868111106914,
          -26.120103134646754,
          1.7220569976017923,
          0.6321042020595361,
          0.21142643477371084,
          0.637056584936943,
          1.0221328102297358,
          1.5770460471512646,
          1.3441616158368181,
          2.9753675278828906,
          -112.71431617785254,
          -125.96459264491858,
          -139.85595193015973,
          -1.7436334746203779,
          -1.419619415553412,
          -11.421015446639203,
          -23.645669851396732,
          -5.33400519053232,
          -1.0878973234848814,
          -2.366518727216673,
          -35.90741258010412,
          -1.4290317004351787,
          -11.126862019479365,
          -3.513202805131038,
          2.330914269305723,
          1.746613012026449,
          3.175030550540069,
          -2.8213438554756514,
          -2.410103022408453,
          -0.3187436765702179,
          -1.742543871800223,
          -0.9193090347193033,
          -12.587364896692044,
          -2.131407725503448,
          1.0512378392951962,
          -2.34117212810829,
          -26.13387021622885,
          4.325891187779719,
          -1.911698272624429,
          2.299936523215052,
          -10.717648685449081,
          3.901890779162419,
          2.1941708891893668,
          -101.14488380020477,
          -13.4689189500971,
          -14.257581640723247,
          -8.378651382712633,
          -4.45648467222933,
          4.0718952277800895,
          2.7782472311527426,
          -7.819284111008566,
          1.9461219962829357,
          -185.02525401038002,
          -2.3483622459439784,
          -53.921442065025346,
          -13.644070108153974,
          1.5562388319958294,
          -1.87003869986832,
          -5.4583869919511585,
          3.3286126804636065,
          -8.41917664149754,
          0.6663698550440379,
          -6.6745278388294675,
          -5.863340483868474,
          -24.49151866336859,
          -5.389658969692514,
          -15.793044332934013,
          -7.7417723895992605,
          -25.159496020789142,
          -1.338569013707486,
          5.9461113681941935,
          -17.193064778848075,
          -10.117891404361519,
          -18.90686429356013,
          -27.347926196815905,
          -6.746845341877357,
          3.808358360307778,
          1.5278315787590933,
          -97.15130534017452,
          1.8267143903315797,
          1.644766560992841,
          -118.94323332487625,
          -8.505115938209322,
          -9.992998690522581,
          -88.47462035547247,
          -20.781114939301837,
          1.540493913275454,
          1.6604913108083084,
          -2.2304136826336647,
          3.2929093510586336,
          -0.23338636252392034,
          5.434891470304655,
          -6.843517988920057,
          0.8931589084011747,
          -21.77477037698533,
          -28.080670650297552,
          1.41217683555786,
          -2.1258409312777777,
          3.6019788984658123,
          -5.720642523830772,
          2.533403738632167,
          -48.71836787706202,
          -14.658577497548338,
          0.6227859407037504,
          -21.300844024926967,
          3.5382300527437027,
          3.5021911458718815,
          -3.8490572336890727,
          -78.6682144010471,
          4.906246831234615,
          -57.70801212326152,
          -91.47977131478099,
          -107.22202113858658,
          1.2628566315867253,
          0.7423323957828406,
          0.8221891131801307,
          0.6664128354024756,
          5.458254184587492,
          -19.72567967712727,
          -13.601730827948263,
          1.3853305011404011,
          5.076220833302776,
          -1.2563226785175257,
          -20.678327805464995,
          3.449817286872522,
          2.0306011588154624,
          4.7713922487542675,
          -4.2604280009949616,
          -1.6661107138982532,
          2.5943783620423746,
          1.3846945197463605,
          1.4964857653350778,
          -1.3890594953289326,
          5.376145632696423,
          3.986605114643147,
          5.681765026466114,
          -6.008737484980138,
          -119.7799102437671,
          -54.16822818322506,
          -4.187631343177838,
          4.279050103463516,
          -129.7275832973969,
          2.2952622175239474,
          5.814340507196026,
          4.319797085000609,
          1.0799082401598885,
          2.8571327814672145,
          -43.14228926335119,
          -12.97138549649561,
          -21.099944451992485,
          -15.054070922719156,
          -2.1030024940541736,
          -1.4861564637581188,
          5.864219120907817,
          1.3264165278968485,
          5.85364522432495,
          0.7717033165081478,
          -1.1682973042118956,
          -13.999580724848268,
          5.687324018796144,
          2.067828963034734,
          3.0542433380385776,
          1.8211242129729004,
          1.2871147961899125,
          -3.504330138582696,
          1.7634696242559285,
          1.28362826156232,
          2.8368012988879467,
          -1327.8226480215442,
          -5.279666464478333,
          -47.554702990950325,
          -100.24741136609975,
          -2.5196982935938985,
          -13.278577363081862,
          -1.0839210446837733,
          2.087207330901336,
          6.1974226108944155,
          -66.619671867729,
          2.6474589283212056,
          3.170276386942475,
          -3.499294009296482,
          -74.10875414609421,
          2.8046815954862194,
          -39.77522491870657,
          -16.969392593615993,
          -2.0667005519818282,
          -5.623438545035338,
          -3.240273732707548,
          -29.118376190475608,
          0.7085227544589748,
          1.7642016192426835,
          -1.0249225038534697,
          5.490106299085652,
          2.2184169144738464,
          0.5899843040471777,
          -31.548270090638198,
          -16.54922348579009,
          -7.472567885876941,
          1.405214010075489,
          -13.37463544377376,
          -12.232068895444169,
          -11.251885330630888,
          -41.37870940992953,
          -13.114557282410047,
          -98.8537989915911,
          -5.672109587153734,
          16.454610195420706,
          -76.85919454561274,
          0.35557841176035215,
          -2.0169749777369126,
          -9.442878508077571,
          -962.3089192972775,
          -1.9612979852745855,
          -10.581662766739072,
          -1.1026150377250599,
          -7.1657382076429545,
          -4.843305032327742,
          -7.535117602795875,
          -67.79548207849794,
          -27.56954929714793,
          2.7905554954495653,
          1512.940538740531,
          -23.59996464599049,
          0.9257726679659082,
          0.5665292738938472,
          4.962876643764218,
          3.945724791677395,
          -0.7426081286471813,
          0.9479723286487626,
          8.514499765866251,
          3.075746483762646,
          9.255463156510928,
          -8.74673682846729,
          0.6027081510323432,
          -0.6132299569603361,
          -1.2393601958721676,
          0.6187249827141239,
          -2.3615307003115618,
          4.240535495411844,
          4.290555682303601,
          6.081554405410102,
          3.4465890554546394,
          6.55706802156122,
          -4.509407211633994,
          -0.7051606108600884,
          0.623837762315974,
          -0.7289555895165704,
          3.4429255125672342,
          0.7429871059079168,
          6.121624498333416,
          5.532475552962016,
          -5.072004336720843,
          1.3984506751400774,
          5.391431556665035,
          4.247934673170481,
          0.7999745544013075,
          4.059624639372168,
          0.9490848884366944,
          0.6284186846798573,
          -0.6498922446132831,
          1.5895261690441973,
          6.033890722684988,
          6.834774612245449,
          1.0396665725873164,
          2.455879694752201,
          2.9389058292879993,
          1.0936678719608555,
          4.08411519668166,
          1.4686572028996663,
          1.3581557160224835,
          -0.6708100280894372,
          4.067419851258748,
          -0.7299025193857277,
          -2.9322360343281506,
          2.5762137982457323,
          0.7079380192907644,
          3.8855203841980663,
          4.566487969631428,
          5.6191713562035535,
          8.346054078316286,
          1.4726802907043701,
          1.6725333862447274,
          4.060490426320288,
          3.680705227439327,
          6.7496705034926325,
          3.2029259148427895,
          2.7683525493437426,
          3.0648266338691,
          1.0572419290903101,
          0.7748780154136923,
          3.0893737972167763,
          0.8498585475415738,
          0.6692637751045195,
          4.127152263301144,
          0.7039378770550039,
          0.8957523474261441,
          0.6580919496365307,
          0.6943623204958308,
          -1.3455940076317274,
          1.3359079063725137,
          0.6711036234964209,
          4.301798419016316,
          2003.5520125123837,
          5.182096283296985,
          2.8579090172367536,
          3.4394722032739837,
          -0.4508861305766101,
          4.2169481897226095,
          2.929226738191162,
          1.8341071227797796,
          3.60338232234083,
          -27.61290955957113,
          -0.4873831070290059,
          -14.277664457380752,
          -0.5127082670161088,
          -0.9051162834544092,
          -6.748534407723948,
          -37.81568778938177,
          3.988452094001288,
          -0.5299449402447118,
          1.7575115832838257,
          3.6967893289144476,
          3.562966262427098,
          -149.35114142892726,
          -18.46960831031145,
          8.154096882199731,
          -72.52903693338956,
          2.8041077258690663,
          0.1608255500148955,
          5.57645978523012,
          -124.14886033829421,
          -13.713132237009326,
          -17.04690931535352,
          1.7806535516463877,
          1.7811445454436032,
          1.904050918619476,
          3.7060651399615088,
          -82.91595374587988,
          3.666512478020183,
          -5.712815311208553,
          4.01404857164194,
          -0.3728608393751256,
          -0.6153758872453795,
          -395.2621391274424,
          3.282614581616992,
          1.494307688000008,
          -6.70593603695716,
          -0.565414042039547,
          -1.8967068749721734,
          -0.5164174815055504,
          6.577485325896197,
          3.6170685618223986,
          -1.3700747178349104,
          3.342070551876274,
          -0.47810638151130214,
          -0.6334107329902203,
          0.8116870516650129,
          3.4325856328810547,
          -41.21369867824803,
          -40.86646292908408,
          -147.62255257580563,
          3.427215050775136,
          -12.171913012936038,
          3.8603304217813026,
          -168.16772386127175,
          3.681470559691322,
          1.0701121230350819,
          3.7574853203257645,
          1.7346235366242169,
          -0.5723016765651209,
          2.815431190712728,
          1.9423825319787955,
          3.4597499191429297,
          1.7763120918976478,
          -0.4028741796376236,
          3.6208886218158143,
          -0.46717174276591356,
          7.9404878754356725,
          3.5553826371893957,
          -0.4898101584007357,
          -1.626970865187312,
          3.7341381022955886,
          3.44007368616975,
          1.708529031401423,
          2.913038646578383,
          2.6411270250829486,
          -15.45607603279058,
          3.5760029351424114,
          2.728174393025592,
          3.1674271675102674,
          1.3770946757053582,
          3.4832002375310522,
          -0.4770089892630561,
          -451.59795337693254,
          -0.7538176524852664,
          -0.5345984677215205,
          2.855273436353232,
          1.7341577368445862,
          -0.5875587876840821,
          -0.6095410700989083,
          1.9160000131658366,
          3.4314497094061056,
          3.3539451193861547,
          1.8411040158686534,
          3.4790149177138465,
          -0.5196968510092093,
          6.308406873274453,
          -1.4387973911422804,
          2.6500632529845216,
          2.8219824393046324,
          8.575138326503225,
          -0.36610466763563576,
          -0.4213915543581547,
          2.0892032500881466,
          2.8384848719534332,
          -0.5375157539589607,
          -0.535602140923455,
          -0.5115673358545104,
          2.849544894577041,
          -0.728448068393627,
          6.84432791462607,
          3.304559838110694,
          3.674245198339182,
          2.914366862458008,
          -0.5884100630298787,
          -0.5455968733869124,
          -0.5044045910378382,
          -1.8178999616481937,
          -35.02934553887968,
          2.4327053407606565,
          3.1190856074773814,
          -0.5663179628109648,
          -0.6288212465519124,
          3.4941566550224303,
          2.4251453520458615,
          1.69547035887034,
          12.060790784409814,
          3.277535021921005,
          -0.49802733304322966,
          1.7185788619878126,
          -0.477687069520656,
          -5.819869058492842,
          2.926423228333791,
          1.6852151674918578,
          -0.5896236209086579,
          -1.7873399132835175,
          -0.5757227434773198,
          2.5593900482204095,
          1.6500765613929935,
          -0.5903646698568401,
          5.1797736637294,
          -0.46240986102746495,
          2.5070366133598703,
          -17.058231098617306,
          2.388534551683269,
          3.2031677871101887,
          3.658649878487471,
          3.814173182576897,
          2.5241875688589577,
          3.7786143270149672,
          2.962684935958349,
          17.74310994898802,
          3.3451604272511366,
          1.939715131359393,
          1.678441335908009,
          2.7654169441173453,
          2.2347390921788723,
          2.8732222781507053,
          2.9935093301654176,
          1.7042765743420563,
          -0.6011263928325365,
          2.998075602736209,
          3.8245090825462733,
          -0.5335082487079293,
          3.548702476778731,
          3.5406773725252925,
          -0.5957212268829226,
          1.941125398084012,
          3.7011474766778933,
          1.9801318639944863,
          1.7700205732780598,
          2.985206009792927,
          -1.3655116395337394,
          -31.930933729921914,
          1.6142295819422225,
          3.001107339588787,
          3.6092051508007676,
          3.5829872833821974,
          3.6561400140389213,
          -0.5468614851250967,
          3.0174069314190373,
          1.7652990067587908,
          2.8382301616909102,
          1.9723773949761552,
          3.558892581282276,
          -0.371391610813553,
          3.6361000018618883,
          5.906790539799778,
          3.7921339765651925,
          -0.38911309559083185,
          3.9633612077523135,
          -0.39899012533069955,
          3.908079700771028,
          3.569310924394757,
          3.7589603976616726,
          2.5970282411408943,
          1.4550575238354233,
          1.955757273156905,
          1.3398661686133513,
          2.9349606170516216,
          2670.403052486181,
          3.748515460787166,
          2.255395525456178,
          1.488800579187728,
          3.5864272150191194,
          3.9665076534460386,
          3.7809924193357762,
          2.4624717347350535,
          5.03684506840657,
          3.8003965007171288,
          3.797132024610435,
          -0.518636183244773,
          -1.6346549433738087,
          2.916128800162115,
          2.795427659819741,
          2.481273234953647,
          2.9851399953731588,
          1.521953671624252,
          2.8779364145970474,
          3.7545817831817114,
          3.9741018061970284,
          -8.391267839184284,
          3.722721485074498,
          4.029831488437292,
          3.4938514679637724,
          3.5606729133211763,
          -2.444734148360991,
          2.454950879053517,
          -0.20544157222317785,
          -5.705825099881984,
          2.8007963106664335,
          4.0004238925983895,
          -0.4574678564269332,
          2.8120745366280717,
          -0.37862129936200273,
          -0.40922568666108494,
          2.892682181821531,
          3.6995123920551762,
          3.4540314127361658,
          3.6764943954290916,
          3.0273402289569633,
          2.7105576452464986,
          -6.922365217178865,
          -0.4232946910963695,
          2.755238267994653,
          2.7734649588632836,
          2.418665460929125,
          -0.488718940285396,
          2.720445833571271,
          -0.12025420378348795,
          2.3262382993811648,
          4.434096812434536,
          1.462998577207279,
          1.5090811346071715,
          -0.3826507717157501,
          2.8705250499059174,
          2.3280690026242397,
          2.3104996219468465,
          3.1755187503175795,
          3.6717906557145046,
          3.8857473421440902,
          1.8769374185535397,
          3.455957415876336,
          3.483233860118522,
          2.7196731348764,
          1.8892390609739145,
          1.3549695238369788,
          2.5016357338224737,
          0.10078012002983665,
          3.643154873898148,
          1.8552870817451308,
          2.483673678642793,
          4.4904450565303895,
          3.461576731925284,
          3.7626921275773584,
          1.509391863147317,
          3.7480884076262657,
          2.266241290651149,
          4.030282773213524,
          -42.21561281949889,
          3.766004373969994,
          2.489617625811877,
          2114.661256883569,
          -0.17923302363828256,
          3.744592863568764,
          -0.18445694014704964,
          1.5064834222911696,
          2.4565494742539973,
          3.6146716234320713,
          -0.1322454164466255,
          2.7743877364183387,
          2.732751073612673,
          1.8532343155582092,
          3.9207128767084445,
          1.495726559626924,
          2.5131132686220297,
          3.467926285837684,
          3.16439030157993,
          3.495073710403139,
          2.8918851484255534,
          -0.14283912794637346,
          3.6711525920656762,
          2.240566830835152,
          3.532875809010301,
          3.8721873293921023,
          3.54508392796792,
          2.482791289973783,
          2.8553532443183016,
          2.474076140094202,
          3.8195130724092525,
          3.1197409388522033,
          3.1368105310651457,
          3.422820906793526,
          3.5116696723687264,
          3.886835979823897,
          3.095040501929157,
          2.511659215087928,
          3.7694434223028215,
          2.9735185438822285,
          0.08831741747141059,
          3.9261133962046104,
          3.521804540195316,
          2.898268044488244,
          2.861143276737291,
          3.7100470956729112,
          2.997413459534622,
          1.9157281966118367,
          2.972478281623053,
          3.811294353125517,
          3.9480678198542307,
          3.9459841848896415,
          -10.360082995129119,
          5.077693313360547,
          6.788642800678916,
          1397.2142386325363,
          0.04541811920657279,
          -7.735970597591175,
          4.191296502890211,
          2.678670335267848,
          2.748485283213708,
          -0.9528508417033434,
          2.807790951536692,
          3.4178358278288017,
          2.4839849604514437,
          2.643736133710241,
          2.367061000706174,
          4.873909480325127,
          3.4052862038554372,
          3.7301361188990785,
          2.999757680952704,
          1.8620576422044426,
          2.692615953642166,
          -8.397583278575423,
          3.6609649366785093,
          1.869871774685045,
          -2344.4261415776677,
          2.3101409788947818,
          1.3613897545299518,
          3.860434706404806,
          2.7524036690586384,
          2.5413273325409924,
          2.728667194301123,
          0.34001457988157086,
          2.240971256797894,
          3.4629831305894476,
          0.40953102415335313,
          -0.10882685344851595,
          3.5553899379581235,
          3.452131686463114,
          4.7178084144268215,
          3.0313055210662383,
          2.922020015324784,
          2.8094748764401998,
          2.233648068775656,
          3.320358875464947,
          1.9030073637025913,
          -242.51290412388425,
          2.801579941401554,
          3.054989739083302,
          1.9112032830923613,
          2.8652961561287067,
          0.2638658920925796,
          -1.3734722321978394,
          2.5578267658989895,
          1.7956721528904922,
          -7.011150848253909,
          4.088753860081933,
          2.9159699732394984,
          3.970464602571532,
          4.461733849174077,
          3.1545363355891256,
          1.890374781206356,
          2.802391754889623,
          2.697513655676566,
          1.7932262154914085,
          -3.8934117043421317,
          2.7331906127418764,
          -9.820686813932525,
          4.264203904366328,
          2.8103296134476574,
          3.7051286586780825,
          4.1043168754439785,
          2.761615288470892,
          1.831148567595941,
          2.465903783873189,
          2.49578456247465,
          1.8223241635810925,
          3.59579009484834,
          2.7080574710274226,
          2.135791584779912,
          2.729476787419649,
          2.065704766073549,
          2.2961662238846445,
          -0.23984357257697475,
          -1.9987440795824571,
          1.8069259525756303,
          3.4820746336012807,
          1.7901292703975562,
          2.817373219738507,
          2.709654546553447,
          2.609901114754849,
          1.842608642987795,
          3.793587048755545,
          -10.978386999700668,
          1.474078226829661,
          3.196206585736677,
          2.4483155710839117,
          -0.34212568573816515,
          2.6742984821780946,
          2.0621704605215725,
          2.623395916010602,
          1.840582742194829,
          2.79905249965428,
          2.4319940977015455,
          2.8121650365296844,
          2.3322444297923717,
          2.457763232880823,
          2.1310195594225894,
          2.2357532378497194,
          2.4456450929157962,
          1.481489040075386,
          2.827162303719114,
          1.8220295710814143,
          3.2313767578764985,
          -1.5142638277779765,
          3.844885644303067,
          2.437349174128788,
          -16.046219461389477,
          2.2598289136478096,
          2.888575903065204,
          3.7877443130998176,
          1.8309391366280074,
          2.444405370880188,
          3.464449368278222,
          -16738.883174824747,
          3.4444923882021428,
          -31.40516341306663,
          1.7801510219553622,
          2.481512501555825,
          2.8421156806997008,
          -0.006595584567567592,
          3.8424435017909984,
          -23.722001400502496,
          2.5755563754222432,
          -6.849131056738962,
          2.445433283118549,
          2.4404137527370238,
          -104.06760149448738,
          -653.5190563406697,
          2.800774169189794,
          0.7541936294278475,
          1.7943791564242142,
          2.552393260992639,
          0.06460143948124353,
          1.7797609089522215,
          1.8494610406739722,
          2.7229607414952888,
          -136.50100515194327,
          -13.883822464057666,
          2.3186613206285145,
          2.438912456778692,
          2.1534141118715886,
          0.09998423688216151,
          2.6978570550219367,
          2.3166078538447774,
          2.4267348475403296,
          2.4469406804675287,
          3.5646171036246677,
          2.812593917162751,
          1.8334102919240338,
          2.2479082757877915,
          0.13854071497119058,
          3.0687075267959685,
          2.4732440278009813,
          2.7667441531464894,
          2.079924807317653,
          2.7301445324893856,
          -2.2005913464967795,
          2.438781885119969,
          -0.8402093314981547,
          2.1622131700675484,
          0.4097410447298788,
          -5.9108282549471385,
          3.4610905690731704,
          3.561855195007254,
          3.6255694110908996,
          3.0519852943581482,
          0.22791136967512027,
          -0.10536228563220007,
          0.7111776235663931,
          2.764683531913395,
          3.582746406286123,
          0.6754514596001958,
          3.125072295289115,
          2.418248987062834,
          0.5014149021020522,
          0.7115278519448794,
          -2.3998313489742333,
          -1.0750535367985825,
          2.799986315581371,
          2.328919082680696,
          2.7931123717514805,
          -31.824691043104508,
          -0.305398438591298,
          1.813029085616077,
          0.20973260708330743,
          1.9583737066258498,
          -0.26072971860647787,
          2.441270878792388,
          1056.5948672035224,
          -0.49784011722197663,
          0.4941989840726593,
          2.0939552565502733,
          1.7829131246428997,
          3.1227988367283093,
          -1.2679861870921374,
          3.5599927394375017,
          2.789732328717441,
          2.4316452233324686,
          2.8433269649216055,
          -0.43675977645277,
          2.5939005352160374,
          2.6952316436141945,
          2.8676143795303606,
          1.8146497029864304,
          2.3207392876749373,
          2.8358284107452723,
          2.7446028132104177,
          2.1562382487797773,
          -2.895743491064252,
          -2.518651043879336,
          -19.594163711383786,
          3.077284506422005,
          3.804744841564612,
          -1.9805839168969648,
          2.838847326449618,
          2.7185535479190923,
          2.83665366611995,
          2.502608048727675,
          2.6910915551133736,
          2.6869239664080546,
          2.1514165102243576,
          269.93321396282397,
          -0.22892694351666742,
          2.8410821728583895,
          2.3253308710445366,
          2.4857491997329224,
          -0.3956580800511267,
          0.9670864181005462,
          1.8097337701986909,
          1.7613383403514595,
          2.66473489046649,
          0.5627992370190094,
          2.6437487809872806,
          2.317683984370609,
          1.7644975528319262,
          2.6846887187442956,
          2.8726035423850105,
          2.4273352275108033,
          0.5454835420163344,
          3.1093931748684835,
          2.9794288921318604,
          1.7660010502758285,
          0.954162083821441,
          0.9476951927747114,
          3.409495358206729,
          3.0897504160698386,
          2.7358783842688137,
          2.461237439185044,
          -0.20025298599665553,
          3.398759494455747,
          2.8768933664905276,
          2.4273949984373653,
          2.4123112163493765,
          2.7806513047983934,
          3.3620608409919206,
          2.779960201652359,
          3.5599333871913146,
          2.6643819923754033,
          -0.8120183583858429,
          2.6015702319641214,
          -222.59131030174228,
          2.7159025805471098,
          253.98937068885277,
          398.32918684278064,
          2.5894166429791245,
          -0.013187430486190976,
          2.7435720697284887,
          0.6258996683066178,
          2.3844322097196446,
          2.2772669648276955,
          2.258506322590241,
          2.19256415238266,
          2.763563960801639,
          2.461381216841229,
          -0.08168250822889078,
          2.5030544881733627,
          2.7040017012213027,
          2.8009229637322823,
          2.635866742306451,
          310.2490973270416,
          2.2027915423681392,
          2.680678818750223,
          9.958080907207092,
          21.30501272759823,
          2.7610971985738475,
          0.8609809156805751,
          2.4974819027522224,
          2.747995567465305,
          -2.65863119071878,
          10.230721593041281,
          2.5680305714802425,
          0.49794680879267594,
          0.4518852326881537,
          2.746249148102944,
          2.604624768832015,
          3.9050528334903345,
          2.6904836136685852,
          0.821100622554265,
          2.6376980245547723,
          3.7436372032441385,
          2.9727868357215494,
          434.64893368420036,
          2.5512039062497545,
          -58.0650738809523,
          309.02014783434174,
          2.5470515477723974,
          9.815209975378082,
          291.2126756003132,
          0.02398584134543924,
          0.8173515453187008,
          -3.955421310550533,
          2.80024734751085,
          0.8096126965925818,
          304.552958567172,
          -11.692298185350205,
          2.8610122991366396,
          2.2684034840915483,
          -53.810846858970365,
          2.969676099778677,
          2.582884321105327,
          -58.262303240969175,
          3.1152428523437035,
          -5.476941927185724,
          0.6744718400129914,
          0.6566315421474398,
          -97.16636562351401,
          0.36033638935717827,
          3.68894787188049,
          3.407428752263361,
          0.8514422977639802,
          -8.369687350039914,
          0.7280077102357942,
          2.4711057732361486,
          2.6807896272121114,
          2.714500367945737,
          13.575599602140965,
          2.9415976334962575,
          2.482817945708722,
          0.8944442936421984,
          3.7008676995414946,
          2.2418540639107016,
          2.640848195775913,
          12.49230344804365,
          3.3688391603233185,
          2.8050543063010034,
          3.3922814734799225,
          -1.0227548013401155,
          -13.975695589082008,
          2.6231100733807193,
          0.7186968222770458,
          0.5039075738410259,
          2.9725968855727984,
          0.8639247448296794,
          2.4720695805297987,
          0.5074279596888822,
          0.5038898093456448,
          -0.4913007526945816,
          2.80567566335998,
          0.9786778987354674,
          2.826611310420741,
          -120.90089817859548,
          2.709096223781206,
          -20.94778527610086,
          -11.743558945706027,
          3.1228994797897953,
          10.852126277525336,
          2.692330297107834,
          -448.04211976426694,
          3.7399561756261694,
          -0.4524233745206945,
          11.70067403218743,
          -0.6332937032474533,
          0.4401367770653044,
          2.7331345759728785,
          2.549807792600037,
          -1.1013402774518362,
          10.636961483696837,
          3.0572612250789906,
          13.199967573059158,
          3.6261562176484423,
          12.350760948403888,
          2.7275392004086667,
          2.705351047599674,
          -218.7376746852224,
          182.6392969225233,
          0.934360847955626,
          2.5244954643265607,
          -15.018757900353137,
          -10.410496392366507,
          1.5409866589126262,
          1.548380007593752,
          -96.69331616602602,
          2.393102533343634,
          10.30445187566004,
          128.32167798178668,
          -28.49420826727369,
          -2.655081122281028,
          -3.667787297603428,
          2.657818739721917,
          2.600673388128291,
          2.693771831002409,
          2.4654604164466094,
          -13.595154587812488,
          1.8921086078639218,
          2.820393780190378,
          -1.9207242582497965,
          6.442253307078899,
          1.5445715997764065,
          2.68315267778338,
          2.782523218209296,
          1.546779081947455,
          131.7185204148788,
          2.651447535419776,
          2.577392784744798,
          2.6192851158477115,
          0.64784640752596,
          2.3782613906197003,
          169.05621090944703,
          33.30161391477898,
          2.4699074168846735,
          -29.89872725453604,
          -30.200919158225283,
          -4.7338117401828015,
          -36.21048941518573,
          -55.221491776661736,
          2.7856557611547403,
          6.005633604076365,
          -13.544031263603076,
          3.122685010131514,
          1.0797210534429509,
          -59.326755715522225,
          -29.706802425309483,
          -6.387474526720905,
          0.44206731525944365,
          3.1904984707648967,
          2.486213668506624,
          -8.045047140033288,
          -5.793134519255984,
          2.541407898925509,
          -21.462558481761597,
          -20.177286456209995,
          -3.69111594518564,
          -57.48052923833828,
          -72.14873456788463,
          -16.549102754966068,
          0.6129483303661496,
          4.366072668476008,
          -12.404082383697066,
          -6.345276816841576,
          179.51430545259976,
          -7.994272345422317,
          1.4659774556627925,
          -3.1316773047504256,
          2.221917950676148,
          1.8660935880493075,
          -0.3444163052781537,
          1.8573808588129486,
          1.4981963504958156,
          0.7573196546324201,
          1.4605676015089928,
          2.221771254390631,
          0.6615873889551493,
          -21.2074904107859,
          2.3261648536391624,
          2.0895096657983387,
          0.659629921216182,
          -0.11983501070389835,
          2.1228740550685052,
          -3.068385114390025,
          1.7792371513657768,
          0.9367464898127162,
          3.8278658536243695,
          2.202047898597008,
          1.4618223702375008,
          1.7885331967501679,
          2.450182738713573,
          2.1739880752543415,
          2.2393151615760427,
          2.2352883639750547,
          0.30856338376334946,
          314.3843027277566,
          2.141769798930392,
          2.110247182626102,
          2.117928451883492,
          -0.32109194796060025,
          2.4901668267994936,
          0.6330541591850634,
          175.6692064174052,
          2.253296281944282,
          2.3021460796681548,
          0.9492743558206804,
          0.6011549569316244,
          3.3228316647306864,
          2.1773583236457674,
          2.267373661737974,
          1.9474290511430794,
          2.2296736399042945,
          -0.325272771103724,
          -1.531107660810573,
          414.28760820328165,
          2.193185911181126,
          2.705515215196683,
          2.1373225694492812,
          3.0077038950782766,
          1.203493623916002,
          -0.27124600397361043,
          3.197192488329543,
          2.3789687678831437,
          2.199406264919541,
          0.2783298267491947,
          2.057984063276666,
          57.97941081969476,
          1.8360702813241574,
          2.1480179615275095,
          -3.0824390982475243,
          1.0460364485417235,
          1.8749223914218986,
          2.4791196594540272,
          1.9931860040008187,
          1.9694697897137983,
          1.9616163739276298,
          2.1842902154447787,
          167.1927828033038,
          2.5077905034890673,
          244.9584728986129,
          2.637724831195776,
          2.2632987747560045,
          2.5656738704377267,
          2.0024952786096044,
          2.3069293133841637,
          2.550970915242206,
          1.9569128808698457,
          1.9814876275906284,
          253.34221107533597,
          2.3126494676163736,
          1.9735991362658063,
          2.350404345851671,
          2.110776157678073,
          2.232599005998781,
          2.2004918354413956,
          1.1650339991988232,
          2.4886302222742427,
          2.512352297494796,
          256.87983680996433,
          2.2919486085722904,
          252.36953333244887,
          1.984768494655108,
          -81.75582635624245,
          2.288785208113372,
          2.007057327782673,
          2.2665208145027647,
          2.537134803827869,
          1.9710123232603036,
          2.5598879753631976,
          1.924724800889072,
          2.1013188646904473,
          2.627202839294626,
          1.9253896379026276,
          2.555535244244054,
          2.187371768217284,
          -6.0619966949850745,
          1.9847003707075712,
          2.008163613162779,
          1.971133680501498,
          2.312623932802357,
          2.0649626997142985,
          2.3254974909012245,
          2.5447477770432645,
          2.5692505718080776,
          1.9713712748608647,
          -2.006996148630746,
          2.5798398712627617,
          2.292325086906923,
          2.57201975519541,
          1.992793559660321,
          1.9854449970562893,
          -2.2761424826764296,
          2.5527610462503683,
          1.9739984708284397,
          2.0235162304036467,
          1.9621662492240415,
          2.0068187443003667,
          2.0725838779481696,
          2.554266273553906,
          2.542268191835678,
          2.206056981622621,
          2.5537950856140603,
          0.8777489860128946,
          2.5039007450937967,
          2.4734818820102205,
          2.1799818956443215,
          1.0675456817299618,
          2.5033198853399234,
          2.18741176180564,
          1.983445272909906,
          2.286548828534453,
          2.417787089920396,
          1.976810068943976,
          -0.24789219157777254,
          1.9838801892094562,
          -0.599342682332626,
          -648.7522103155508,
          0.8426882871348622,
          2.49180724580539,
          0.33796855682280125,
          2.071675779588623,
          2.5640214452674974,
          1.9744883315573223,
          2.5216118609032594,
          1.0209042024435784,
          2.4936392164303474,
          0.17160637905629716,
          2.380166472836575,
          2.372737577965573,
          2.3724395681434105,
          -0.5400637831742872,
          1.00037768832199,
          2.447138205771366,
          2.1861552926727663,
          -0.7914013616156628,
          2.293456584071196,
          2.502296550473753,
          2.542811826611474,
          2.5611271130112954,
          0.3896066742302291,
          2.48457463475163,
          -3.092803703135337,
          -25.348387845491168,
          -0.9238022161339212,
          2.5024560788673744,
          2.530481865821346,
          1.3463754437181203,
          2.2093864566341983,
          2.0656698624980816,
          -1.8573726999504965,
          -38.12073474837348,
          2.6128643435828827,
          2.488924848327252,
          -25.933379453036537,
          2.4887334757399397,
          -8.6623305074765,
          -29.501070471346218,
          -5.6414272392020015,
          0.8794171477703914,
          2.11642716664317,
          2.4909217599940905,
          0.8951588149086569,
          1.1488746601346,
          2.590212336373326,
          2.076330761612941,
          -0.11487966594426835,
          2.4914572109521926,
          2.302490467559905,
          2.233930168185683,
          2.2343989758108047,
          2.0101698700711297,
          2.3260013955023644,
          2.222932076748887,
          1.9543475071866663,
          2.0015919457160423,
          2.2134787560990716,
          2.684783173301319,
          2.1177968742271074,
          1.7591185333090085,
          2.335366818483121,
          2.505811426468933,
          2.6974678104296483,
          1.6763455125810574,
          1.792765067003062,
          1.9544968078177394,
          2.0655520610890856,
          2.2844798538544016,
          1.7968348552929456,
          2.461467807707393,
          2.471827924968567,
          2.1750828359047496,
          1.8407107134507406,
          2.0059950223512875,
          1.7217325844936455,
          2.400593566003584,
          2.052415026698533,
          2.5992377885298605,
          1.6172629754620595,
          2.2379328831263208,
          2.2004802406697235,
          2.2231098751774994,
          2.261547444862259,
          1.767002724157542,
          2.249143219519202,
          1.671157286106648,
          2.6007905864563314,
          2.72938499930773,
          2.1723298269485585,
          2.1770705150393996,
          1.9934363636217887,
          2.5146254721309056,
          1.6465129297165184,
          2.0358636250788886,
          2.194142125913075,
          1.9612318914080815,
          2.1581948892016527,
          2.376408503642349,
          2.213257104162651,
          2.5311565194839627,
          2.301717585106244,
          2.450072628392716,
          2.224147260635271,
          1.9485853225756173,
          2.2502349414074994,
          1.7598059179967478,
          2.2438512360758707,
          2.39695044964519,
          2.6904417889039665,
          2.6272975017135205,
          2.187286799535663,
          1.5995341350469523,
          2.092942420062208,
          2.646194477633687,
          2.0582078771375163,
          1.661426536169055,
          2.608194762603411,
          2.5721742382001196,
          2.0084433227316683,
          1.9966812789889188,
          1.6970518716449987,
          2.503987349053623,
          1.8564621059524733,
          1.6829236387044477,
          2.071543196108098
         ]
        },
        {
         "marker": {
          "size": 3
         },
         "mode": "markers",
         "type": "scatter3d",
         "x": [
          -0.072,
          0.072,
          0.072,
          -0.072
         ],
         "y": [
          -0.072,
          -0.072,
          0.072,
          0.072
         ],
         "z": [
          0,
          0,
          0,
          0
         ]
        },
        {
         "line": {
          "color": "darkblue",
          "width": 2
         },
         "marker": {
          "size": 3
         },
         "text": [
          0,
          1,
          2,
          3,
          4,
          5,
          6,
          7,
          8,
          9,
          10,
          11,
          12,
          13,
          14,
          15,
          16,
          17,
          18,
          19,
          20,
          21,
          22,
          23,
          24,
          25,
          26
         ],
         "type": "scatter3d",
         "x": [
          -0.14040627600754108,
          -0.21176133007965015,
          -0.1893114128047082,
          -0.14164815121689045,
          -0.14552066641812697,
          -0.13226040378252057,
          -0.1454755727600174,
          -0.13883256913795994,
          -0.13610430733818996,
          -0.15037088212045283,
          -0.2234415371480213,
          -0.2663174956601498,
          -0.3249465023806885,
          -0.41297311210152304,
          -0.4706868832346226,
          -0.5428540515251125,
          -0.591868987359283,
          -0.6218762478751433,
          -0.6556791667557134,
          -0.6890755464524224,
          -0.5849600396827787,
          -0.4487840689093185,
          -0.36865258031688125,
          -0.3523662787947125,
          -0.38268978068954995,
          -0.4005002907105931,
          -0.3980822793043254
         ],
         "y": [
          0.07810759982264565,
          -0.035916918912612054,
          -0.09115588844115022,
          -0.040503843975986525,
          -0.08121605255174214,
          -0.1913476147354244,
          -0.1898320112228844,
          -0.18743148501714665,
          -0.18633117448747855,
          -0.1900275829227698,
          -0.22624220494497177,
          -0.26654761906427527,
          -0.3122277925742155,
          -0.3601567821316085,
          -0.39136915626121277,
          -0.4190840222169805,
          -0.4428549252692092,
          -0.4854601345244325,
          -0.5166689048226107,
          -0.5520590548617751,
          -0.5491927631563513,
          -0.5237776962905549,
          -0.5544526546777744,
          -0.5643700663538533,
          -0.5724422048455035,
          -0.5938179010967408,
          -0.5963192176746412
         ],
         "z": [
          -1.7594184540199673,
          -2.6498032418223674,
          -2.4522187631406367,
          -0.993106653817534,
          -0.8002185989917858,
          -0.7130818408157136,
          -0.7221477924581857,
          -0.7177184200255489,
          -0.7068702402705163,
          -0.6997014147351237,
          -0.5468642093909621,
          -0.4490709632402598,
          -0.29522701925489164,
          -0.04469582283109645,
          0.16517357984896244,
          0.35050376956363044,
          0.505518721492468,
          0.6813328514128334,
          0.8474745793516083,
          1.027333806896491,
          1.111716350362748,
          1.2031782833025664,
          1.2920221383261594,
          1.3193408406191587,
          1.4433413149998013,
          1.5532095599813396,
          1.5525664492072146
         ]
        }
       ],
       "layout": {
        "scene": {
         "aspectmode": "data",
         "xaxis": {
          "nticks": 4,
          "range": [
           -2.0136841843269977,
           1.3272066716924131
          ]
         },
         "yaxis": {
          "nticks": 4,
          "range": [
           -2.3581951959441296,
           1.6883657090395916
          ]
         },
         "zaxis": {
          "nticks": 4,
          "range": [
           -12.627461782798145,
           12.590615028024098
          ]
         }
        },
        "template": {
         "data": {
          "bar": [
           {
            "error_x": {
             "color": "#2a3f5f"
            },
            "error_y": {
             "color": "#2a3f5f"
            },
            "marker": {
             "line": {
              "color": "#E5ECF6",
              "width": 0.5
             },
             "pattern": {
              "fillmode": "overlay",
              "size": 10,
              "solidity": 0.2
             }
            },
            "type": "bar"
           }
          ],
          "barpolar": [
           {
            "marker": {
             "line": {
              "color": "#E5ECF6",
              "width": 0.5
             },
             "pattern": {
              "fillmode": "overlay",
              "size": 10,
              "solidity": 0.2
             }
            },
            "type": "barpolar"
           }
          ],
          "carpet": [
           {
            "aaxis": {
             "endlinecolor": "#2a3f5f",
             "gridcolor": "white",
             "linecolor": "white",
             "minorgridcolor": "white",
             "startlinecolor": "#2a3f5f"
            },
            "baxis": {
             "endlinecolor": "#2a3f5f",
             "gridcolor": "white",
             "linecolor": "white",
             "minorgridcolor": "white",
             "startlinecolor": "#2a3f5f"
            },
            "type": "carpet"
           }
          ],
          "choropleth": [
           {
            "colorbar": {
             "outlinewidth": 0,
             "ticks": ""
            },
            "type": "choropleth"
           }
          ],
          "contour": [
           {
            "colorbar": {
             "outlinewidth": 0,
             "ticks": ""
            },
            "colorscale": [
             [
              0,
              "#0d0887"
             ],
             [
              0.1111111111111111,
              "#46039f"
             ],
             [
              0.2222222222222222,
              "#7201a8"
             ],
             [
              0.3333333333333333,
              "#9c179e"
             ],
             [
              0.4444444444444444,
              "#bd3786"
             ],
             [
              0.5555555555555556,
              "#d8576b"
             ],
             [
              0.6666666666666666,
              "#ed7953"
             ],
             [
              0.7777777777777778,
              "#fb9f3a"
             ],
             [
              0.8888888888888888,
              "#fdca26"
             ],
             [
              1,
              "#f0f921"
             ]
            ],
            "type": "contour"
           }
          ],
          "contourcarpet": [
           {
            "colorbar": {
             "outlinewidth": 0,
             "ticks": ""
            },
            "type": "contourcarpet"
           }
          ],
          "heatmap": [
           {
            "colorbar": {
             "outlinewidth": 0,
             "ticks": ""
            },
            "colorscale": [
             [
              0,
              "#0d0887"
             ],
             [
              0.1111111111111111,
              "#46039f"
             ],
             [
              0.2222222222222222,
              "#7201a8"
             ],
             [
              0.3333333333333333,
              "#9c179e"
             ],
             [
              0.4444444444444444,
              "#bd3786"
             ],
             [
              0.5555555555555556,
              "#d8576b"
             ],
             [
              0.6666666666666666,
              "#ed7953"
             ],
             [
              0.7777777777777778,
              "#fb9f3a"
             ],
             [
              0.8888888888888888,
              "#fdca26"
             ],
             [
              1,
              "#f0f921"
             ]
            ],
            "type": "heatmap"
           }
          ],
          "heatmapgl": [
           {
            "colorbar": {
             "outlinewidth": 0,
             "ticks": ""
            },
            "colorscale": [
             [
              0,
              "#0d0887"
             ],
             [
              0.1111111111111111,
              "#46039f"
             ],
             [
              0.2222222222222222,
              "#7201a8"
             ],
             [
              0.3333333333333333,
              "#9c179e"
             ],
             [
              0.4444444444444444,
              "#bd3786"
             ],
             [
              0.5555555555555556,
              "#d8576b"
             ],
             [
              0.6666666666666666,
              "#ed7953"
             ],
             [
              0.7777777777777778,
              "#fb9f3a"
             ],
             [
              0.8888888888888888,
              "#fdca26"
             ],
             [
              1,
              "#f0f921"
             ]
            ],
            "type": "heatmapgl"
           }
          ],
          "histogram": [
           {
            "marker": {
             "pattern": {
              "fillmode": "overlay",
              "size": 10,
              "solidity": 0.2
             }
            },
            "type": "histogram"
           }
          ],
          "histogram2d": [
           {
            "colorbar": {
             "outlinewidth": 0,
             "ticks": ""
            },
            "colorscale": [
             [
              0,
              "#0d0887"
             ],
             [
              0.1111111111111111,
              "#46039f"
             ],
             [
              0.2222222222222222,
              "#7201a8"
             ],
             [
              0.3333333333333333,
              "#9c179e"
             ],
             [
              0.4444444444444444,
              "#bd3786"
             ],
             [
              0.5555555555555556,
              "#d8576b"
             ],
             [
              0.6666666666666666,
              "#ed7953"
             ],
             [
              0.7777777777777778,
              "#fb9f3a"
             ],
             [
              0.8888888888888888,
              "#fdca26"
             ],
             [
              1,
              "#f0f921"
             ]
            ],
            "type": "histogram2d"
           }
          ],
          "histogram2dcontour": [
           {
            "colorbar": {
             "outlinewidth": 0,
             "ticks": ""
            },
            "colorscale": [
             [
              0,
              "#0d0887"
             ],
             [
              0.1111111111111111,
              "#46039f"
             ],
             [
              0.2222222222222222,
              "#7201a8"
             ],
             [
              0.3333333333333333,
              "#9c179e"
             ],
             [
              0.4444444444444444,
              "#bd3786"
             ],
             [
              0.5555555555555556,
              "#d8576b"
             ],
             [
              0.6666666666666666,
              "#ed7953"
             ],
             [
              0.7777777777777778,
              "#fb9f3a"
             ],
             [
              0.8888888888888888,
              "#fdca26"
             ],
             [
              1,
              "#f0f921"
             ]
            ],
            "type": "histogram2dcontour"
           }
          ],
          "mesh3d": [
           {
            "colorbar": {
             "outlinewidth": 0,
             "ticks": ""
            },
            "type": "mesh3d"
           }
          ],
          "parcoords": [
           {
            "line": {
             "colorbar": {
              "outlinewidth": 0,
              "ticks": ""
             }
            },
            "type": "parcoords"
           }
          ],
          "pie": [
           {
            "automargin": true,
            "type": "pie"
           }
          ],
          "scatter": [
           {
            "fillpattern": {
             "fillmode": "overlay",
             "size": 10,
             "solidity": 0.2
            },
            "type": "scatter"
           }
          ],
          "scatter3d": [
           {
            "line": {
             "colorbar": {
              "outlinewidth": 0,
              "ticks": ""
             }
            },
            "marker": {
             "colorbar": {
              "outlinewidth": 0,
              "ticks": ""
             }
            },
            "type": "scatter3d"
           }
          ],
          "scattercarpet": [
           {
            "marker": {
             "colorbar": {
              "outlinewidth": 0,
              "ticks": ""
             }
            },
            "type": "scattercarpet"
           }
          ],
          "scattergeo": [
           {
            "marker": {
             "colorbar": {
              "outlinewidth": 0,
              "ticks": ""
             }
            },
            "type": "scattergeo"
           }
          ],
          "scattergl": [
           {
            "marker": {
             "colorbar": {
              "outlinewidth": 0,
              "ticks": ""
             }
            },
            "type": "scattergl"
           }
          ],
          "scattermapbox": [
           {
            "marker": {
             "colorbar": {
              "outlinewidth": 0,
              "ticks": ""
             }
            },
            "type": "scattermapbox"
           }
          ],
          "scatterpolar": [
           {
            "marker": {
             "colorbar": {
              "outlinewidth": 0,
              "ticks": ""
             }
            },
            "type": "scatterpolar"
           }
          ],
          "scatterpolargl": [
           {
            "marker": {
             "colorbar": {
              "outlinewidth": 0,
              "ticks": ""
             }
            },
            "type": "scatterpolargl"
           }
          ],
          "scatterternary": [
           {
            "marker": {
             "colorbar": {
              "outlinewidth": 0,
              "ticks": ""
             }
            },
            "type": "scatterternary"
           }
          ],
          "surface": [
           {
            "colorbar": {
             "outlinewidth": 0,
             "ticks": ""
            },
            "colorscale": [
             [
              0,
              "#0d0887"
             ],
             [
              0.1111111111111111,
              "#46039f"
             ],
             [
              0.2222222222222222,
              "#7201a8"
             ],
             [
              0.3333333333333333,
              "#9c179e"
             ],
             [
              0.4444444444444444,
              "#bd3786"
             ],
             [
              0.5555555555555556,
              "#d8576b"
             ],
             [
              0.6666666666666666,
              "#ed7953"
             ],
             [
              0.7777777777777778,
              "#fb9f3a"
             ],
             [
              0.8888888888888888,
              "#fdca26"
             ],
             [
              1,
              "#f0f921"
             ]
            ],
            "type": "surface"
           }
          ],
          "table": [
           {
            "cells": {
             "fill": {
              "color": "#EBF0F8"
             },
             "line": {
              "color": "white"
             }
            },
            "header": {
             "fill": {
              "color": "#C8D4E3"
             },
             "line": {
              "color": "white"
             }
            },
            "type": "table"
           }
          ]
         },
         "layout": {
          "annotationdefaults": {
           "arrowcolor": "#2a3f5f",
           "arrowhead": 0,
           "arrowwidth": 1
          },
          "autotypenumbers": "strict",
          "coloraxis": {
           "colorbar": {
            "outlinewidth": 0,
            "ticks": ""
           }
          },
          "colorscale": {
           "diverging": [
            [
             0,
             "#8e0152"
            ],
            [
             0.1,
             "#c51b7d"
            ],
            [
             0.2,
             "#de77ae"
            ],
            [
             0.3,
             "#f1b6da"
            ],
            [
             0.4,
             "#fde0ef"
            ],
            [
             0.5,
             "#f7f7f7"
            ],
            [
             0.6,
             "#e6f5d0"
            ],
            [
             0.7,
             "#b8e186"
            ],
            [
             0.8,
             "#7fbc41"
            ],
            [
             0.9,
             "#4d9221"
            ],
            [
             1,
             "#276419"
            ]
           ],
           "sequential": [
            [
             0,
             "#0d0887"
            ],
            [
             0.1111111111111111,
             "#46039f"
            ],
            [
             0.2222222222222222,
             "#7201a8"
            ],
            [
             0.3333333333333333,
             "#9c179e"
            ],
            [
             0.4444444444444444,
             "#bd3786"
            ],
            [
             0.5555555555555556,
             "#d8576b"
            ],
            [
             0.6666666666666666,
             "#ed7953"
            ],
            [
             0.7777777777777778,
             "#fb9f3a"
            ],
            [
             0.8888888888888888,
             "#fdca26"
            ],
            [
             1,
             "#f0f921"
            ]
           ],
           "sequentialminus": [
            [
             0,
             "#0d0887"
            ],
            [
             0.1111111111111111,
             "#46039f"
            ],
            [
             0.2222222222222222,
             "#7201a8"
            ],
            [
             0.3333333333333333,
             "#9c179e"
            ],
            [
             0.4444444444444444,
             "#bd3786"
            ],
            [
             0.5555555555555556,
             "#d8576b"
            ],
            [
             0.6666666666666666,
             "#ed7953"
            ],
            [
             0.7777777777777778,
             "#fb9f3a"
            ],
            [
             0.8888888888888888,
             "#fdca26"
            ],
            [
             1,
             "#f0f921"
            ]
           ]
          },
          "colorway": [
           "#636efa",
           "#EF553B",
           "#00cc96",
           "#ab63fa",
           "#FFA15A",
           "#19d3f3",
           "#FF6692",
           "#B6E880",
           "#FF97FF",
           "#FECB52"
          ],
          "font": {
           "color": "#2a3f5f"
          },
          "geo": {
           "bgcolor": "white",
           "lakecolor": "white",
           "landcolor": "#E5ECF6",
           "showlakes": true,
           "showland": true,
           "subunitcolor": "white"
          },
          "hoverlabel": {
           "align": "left"
          },
          "hovermode": "closest",
          "mapbox": {
           "style": "light"
          },
          "paper_bgcolor": "white",
          "plot_bgcolor": "#E5ECF6",
          "polar": {
           "angularaxis": {
            "gridcolor": "white",
            "linecolor": "white",
            "ticks": ""
           },
           "bgcolor": "#E5ECF6",
           "radialaxis": {
            "gridcolor": "white",
            "linecolor": "white",
            "ticks": ""
           }
          },
          "scene": {
           "xaxis": {
            "backgroundcolor": "#E5ECF6",
            "gridcolor": "white",
            "gridwidth": 2,
            "linecolor": "white",
            "showbackground": true,
            "ticks": "",
            "zerolinecolor": "white"
           },
           "yaxis": {
            "backgroundcolor": "#E5ECF6",
            "gridcolor": "white",
            "gridwidth": 2,
            "linecolor": "white",
            "showbackground": true,
            "ticks": "",
            "zerolinecolor": "white"
           },
           "zaxis": {
            "backgroundcolor": "#E5ECF6",
            "gridcolor": "white",
            "gridwidth": 2,
            "linecolor": "white",
            "showbackground": true,
            "ticks": "",
            "zerolinecolor": "white"
           }
          },
          "shapedefaults": {
           "line": {
            "color": "#2a3f5f"
           }
          },
          "ternary": {
           "aaxis": {
            "gridcolor": "white",
            "linecolor": "white",
            "ticks": ""
           },
           "baxis": {
            "gridcolor": "white",
            "linecolor": "white",
            "ticks": ""
           },
           "bgcolor": "#E5ECF6",
           "caxis": {
            "gridcolor": "white",
            "linecolor": "white",
            "ticks": ""
           }
          },
          "title": {
           "x": 0.05
          },
          "xaxis": {
           "automargin": true,
           "gridcolor": "white",
           "linecolor": "white",
           "ticks": "",
           "title": {
            "standoff": 15
           },
           "zerolinecolor": "white",
           "zerolinewidth": 2
          },
          "yaxis": {
           "automargin": true,
           "gridcolor": "white",
           "linecolor": "white",
           "ticks": "",
           "title": {
            "standoff": 15
           },
           "zerolinecolor": "white",
           "zerolinewidth": 2
          }
         }
        }
       }
      }
     },
     "metadata": {},
     "output_type": "display_data"
    }
   ],
   "source": [
    "fig = go.Figure(data=[go.Scatter3d(x=landmarks_3d[0], y=landmarks_3d[1], z=landmarks_3d[2],\n",
    "                                   mode='markers', marker_size=1)] + \n",
    "                     [go.Scatter3d(x=marker_points.T[0], y=marker_points.T[1], z=marker_points.T[2],\n",
    "                                   mode='markers', marker_size=3)] + \n",
    "                     [go.Scatter3d(x=camera_poses[0], y=camera_poses[1], z=camera_poses[2],\n",
    "                                   line=dict(color='darkblue',width=2), marker_size=3, text=np.arange(0, len(keyframes)))])\n",
    "\n",
    "window = 3\n",
    "width = np.max(camera_poses, axis=1) - np.min(camera_poses, axis=1)\n",
    "range_ = np.vstack((np.mean(camera_poses, axis=1) - window * width, np.mean(camera_poses, axis=1) + window * width))\n",
    "\n",
    "range_ = range_.T\n",
    "\n",
    "fig.update_layout(\n",
    "    scene = dict(\n",
    "        xaxis = dict(nticks=4, range=range_[0]),\n",
    "        yaxis = dict(nticks=4, range=range_[1]),\n",
    "        zaxis = dict(nticks=4, range=range_[2]),\n",
    "        aspectmode='data'))\n",
    "\n",
    "fig.show()\n",
    "# fig.write_html(\"feature_map.html\")"
   ]
  },
  {
   "cell_type": "code",
   "execution_count": 91,
   "metadata": {},
   "outputs": [],
   "source": [
    "fig.write_html(\"piece_of_lab_with_aruco_2.html\")"
   ]
  },
  {
   "cell_type": "code",
   "execution_count": 83,
   "metadata": {},
   "outputs": [],
   "source": [
    "# U, S, V = np.linalg.svd(camera_poses)\n",
    "# S[2] = 0\n",
    "# projected_points = U[:2, :] @ np.diag(S[:]) @ V.T[:3, :]\n",
    "\n",
    "# plt.figure(figsize=(15, 10))\n",
    "# plt.scatter(projected_points[0], projected_points[1], )\n",
    "# plt.plot(projected_points[0], projected_points[1])\n",
    "# for i in range(projected_points.shape[1]):\n",
    "#     plt.annotate(i, (projected_points[0][i], projected_points[1][i]))\n",
    "# plt.show()"
   ]
  },
  {
   "cell_type": "code",
   "execution_count": 57,
   "metadata": {},
   "outputs": [
    {
     "data": {
      "text/plain": [
       "array([[-0.50691447,  0.27897698],\n",
       "       [-0.4858643 ,  0.54334957],\n",
       "       [-4.73437764,  2.12785714]])"
      ]
     },
     "execution_count": 57,
     "metadata": {},
     "output_type": "execute_result"
    }
   ],
   "source": [
    "window = 2\n",
    "width = np.max(camera_poses, axis=1) - np.min(camera_poses, axis=1)\n",
    "range_ = np.vstack((np.mean(camera_poses, axis=1) - window * width, np.mean(camera_poses, axis=1) + window * width))\n",
    "\n",
    "range_ = range_.T\n",
    "range_"
   ]
  },
  {
   "cell_type": "code",
   "execution_count": 47,
   "metadata": {},
   "outputs": [
    {
     "data": {
      "image/png": "[encoded data removed]",
      "text/plain": [
       "<Figure size 1080x720 with 1 Axes>"
      ]
     },
     "metadata": {
      "needs_background": "light"
     },
     "output_type": "display_data"
    }
   ],
   "source": [
    "pca = PCA(n_components=2)\n",
    "proj_points = pca.fit_transform(camera_poses.T)\n",
    "proj_points = proj_points.T\n",
    "\n",
    "plt.figure(figsize=(15, 10))\n",
    "plt.axis('equal')\n",
    "plt.plot(proj_points[0], proj_points[1], marker='.')\n",
    "for i in range(proj_points.shape[1]):\n",
    "    plt.annotate(i, (proj_points[0][i], proj_points[1][i]))\n",
    "plt.show()"
   ]
  },
  {
   "cell_type": "code",
   "execution_count": null,
   "metadata": {},
   "outputs": [],
   "source": [
    "# global_matches = []\n",
    "\n",
    "# for m in range(len(keyframes[1][3])):\n",
    "#     global_matches.append([keyframes[1][3][m].queryIdx, keyframes[1][3][m].trainIdx])\n",
    "\n",
    "# for kf in tqdm(range(2, len(keyframes))):\n",
    "#     for m in range(len(keyframes[kf][3])):\n",
    "#         found_match = False\n",
    "#         for global_match in global_matches:\n",
    "#             if global_match[-1] == keyframes[kf][3][m].queryIdx and len(global_match) != kf+1:\n",
    "#                 global_match.append(keyframes[kf][3][m].trainIdx)\n",
    "#                 found_match = True\n",
    "#         if not found_match:\n",
    "#             global_matches.append([-1] * (kf - 1) + [keyframes[kf][3][m].queryIdx, keyframes[kf][3][m].trainIdx])\n",
    "            \n",
    "#     for global_match in global_matches:\n",
    "#         if len(global_match) < kf + 1:\n",
    "#             global_match.extend([-1])\n",
    "\n",
    "# assert len(keyframes) == min([len(x) for x in global_matches]) == max([len(x) for x in global_matches])\n",
    "\n",
    "# global_matches = []\n",
    "\n",
    "# for kf_1 in tqdm(range(len(keyframes))):\n",
    "    \n",
    "#     kp_1, des_1 = orb.detectAndCompute(keyframes[kf_1][2], None)\n",
    "\n",
    "#     for kf_2 in range(kf_1 + 1, len(keyframes)):\n",
    "#         kp_2, des_2 = orb.detectAndCompute(keyframes[kf_2][2], None)\n",
    "#         matches = bf.knnMatch(des_1, des_2, k=2)\n",
    "\n",
    "#         for m,n in keyframe_matches:\n",
    "#             if m.distance < 0.75*n.distance:\n",
    "#                 good.append(m)\n",
    "            \n",
    "#         for m in good:\n"
   ]
  },
  {
   "cell_type": "code",
   "execution_count": 94,
   "metadata": {},
   "outputs": [
    {
     "name": "stderr",
     "output_type": "stream",
     "text": [
      "  0%|          | 0/27 [00:00<?, ?it/s]"
     ]
    },
    {
     "name": "stderr",
     "output_type": "stream",
     "text": [
      "100%|██████████| 27/27 [01:02<00:00,  2.32s/it]\n",
      "<ipython-input-94-b88d4f637b74>:65: VisibleDeprecationWarning:\n",
      "\n",
      "Creating an ndarray from ragged nested sequences (which is a list-or-tuple of lists-or-tuples-or ndarrays with different lengths or shapes) is deprecated. If you meant to do this, you must specify 'dtype=object' when creating the ndarray.\n",
      "\n",
      "<ipython-input-94-b88d4f637b74>:66: VisibleDeprecationWarning:\n",
      "\n",
      "Creating an ndarray from ragged nested sequences (which is a list-or-tuple of lists-or-tuples-or ndarrays with different lengths or shapes) is deprecated. If you meant to do this, you must specify 'dtype=object' when creating the ndarray.\n",
      "\n"
     ]
    },
    {
     "name": "stdout",
     "output_type": "stream",
     "text": [
      "3411620250.886453\n"
     ]
    },
    {
     "name": "stderr",
     "output_type": "stream",
     "text": [
      "100%|██████████| 27/27 [01:38<00:00,  3.67s/it]\n"
     ]
    },
    {
     "name": "stdout",
     "output_type": "stream",
     "text": [
      "62468526025.46844\n"
     ]
    },
    {
     "name": "stderr",
     "output_type": "stream",
     "text": [
      "100%|██████████| 27/27 [01:18<00:00,  2.92s/it]\n"
     ]
    },
    {
     "name": "stdout",
     "output_type": "stream",
     "text": [
      "292793155.921304\n"
     ]
    },
    {
     "name": "stderr",
     "output_type": "stream",
     "text": [
      "100%|██████████| 27/27 [00:55<00:00,  2.07s/it]\n"
     ]
    },
    {
     "name": "stdout",
     "output_type": "stream",
     "text": [
      "438252148.2029253\n"
     ]
    },
    {
     "name": "stderr",
     "output_type": "stream",
     "text": [
      "100%|██████████| 27/27 [01:05<00:00,  2.43s/it]\n"
     ]
    },
    {
     "name": "stdout",
     "output_type": "stream",
     "text": [
      "554780668.8344271\n"
     ]
    },
    {
     "name": "stderr",
     "output_type": "stream",
     "text": [
      "100%|██████████| 27/27 [01:07<00:00,  2.48s/it]\n"
     ]
    },
    {
     "name": "stdout",
     "output_type": "stream",
     "text": [
      "513922733.2204293\n"
     ]
    },
    {
     "name": "stderr",
     "output_type": "stream",
     "text": [
      "100%|██████████| 27/27 [01:06<00:00,  2.48s/it]\n"
     ]
    },
    {
     "name": "stdout",
     "output_type": "stream",
     "text": [
      "388052436.14505666\n"
     ]
    },
    {
     "name": "stderr",
     "output_type": "stream",
     "text": [
      "100%|██████████| 27/27 [01:14<00:00,  2.74s/it]\n"
     ]
    },
    {
     "name": "stdout",
     "output_type": "stream",
     "text": [
      "3190664699.78875\n"
     ]
    },
    {
     "name": "stderr",
     "output_type": "stream",
     "text": [
      "100%|██████████| 27/27 [01:16<00:00,  2.84s/it]\n"
     ]
    },
    {
     "name": "stdout",
     "output_type": "stream",
     "text": [
      "7478940987.784977\n"
     ]
    },
    {
     "name": "stderr",
     "output_type": "stream",
     "text": [
      "100%|██████████| 27/27 [01:00<00:00,  2.25s/it]\n"
     ]
    },
    {
     "name": "stdout",
     "output_type": "stream",
     "text": [
      "2168610749.0009093\n"
     ]
    },
    {
     "name": "stderr",
     "output_type": "stream",
     "text": [
      "100%|██████████| 27/27 [00:58<00:00,  2.18s/it]\n"
     ]
    },
    {
     "name": "stdout",
     "output_type": "stream",
     "text": [
      "351744818.3747611\n"
     ]
    },
    {
     "name": "stderr",
     "output_type": "stream",
     "text": [
      "100%|██████████| 27/27 [01:02<00:00,  2.32s/it]\n"
     ]
    },
    {
     "name": "stdout",
     "output_type": "stream",
     "text": [
      "2344731173.328132\n"
     ]
    },
    {
     "name": "stderr",
     "output_type": "stream",
     "text": [
      "100%|██████████| 27/27 [01:05<00:00,  2.44s/it]\n"
     ]
    },
    {
     "name": "stdout",
     "output_type": "stream",
     "text": [
      "552903150.4251729\n"
     ]
    },
    {
     "name": "stderr",
     "output_type": "stream",
     "text": [
      "100%|██████████| 27/27 [01:03<00:00,  2.36s/it]\n"
     ]
    },
    {
     "name": "stdout",
     "output_type": "stream",
     "text": [
      "354586147.5214544\n"
     ]
    },
    {
     "name": "stderr",
     "output_type": "stream",
     "text": [
      "100%|██████████| 27/27 [01:25<00:00,  3.17s/it]\n"
     ]
    },
    {
     "name": "stdout",
     "output_type": "stream",
     "text": [
      "24603652470.486343\n"
     ]
    },
    {
     "name": "stderr",
     "output_type": "stream",
     "text": [
      "100%|██████████| 27/27 [01:02<00:00,  2.32s/it]\n"
     ]
    },
    {
     "name": "stdout",
     "output_type": "stream",
     "text": [
      "1197796946.8105555\n"
     ]
    },
    {
     "name": "stderr",
     "output_type": "stream",
     "text": [
      "100%|██████████| 27/27 [00:55<00:00,  2.07s/it]\n"
     ]
    },
    {
     "name": "stdout",
     "output_type": "stream",
     "text": [
      "655855038.8377161\n"
     ]
    },
    {
     "name": "stderr",
     "output_type": "stream",
     "text": [
      "100%|██████████| 27/27 [01:15<00:00,  2.80s/it]\n"
     ]
    },
    {
     "name": "stdout",
     "output_type": "stream",
     "text": [
      "103619405550.83597\n"
     ]
    },
    {
     "name": "stderr",
     "output_type": "stream",
     "text": [
      "100%|██████████| 27/27 [00:52<00:00,  1.93s/it]\n"
     ]
    },
    {
     "name": "stdout",
     "output_type": "stream",
     "text": [
      "2539440937.1068287\n"
     ]
    },
    {
     "name": "stderr",
     "output_type": "stream",
     "text": [
      "100%|██████████| 27/27 [00:48<00:00,  1.81s/it]\n"
     ]
    },
    {
     "name": "stdout",
     "output_type": "stream",
     "text": [
      "384383901.41255873\n"
     ]
    },
    {
     "name": "stderr",
     "output_type": "stream",
     "text": [
      "100%|██████████| 27/27 [01:01<00:00,  2.28s/it]\n"
     ]
    },
    {
     "name": "stdout",
     "output_type": "stream",
     "text": [
      "593623401.8779016\n"
     ]
    },
    {
     "name": "stderr",
     "output_type": "stream",
     "text": [
      "100%|██████████| 27/27 [01:11<00:00,  2.64s/it]\n"
     ]
    },
    {
     "name": "stdout",
     "output_type": "stream",
     "text": [
      "94791545367.35942\n"
     ]
    },
    {
     "name": "stderr",
     "output_type": "stream",
     "text": [
      "100%|██████████| 27/27 [01:07<00:00,  2.51s/it]\n"
     ]
    },
    {
     "name": "stdout",
     "output_type": "stream",
     "text": [
      "729336030.8076675\n"
     ]
    },
    {
     "name": "stderr",
     "output_type": "stream",
     "text": [
      "100%|██████████| 27/27 [01:00<00:00,  2.25s/it]\n"
     ]
    },
    {
     "name": "stdout",
     "output_type": "stream",
     "text": [
      "1690046254.912068\n"
     ]
    },
    {
     "name": "stderr",
     "output_type": "stream",
     "text": [
      "100%|██████████| 27/27 [00:52<00:00,  1.96s/it]\n"
     ]
    },
    {
     "name": "stdout",
     "output_type": "stream",
     "text": [
      "744836486.1120456\n"
     ]
    },
    {
     "name": "stderr",
     "output_type": "stream",
     "text": [
      "100%|██████████| 27/27 [00:59<00:00,  2.21s/it]\n"
     ]
    },
    {
     "name": "stdout",
     "output_type": "stream",
     "text": [
      "355839356.77038395\n"
     ]
    },
    {
     "name": "stderr",
     "output_type": "stream",
     "text": [
      "100%|██████████| 27/27 [00:49<00:00,  1.83s/it]\n"
     ]
    },
    {
     "name": "stdout",
     "output_type": "stream",
     "text": [
      "392123480.31073666\n"
     ]
    },
    {
     "name": "stderr",
     "output_type": "stream",
     "text": [
      "100%|██████████| 27/27 [00:55<00:00,  2.05s/it]\n"
     ]
    },
    {
     "name": "stdout",
     "output_type": "stream",
     "text": [
      "3185332874.7755866\n"
     ]
    },
    {
     "name": "stderr",
     "output_type": "stream",
     "text": [
      "100%|██████████| 27/27 [01:10<00:00,  2.61s/it]\n"
     ]
    },
    {
     "name": "stdout",
     "output_type": "stream",
     "text": [
      "12475165689.498598\n"
     ]
    },
    {
     "name": "stderr",
     "output_type": "stream",
     "text": [
      "100%|██████████| 27/27 [01:09<00:00,  2.56s/it]\n"
     ]
    },
    {
     "name": "stdout",
     "output_type": "stream",
     "text": [
      "1776811586.3953857\n"
     ]
    },
    {
     "name": "stderr",
     "output_type": "stream",
     "text": [
      "100%|██████████| 27/27 [01:17<00:00,  2.87s/it]\n",
      "<ipython-input-94-b88d4f637b74>:156: VisibleDeprecationWarning:\n",
      "\n",
      "Creating an ndarray from ragged nested sequences (which is a list-or-tuple of lists-or-tuples-or ndarrays with different lengths or shapes) is deprecated. If you meant to do this, you must specify 'dtype=object' when creating the ndarray.\n",
      "\n",
      "<ipython-input-94-b88d4f637b74>:157: VisibleDeprecationWarning:\n",
      "\n",
      "Creating an ndarray from ragged nested sequences (which is a list-or-tuple of lists-or-tuples-or ndarrays with different lengths or shapes) is deprecated. If you meant to do this, you must specify 'dtype=object' when creating the ndarray.\n",
      "\n"
     ]
    },
    {
     "name": "stdout",
     "output_type": "stream",
     "text": [
      "37214828146.23583\n"
     ]
    },
    {
     "name": "stderr",
     "output_type": "stream",
     "text": [
      "100%|██████████| 27/27 [01:00<00:00,  2.22s/it]\n"
     ]
    },
    {
     "name": "stdout",
     "output_type": "stream",
     "text": [
      "173418102096.39948\n"
     ]
    },
    {
     "name": "stderr",
     "output_type": "stream",
     "text": [
      "100%|██████████| 27/27 [00:43<00:00,  1.62s/it]\n"
     ]
    },
    {
     "name": "stdout",
     "output_type": "stream",
     "text": [
      "49427876741.17151\n"
     ]
    },
    {
     "name": "stderr",
     "output_type": "stream",
     "text": [
      "100%|██████████| 27/27 [00:44<00:00,  1.65s/it]\n"
     ]
    },
    {
     "name": "stdout",
     "output_type": "stream",
     "text": [
      "5458480695.768927\n"
     ]
    },
    {
     "name": "stderr",
     "output_type": "stream",
     "text": [
      "100%|██████████| 27/27 [01:02<00:00,  2.32s/it]\n"
     ]
    },
    {
     "name": "stdout",
     "output_type": "stream",
     "text": [
      "129614337462.08975\n"
     ]
    },
    {
     "name": "stderr",
     "output_type": "stream",
     "text": [
      "100%|██████████| 27/27 [00:59<00:00,  2.22s/it]\n"
     ]
    },
    {
     "name": "stdout",
     "output_type": "stream",
     "text": [
      "33622713878.900505\n"
     ]
    },
    {
     "name": "stderr",
     "output_type": "stream",
     "text": [
      "100%|██████████| 27/27 [01:18<00:00,  2.90s/it]\n"
     ]
    },
    {
     "name": "stdout",
     "output_type": "stream",
     "text": [
      "130035299967.27563\n"
     ]
    },
    {
     "name": "stderr",
     "output_type": "stream",
     "text": [
      "100%|██████████| 27/27 [00:58<00:00,  2.18s/it]\n"
     ]
    },
    {
     "name": "stdout",
     "output_type": "stream",
     "text": [
      "163079949284.24445\n"
     ]
    },
    {
     "name": "stderr",
     "output_type": "stream",
     "text": [
      "100%|██████████| 27/27 [00:53<00:00,  1.96s/it]\n"
     ]
    },
    {
     "name": "stdout",
     "output_type": "stream",
     "text": [
      "5907490354.082194\n"
     ]
    },
    {
     "name": "stderr",
     "output_type": "stream",
     "text": [
      "100%|██████████| 27/27 [01:01<00:00,  2.29s/it]\n"
     ]
    },
    {
     "name": "stdout",
     "output_type": "stream",
     "text": [
      "1199925150.2547936\n"
     ]
    },
    {
     "name": "stderr",
     "output_type": "stream",
     "text": [
      "100%|██████████| 27/27 [01:00<00:00,  2.25s/it]\n"
     ]
    },
    {
     "name": "stdout",
     "output_type": "stream",
     "text": [
      "24825991627.086533\n"
     ]
    },
    {
     "name": "stderr",
     "output_type": "stream",
     "text": [
      "100%|██████████| 27/27 [00:34<00:00,  1.28s/it]\n"
     ]
    },
    {
     "name": "stdout",
     "output_type": "stream",
     "text": [
      "115770972252.07158\n"
     ]
    },
    {
     "name": "stderr",
     "output_type": "stream",
     "text": [
      "100%|██████████| 27/27 [01:11<00:00,  2.64s/it]\n"
     ]
    },
    {
     "name": "stdout",
     "output_type": "stream",
     "text": [
      "25706120399.94656\n"
     ]
    },
    {
     "name": "stderr",
     "output_type": "stream",
     "text": [
      "100%|██████████| 27/27 [00:48<00:00,  1.80s/it]\n"
     ]
    },
    {
     "name": "stdout",
     "output_type": "stream",
     "text": [
      "35685955631.39125\n"
     ]
    },
    {
     "name": "stderr",
     "output_type": "stream",
     "text": [
      "100%|██████████| 27/27 [01:14<00:00,  2.76s/it]\n"
     ]
    },
    {
     "name": "stdout",
     "output_type": "stream",
     "text": [
      "41277089078.895256\n"
     ]
    },
    {
     "name": "stderr",
     "output_type": "stream",
     "text": [
      "100%|██████████| 27/27 [00:39<00:00,  1.45s/it]\n"
     ]
    },
    {
     "name": "stdout",
     "output_type": "stream",
     "text": [
      "33078132166.591534\n"
     ]
    },
    {
     "name": "stderr",
     "output_type": "stream",
     "text": [
      "100%|██████████| 27/27 [00:57<00:00,  2.14s/it]\n"
     ]
    },
    {
     "name": "stdout",
     "output_type": "stream",
     "text": [
      "94023894274.95876\n"
     ]
    },
    {
     "name": "stderr",
     "output_type": "stream",
     "text": [
      "100%|██████████| 27/27 [00:52<00:00,  1.94s/it]\n"
     ]
    },
    {
     "name": "stdout",
     "output_type": "stream",
     "text": [
      "5224994641.045611\n"
     ]
    },
    {
     "name": "stderr",
     "output_type": "stream",
     "text": [
      "100%|██████████| 27/27 [00:40<00:00,  1.49s/it]\n"
     ]
    },
    {
     "name": "stdout",
     "output_type": "stream",
     "text": [
      "187575980564.98618\n"
     ]
    },
    {
     "name": "stderr",
     "output_type": "stream",
     "text": [
      "100%|██████████| 27/27 [00:42<00:00,  1.58s/it]\n"
     ]
    },
    {
     "name": "stdout",
     "output_type": "stream",
     "text": [
      "166431541902.71844\n"
     ]
    },
    {
     "name": "stderr",
     "output_type": "stream",
     "text": [
      "100%|██████████| 27/27 [01:11<00:00,  2.63s/it]\n"
     ]
    },
    {
     "name": "stdout",
     "output_type": "stream",
     "text": [
      "87538717628.83061\n"
     ]
    },
    {
     "name": "stderr",
     "output_type": "stream",
     "text": [
      "100%|██████████| 27/27 [00:57<00:00,  2.11s/it]\n"
     ]
    },
    {
     "name": "stdout",
     "output_type": "stream",
     "text": [
      "324941654872.5728\n"
     ]
    },
    {
     "name": "stderr",
     "output_type": "stream",
     "text": [
      "100%|██████████| 27/27 [01:20<00:00,  2.99s/it]\n"
     ]
    },
    {
     "name": "stdout",
     "output_type": "stream",
     "text": [
      "10634350278.515049\n"
     ]
    },
    {
     "name": "stderr",
     "output_type": "stream",
     "text": [
      "100%|██████████| 27/27 [01:20<00:00,  2.99s/it]\n"
     ]
    },
    {
     "name": "stdout",
     "output_type": "stream",
     "text": [
      "62142085400.10733\n"
     ]
    },
    {
     "name": "stderr",
     "output_type": "stream",
     "text": [
      "100%|██████████| 27/27 [01:42<00:00,  3.78s/it]\n"
     ]
    },
    {
     "name": "stdout",
     "output_type": "stream",
     "text": [
      "228418381867.51443\n"
     ]
    },
    {
     "name": "stderr",
     "output_type": "stream",
     "text": [
      "100%|██████████| 27/27 [00:55<00:00,  2.05s/it]\n"
     ]
    },
    {
     "name": "stdout",
     "output_type": "stream",
     "text": [
      "10107906770.443985\n"
     ]
    },
    {
     "name": "stderr",
     "output_type": "stream",
     "text": [
      "100%|██████████| 27/27 [00:59<00:00,  2.21s/it]\n"
     ]
    },
    {
     "name": "stdout",
     "output_type": "stream",
     "text": [
      "29989543770.420998\n"
     ]
    },
    {
     "name": "stderr",
     "output_type": "stream",
     "text": [
      "100%|██████████| 27/27 [00:52<00:00,  1.95s/it]\n"
     ]
    },
    {
     "name": "stdout",
     "output_type": "stream",
     "text": [
      "25945734856.731606\n"
     ]
    },
    {
     "name": "stderr",
     "output_type": "stream",
     "text": [
      "100%|██████████| 27/27 [00:42<00:00,  1.56s/it]\n"
     ]
    },
    {
     "name": "stdout",
     "output_type": "stream",
     "text": [
      "1271191988.7584443\n"
     ]
    },
    {
     "name": "stderr",
     "output_type": "stream",
     "text": [
      "100%|██████████| 27/27 [01:02<00:00,  2.30s/it]"
     ]
    },
    {
     "name": "stdout",
     "output_type": "stream",
     "text": [
      "70811532490.86316\n"
     ]
    },
    {
     "name": "stderr",
     "output_type": "stream",
     "text": [
      "\n"
     ]
    }
   ],
   "source": [
    "for iteration in range(30):\n",
    "    graph = mrob.FGraph(mrob.CAUCHY)\n",
    "\n",
    "    global_matches_to_graph_id = {}\n",
    "    corners_to_graph_id = {}\n",
    "\n",
    "    poses_indeces_in_graph = []\n",
    "    last_position = np.zeros((3, 1))\n",
    "\n",
    "    for angle in range(4):\n",
    "        l = graph.add_node_landmark_3d(marker_points[angle], mrob.NODE_ANCHOR)\n",
    "        corners_to_graph_id[angle] = l\n",
    "\n",
    "    for kf in tqdm(range(len(keyframes))):\n",
    "    # for kf in tqdm(range(len(detected_arucos))):\n",
    "\n",
    "        if len(detected_arucos) > kf:\n",
    "            # pose_id = graph.add_node_pose_3d(mrob.geometry.SE3(detected_arucos[kf][1]))\n",
    "\n",
    "            pose_id = graph.add_node_pose_3d(mrob.geometry.SE3())\n",
    "\n",
    "            graph.add_factor_1pose_3d(mrob.geometry.SE3(detected_arucos[kf][1]), pose_id, np.linalg.inv(np.diag((0.1, 0.1, 0.1, 0.5, 0.5, 0.5))))\n",
    "            # graph.add_factor_1pose_3d(mrob.geometry.SE3(detected_arucos[kf][1]), pose_id, np.diag((0.1, 0.1, 0.1, 0.5, 0.5, 0.5)))\n",
    "\n",
    "            for angles in range(4):\n",
    "                graph.add_factor_camera_proj_3d_point(\n",
    "                    obs = detected_arucos[kf][2][angle],\n",
    "                    nodePoseId = pose_id,\n",
    "                    nodeLandmarkId = corners_to_graph_id[angle],\n",
    "                    camera_k = camera_k,\n",
    "                    obsInvCov = W)\n",
    "\n",
    "        # if kf == 0:\n",
    "        #     pose_id = graph.add_node_pose_3d(mrob.geometry.SE3(), mrob.NODE_ANCHOR)\n",
    "        else:\n",
    "            pose_id = graph.add_node_pose_3d(mrob.geometry.SE3(last_pose))\n",
    "            # pose_id = graph.add_node_pose_3d(mrob.geometry.SE3())\n",
    "\n",
    "        poses_indeces_in_graph.append(pose_id)\n",
    "        \n",
    "        for global_match_index in range(global_matches.shape[0]):\n",
    "\n",
    "            if global_matches[global_match_index, kf] == -1:\n",
    "                continue\n",
    "            \n",
    "            if not (global_match_index in global_matches_to_graph_id.keys()):\n",
    "                l = graph.add_node_landmark_3d(last_position + np.random.random((3, 1)))\n",
    "                # l = graph.add_node_landmark_3d(np.random.random((3, 1)))\n",
    "                global_matches_to_graph_id[global_match_index] = l\n",
    "                \n",
    "            graph.add_factor_camera_proj_3d_point(\n",
    "                    obs = keyframes[kf][1][global_matches[global_match_index, kf]].pt,\n",
    "                    nodePoseId = pose_id,\n",
    "                    nodeLandmarkId = global_matches_to_graph_id[global_match_index],\n",
    "                    camera_k = camera_k,\n",
    "                    obsInvCov = W)\n",
    "        \n",
    "        # print(f\"{kf} : {graph.solve(method=mrob.LM, maxIters=200)} iterations\")\n",
    "        graph.solve(method=mrob.LM, maxIters=200)\n",
    "        last_pose = graph.get_estimated_state()[pose_id]\n",
    "        last_position = last_pose[0:3, 3:]\n",
    "        \n",
    "    print(graph.chi2())\n",
    "\n",
    "    landmarks_3d = np.array([x for x in np.array(graph.get_estimated_state())[list(global_matches_to_graph_id.values())]]).reshape(-1, 3).T\n",
    "    camera_poses = np.array([x[0:3, 3] for x in np.array(graph.get_estimated_state())[poses_indeces_in_graph]]).T\n",
    "\n",
    "    fig = go.Figure(data=[go.Scatter3d(x=landmarks_3d[0], y=landmarks_3d[1], z=landmarks_3d[2],\n",
    "                                   mode='markers', marker_size=1)] + \n",
    "                     [go.Scatter3d(x=marker_points.T[0], y=marker_points.T[1], z=marker_points.T[2],\n",
    "                                   mode='markers', marker_size=3)] + \n",
    "                     [go.Scatter3d(x=camera_poses[0], y=camera_poses[1], z=camera_poses[2],\n",
    "                                   line=dict(color='darkblue',width=2), marker_size=3, text=np.arange(0, len(keyframes)))])\n",
    "\n",
    "    window = 3\n",
    "    width = np.max(camera_poses, axis=1) - np.min(camera_poses, axis=1)\n",
    "    range_ = np.vstack((np.mean(camera_poses, axis=1) - window * width, np.mean(camera_poses, axis=1) + window * width))\n",
    "\n",
    "    range_ = range_.T\n",
    "\n",
    "    fig.update_layout(\n",
    "        scene = dict(\n",
    "            xaxis = dict(nticks=4, range=range_[0]),\n",
    "            yaxis = dict(nticks=4, range=range_[1]),\n",
    "            zaxis = dict(nticks=4, range=range_[2]),\n",
    "            aspectmode='data'))\n",
    "\n",
    "    # fig.show()\n",
    "    fig.write_html(f\"./maps/map_{iteration}.html\")\n",
    "\n",
    "\n",
    "for iteration in range(30, 60):\n",
    "    graph = mrob.FGraph(mrob.MCCLURE)\n",
    "\n",
    "    global_matches_to_graph_id = {}\n",
    "    corners_to_graph_id = {}\n",
    "\n",
    "    poses_indeces_in_graph = []\n",
    "    last_position = np.zeros((3, 1))\n",
    "\n",
    "    for angle in range(4):\n",
    "        l = graph.add_node_landmark_3d(marker_points[angle], mrob.NODE_ANCHOR)\n",
    "        corners_to_graph_id[angle] = l\n",
    "\n",
    "    for kf in tqdm(range(len(keyframes))):\n",
    "    # for kf in tqdm(range(len(detected_arucos))):\n",
    "\n",
    "        if len(detected_arucos) > kf:\n",
    "            # pose_id = graph.add_node_pose_3d(mrob.geometry.SE3(detected_arucos[kf][1]))\n",
    "\n",
    "            pose_id = graph.add_node_pose_3d(mrob.geometry.SE3())\n",
    "\n",
    "            graph.add_factor_1pose_3d(mrob.geometry.SE3(detected_arucos[kf][1]), pose_id, np.linalg.inv(np.diag((0.1, 0.1, 0.1, 0.5, 0.5, 0.5))))\n",
    "            # graph.add_factor_1pose_3d(mrob.geometry.SE3(detected_arucos[kf][1]), pose_id, np.diag((0.1, 0.1, 0.1, 0.5, 0.5, 0.5)))\n",
    "\n",
    "            for angles in range(4):\n",
    "                graph.add_factor_camera_proj_3d_point(\n",
    "                    obs = detected_arucos[kf][2][angle],\n",
    "                    nodePoseId = pose_id,\n",
    "                    nodeLandmarkId = corners_to_graph_id[angle],\n",
    "                    camera_k = camera_k,\n",
    "                    obsInvCov = W)\n",
    "\n",
    "        # if kf == 0:\n",
    "        #     pose_id = graph.add_node_pose_3d(mrob.geometry.SE3(), mrob.NODE_ANCHOR)\n",
    "        else:\n",
    "            pose_id = graph.add_node_pose_3d(mrob.geometry.SE3(last_pose))\n",
    "            # pose_id = graph.add_node_pose_3d(mrob.geometry.SE3())\n",
    "\n",
    "        poses_indeces_in_graph.append(pose_id)\n",
    "        \n",
    "        for global_match_index in range(global_matches.shape[0]):\n",
    "\n",
    "            if global_matches[global_match_index, kf] == -1:\n",
    "                continue\n",
    "            \n",
    "            if not (global_match_index in global_matches_to_graph_id.keys()):\n",
    "                l = graph.add_node_landmark_3d(last_position + np.random.random((3, 1)))\n",
    "                # l = graph.add_node_landmark_3d(np.random.random((3, 1)))\n",
    "                global_matches_to_graph_id[global_match_index] = l\n",
    "                \n",
    "            graph.add_factor_camera_proj_3d_point(\n",
    "                    obs = keyframes[kf][1][global_matches[global_match_index, kf]].pt,\n",
    "                    nodePoseId = pose_id,\n",
    "                    nodeLandmarkId = global_matches_to_graph_id[global_match_index],\n",
    "                    camera_k = camera_k,\n",
    "                    obsInvCov = W)\n",
    "        \n",
    "        # print(f\"{kf} : {graph.solve(method=mrob.LM, maxIters=200)} iterations\")\n",
    "        graph.solve(method=mrob.LM, maxIters=200)\n",
    "        last_pose = graph.get_estimated_state()[pose_id]\n",
    "        last_position = last_pose[0:3, 3:]\n",
    "        \n",
    "    print(graph.chi2())\n",
    "\n",
    "    landmarks_3d = np.array([x for x in np.array(graph.get_estimated_state())[list(global_matches_to_graph_id.values())]]).reshape(-1, 3).T\n",
    "    camera_poses = np.array([x[0:3, 3] for x in np.array(graph.get_estimated_state())[poses_indeces_in_graph]]).T\n",
    "\n",
    "    fig = go.Figure(data=[go.Scatter3d(x=landmarks_3d[0], y=landmarks_3d[1], z=landmarks_3d[2],\n",
    "                                   mode='markers', marker_size=1)] + \n",
    "                     [go.Scatter3d(x=marker_points.T[0], y=marker_points.T[1], z=marker_points.T[2],\n",
    "                                   mode='markers', marker_size=3)] + \n",
    "                     [go.Scatter3d(x=camera_poses[0], y=camera_poses[1], z=camera_poses[2],\n",
    "                                   line=dict(color='darkblue',width=2), marker_size=3, text=np.arange(0, len(keyframes)))])\n",
    "\n",
    "    window = 3\n",
    "    width = np.max(camera_poses, axis=1) - np.min(camera_poses, axis=1)\n",
    "    range_ = np.vstack((np.mean(camera_poses, axis=1) - window * width, np.mean(camera_poses, axis=1) + window * width))\n",
    "\n",
    "    range_ = range_.T\n",
    "\n",
    "    fig.update_layout(\n",
    "        scene = dict(\n",
    "            xaxis = dict(nticks=4, range=range_[0]),\n",
    "            yaxis = dict(nticks=4, range=range_[1]),\n",
    "            zaxis = dict(nticks=4, range=range_[2]),\n",
    "            aspectmode='data'))\n",
    "\n",
    "    # fig.show()\n",
    "    fig.write_html(f\"./maps/map_{iteration}.html\")"
   ]
  },
  {
   "cell_type": "code",
   "execution_count": 95,
   "metadata": {},
   "outputs": [
    {
     "name": "stderr",
     "output_type": "stream",
     "text": [
      "100%|██████████| 27/27 [01:02<00:00,  2.33s/it]\n",
      "<ipython-input-95-dc29b7da4c84>:65: VisibleDeprecationWarning:\n",
      "\n",
      "Creating an ndarray from ragged nested sequences (which is a list-or-tuple of lists-or-tuples-or ndarrays with different lengths or shapes) is deprecated. If you meant to do this, you must specify 'dtype=object' when creating the ndarray.\n",
      "\n",
      "<ipython-input-95-dc29b7da4c84>:66: VisibleDeprecationWarning:\n",
      "\n",
      "Creating an ndarray from ragged nested sequences (which is a list-or-tuple of lists-or-tuples-or ndarrays with different lengths or shapes) is deprecated. If you meant to do this, you must specify 'dtype=object' when creating the ndarray.\n",
      "\n"
     ]
    },
    {
     "name": "stdout",
     "output_type": "stream",
     "text": [
      "357512166.80045193\n"
     ]
    },
    {
     "name": "stderr",
     "output_type": "stream",
     "text": [
      "100%|██████████| 27/27 [01:35<00:00,  3.53s/it]\n"
     ]
    },
    {
     "name": "stdout",
     "output_type": "stream",
     "text": [
      "103178772738.42142\n"
     ]
    },
    {
     "name": "stderr",
     "output_type": "stream",
     "text": [
      "100%|██████████| 27/27 [00:53<00:00,  2.00s/it]\n"
     ]
    },
    {
     "name": "stdout",
     "output_type": "stream",
     "text": [
      "2624756634.4634995\n"
     ]
    },
    {
     "name": "stderr",
     "output_type": "stream",
     "text": [
      "100%|██████████| 27/27 [01:39<00:00,  3.70s/it]\n"
     ]
    },
    {
     "name": "stdout",
     "output_type": "stream",
     "text": [
      "255068206857.43893\n"
     ]
    },
    {
     "name": "stderr",
     "output_type": "stream",
     "text": [
      "100%|██████████| 27/27 [01:10<00:00,  2.62s/it]\n"
     ]
    },
    {
     "name": "stdout",
     "output_type": "stream",
     "text": [
      "41176144659.27158\n"
     ]
    },
    {
     "name": "stderr",
     "output_type": "stream",
     "text": [
      "100%|██████████| 27/27 [01:07<00:00,  2.50s/it]\n"
     ]
    },
    {
     "name": "stdout",
     "output_type": "stream",
     "text": [
      "336017166.24703985\n"
     ]
    },
    {
     "name": "stderr",
     "output_type": "stream",
     "text": [
      "100%|██████████| 27/27 [01:26<00:00,  3.21s/it]\n"
     ]
    },
    {
     "name": "stdout",
     "output_type": "stream",
     "text": [
      "797190606.1845068\n"
     ]
    },
    {
     "name": "stderr",
     "output_type": "stream",
     "text": [
      "100%|██████████| 27/27 [01:28<00:00,  3.27s/it]\n"
     ]
    },
    {
     "name": "stdout",
     "output_type": "stream",
     "text": [
      "25523053206.289955\n"
     ]
    },
    {
     "name": "stderr",
     "output_type": "stream",
     "text": [
      "100%|██████████| 27/27 [01:19<00:00,  2.94s/it]\n"
     ]
    },
    {
     "name": "stdout",
     "output_type": "stream",
     "text": [
      "461833994.83893174\n"
     ]
    },
    {
     "name": "stderr",
     "output_type": "stream",
     "text": [
      "100%|██████████| 27/27 [01:33<00:00,  3.45s/it]\n"
     ]
    },
    {
     "name": "stdout",
     "output_type": "stream",
     "text": [
      "9300779335.317924\n"
     ]
    },
    {
     "name": "stderr",
     "output_type": "stream",
     "text": [
      "100%|██████████| 27/27 [01:17<00:00,  2.88s/it]\n"
     ]
    },
    {
     "name": "stdout",
     "output_type": "stream",
     "text": [
      "11925617789.675829\n"
     ]
    },
    {
     "name": "stderr",
     "output_type": "stream",
     "text": [
      "100%|██████████| 27/27 [01:08<00:00,  2.55s/it]\n"
     ]
    },
    {
     "name": "stdout",
     "output_type": "stream",
     "text": [
      "10196290940.258564\n"
     ]
    },
    {
     "name": "stderr",
     "output_type": "stream",
     "text": [
      "100%|██████████| 27/27 [01:03<00:00,  2.34s/it]\n"
     ]
    },
    {
     "name": "stdout",
     "output_type": "stream",
     "text": [
      "10665985805.11636\n"
     ]
    },
    {
     "name": "stderr",
     "output_type": "stream",
     "text": [
      "100%|██████████| 27/27 [01:08<00:00,  2.53s/it]\n"
     ]
    },
    {
     "name": "stdout",
     "output_type": "stream",
     "text": [
      "906314887.0451293\n"
     ]
    },
    {
     "name": "stderr",
     "output_type": "stream",
     "text": [
      "100%|██████████| 27/27 [01:02<00:00,  2.30s/it]\n"
     ]
    },
    {
     "name": "stdout",
     "output_type": "stream",
     "text": [
      "6613514671.850998\n"
     ]
    },
    {
     "name": "stderr",
     "output_type": "stream",
     "text": [
      "100%|██████████| 27/27 [01:15<00:00,  2.81s/it]\n"
     ]
    },
    {
     "name": "stdout",
     "output_type": "stream",
     "text": [
      "51506832497.36449\n"
     ]
    },
    {
     "name": "stderr",
     "output_type": "stream",
     "text": [
      "100%|██████████| 27/27 [01:16<00:00,  2.82s/it]\n"
     ]
    },
    {
     "name": "stdout",
     "output_type": "stream",
     "text": [
      "783577003.574699\n"
     ]
    },
    {
     "name": "stderr",
     "output_type": "stream",
     "text": [
      "100%|██████████| 27/27 [01:05<00:00,  2.44s/it]\n"
     ]
    },
    {
     "name": "stdout",
     "output_type": "stream",
     "text": [
      "1110775671.5640872\n"
     ]
    },
    {
     "name": "stderr",
     "output_type": "stream",
     "text": [
      "100%|██████████| 27/27 [01:17<00:00,  2.88s/it]\n"
     ]
    },
    {
     "name": "stdout",
     "output_type": "stream",
     "text": [
      "543552051373.89575\n"
     ]
    },
    {
     "name": "stderr",
     "output_type": "stream",
     "text": [
      "100%|██████████| 27/27 [01:06<00:00,  2.46s/it]\n"
     ]
    },
    {
     "name": "stdout",
     "output_type": "stream",
     "text": [
      "1390330913.2822783\n"
     ]
    },
    {
     "name": "stderr",
     "output_type": "stream",
     "text": [
      "100%|██████████| 27/27 [01:27<00:00,  3.24s/it]\n"
     ]
    },
    {
     "name": "stdout",
     "output_type": "stream",
     "text": [
      "38796488013.68242\n"
     ]
    },
    {
     "name": "stderr",
     "output_type": "stream",
     "text": [
      "100%|██████████| 27/27 [00:53<00:00,  1.99s/it]\n"
     ]
    },
    {
     "name": "stdout",
     "output_type": "stream",
     "text": [
      "10997140399.016653\n"
     ]
    },
    {
     "name": "stderr",
     "output_type": "stream",
     "text": [
      "100%|██████████| 27/27 [01:01<00:00,  2.27s/it]\n"
     ]
    },
    {
     "name": "stdout",
     "output_type": "stream",
     "text": [
      "377670072.39973825\n"
     ]
    },
    {
     "name": "stderr",
     "output_type": "stream",
     "text": [
      "100%|██████████| 27/27 [01:08<00:00,  2.55s/it]\n"
     ]
    },
    {
     "name": "stdout",
     "output_type": "stream",
     "text": [
      "505588011.1708051\n"
     ]
    },
    {
     "name": "stderr",
     "output_type": "stream",
     "text": [
      "100%|██████████| 27/27 [01:11<00:00,  2.66s/it]\n"
     ]
    },
    {
     "name": "stdout",
     "output_type": "stream",
     "text": [
      "51822486191.935135\n"
     ]
    },
    {
     "name": "stderr",
     "output_type": "stream",
     "text": [
      "100%|██████████| 27/27 [00:47<00:00,  1.77s/it]\n"
     ]
    },
    {
     "name": "stdout",
     "output_type": "stream",
     "text": [
      "4545251443.469125\n"
     ]
    },
    {
     "name": "stderr",
     "output_type": "stream",
     "text": [
      "100%|██████████| 27/27 [01:15<00:00,  2.81s/it]\n"
     ]
    },
    {
     "name": "stdout",
     "output_type": "stream",
     "text": [
      "27847032968.387978\n"
     ]
    },
    {
     "name": "stderr",
     "output_type": "stream",
     "text": [
      "100%|██████████| 27/27 [01:01<00:00,  2.29s/it]\n"
     ]
    },
    {
     "name": "stdout",
     "output_type": "stream",
     "text": [
      "341157006.4247528\n"
     ]
    },
    {
     "name": "stderr",
     "output_type": "stream",
     "text": [
      "100%|██████████| 27/27 [00:57<00:00,  2.14s/it]\n"
     ]
    },
    {
     "name": "stdout",
     "output_type": "stream",
     "text": [
      "262535349.48857167\n"
     ]
    },
    {
     "name": "stderr",
     "output_type": "stream",
     "text": [
      "100%|██████████| 27/27 [01:30<00:00,  3.34s/it]\n"
     ]
    },
    {
     "name": "stdout",
     "output_type": "stream",
     "text": [
      "88156020884.67691\n"
     ]
    },
    {
     "name": "stderr",
     "output_type": "stream",
     "text": [
      "100%|██████████| 27/27 [01:36<00:00,  3.57s/it]\n",
      "<ipython-input-95-dc29b7da4c84>:156: VisibleDeprecationWarning:\n",
      "\n",
      "Creating an ndarray from ragged nested sequences (which is a list-or-tuple of lists-or-tuples-or ndarrays with different lengths or shapes) is deprecated. If you meant to do this, you must specify 'dtype=object' when creating the ndarray.\n",
      "\n",
      "<ipython-input-95-dc29b7da4c84>:157: VisibleDeprecationWarning:\n",
      "\n",
      "Creating an ndarray from ragged nested sequences (which is a list-or-tuple of lists-or-tuples-or ndarrays with different lengths or shapes) is deprecated. If you meant to do this, you must specify 'dtype=object' when creating the ndarray.\n",
      "\n"
     ]
    },
    {
     "name": "stdout",
     "output_type": "stream",
     "text": [
      "119311826788.80595\n"
     ]
    },
    {
     "name": "stderr",
     "output_type": "stream",
     "text": [
      "100%|██████████| 27/27 [01:30<00:00,  3.36s/it]\n"
     ]
    },
    {
     "name": "stdout",
     "output_type": "stream",
     "text": [
      "6195786633.365019\n"
     ]
    },
    {
     "name": "stderr",
     "output_type": "stream",
     "text": [
      "100%|██████████| 27/27 [00:42<00:00,  1.59s/it]\n"
     ]
    },
    {
     "name": "stdout",
     "output_type": "stream",
     "text": [
      "39543826251.78971\n"
     ]
    },
    {
     "name": "stderr",
     "output_type": "stream",
     "text": [
      "100%|██████████| 27/27 [00:37<00:00,  1.39s/it]\n"
     ]
    },
    {
     "name": "stdout",
     "output_type": "stream",
     "text": [
      "64632608228.751335\n"
     ]
    },
    {
     "name": "stderr",
     "output_type": "stream",
     "text": [
      "100%|██████████| 27/27 [01:24<00:00,  3.14s/it]\n"
     ]
    },
    {
     "name": "stdout",
     "output_type": "stream",
     "text": [
      "467598471708.903\n"
     ]
    },
    {
     "name": "stderr",
     "output_type": "stream",
     "text": [
      "100%|██████████| 27/27 [00:48<00:00,  1.80s/it]\n"
     ]
    },
    {
     "name": "stdout",
     "output_type": "stream",
     "text": [
      "69153964002.79054\n"
     ]
    },
    {
     "name": "stderr",
     "output_type": "stream",
     "text": [
      "100%|██████████| 27/27 [00:42<00:00,  1.58s/it]\n"
     ]
    },
    {
     "name": "stdout",
     "output_type": "stream",
     "text": [
      "25196936480.155125\n"
     ]
    },
    {
     "name": "stderr",
     "output_type": "stream",
     "text": [
      "100%|██████████| 27/27 [01:44<00:00,  3.86s/it]\n"
     ]
    },
    {
     "name": "stdout",
     "output_type": "stream",
     "text": [
      "322865244136.1005\n"
     ]
    },
    {
     "name": "stderr",
     "output_type": "stream",
     "text": [
      "100%|██████████| 27/27 [01:09<00:00,  2.57s/it]\n"
     ]
    },
    {
     "name": "stdout",
     "output_type": "stream",
     "text": [
      "18117797454.56458\n"
     ]
    },
    {
     "name": "stderr",
     "output_type": "stream",
     "text": [
      "100%|██████████| 27/27 [01:44<00:00,  3.89s/it]\n"
     ]
    },
    {
     "name": "stdout",
     "output_type": "stream",
     "text": [
      "16448646704.741714\n"
     ]
    },
    {
     "name": "stderr",
     "output_type": "stream",
     "text": [
      "100%|██████████| 27/27 [01:02<00:00,  2.30s/it]\n"
     ]
    },
    {
     "name": "stdout",
     "output_type": "stream",
     "text": [
      "945817612.9016533\n"
     ]
    },
    {
     "name": "stderr",
     "output_type": "stream",
     "text": [
      "100%|██████████| 27/27 [00:54<00:00,  2.01s/it]\n"
     ]
    },
    {
     "name": "stdout",
     "output_type": "stream",
     "text": [
      "30349900102.14201\n"
     ]
    },
    {
     "name": "stderr",
     "output_type": "stream",
     "text": [
      "100%|██████████| 27/27 [01:42<00:00,  3.78s/it]\n"
     ]
    },
    {
     "name": "stdout",
     "output_type": "stream",
     "text": [
      "247927773316.0858\n"
     ]
    },
    {
     "name": "stderr",
     "output_type": "stream",
     "text": [
      "100%|██████████| 27/27 [00:44<00:00,  1.67s/it]\n"
     ]
    },
    {
     "name": "stdout",
     "output_type": "stream",
     "text": [
      "65297704538.3282\n"
     ]
    },
    {
     "name": "stderr",
     "output_type": "stream",
     "text": [
      "100%|██████████| 27/27 [01:46<00:00,  3.95s/it]\n"
     ]
    },
    {
     "name": "stdout",
     "output_type": "stream",
     "text": [
      "136637028772.99689\n"
     ]
    },
    {
     "name": "stderr",
     "output_type": "stream",
     "text": [
      "100%|██████████| 27/27 [01:09<00:00,  2.56s/it]\n"
     ]
    },
    {
     "name": "stdout",
     "output_type": "stream",
     "text": [
      "3706884225.6696134\n"
     ]
    },
    {
     "name": "stderr",
     "output_type": "stream",
     "text": [
      "100%|██████████| 27/27 [01:22<00:00,  3.04s/it]\n"
     ]
    },
    {
     "name": "stdout",
     "output_type": "stream",
     "text": [
      "887600368444.2946\n"
     ]
    },
    {
     "name": "stderr",
     "output_type": "stream",
     "text": [
      "100%|██████████| 27/27 [01:05<00:00,  2.44s/it]\n"
     ]
    },
    {
     "name": "stdout",
     "output_type": "stream",
     "text": [
      "198850035155.05557\n"
     ]
    },
    {
     "name": "stderr",
     "output_type": "stream",
     "text": [
      "100%|██████████| 27/27 [01:15<00:00,  2.80s/it]\n"
     ]
    },
    {
     "name": "stdout",
     "output_type": "stream",
     "text": [
      "14142316056.825829\n"
     ]
    },
    {
     "name": "stderr",
     "output_type": "stream",
     "text": [
      "100%|██████████| 27/27 [01:39<00:00,  3.69s/it]\n"
     ]
    },
    {
     "name": "stdout",
     "output_type": "stream",
     "text": [
      "33726711300.16296\n"
     ]
    },
    {
     "name": "stderr",
     "output_type": "stream",
     "text": [
      "100%|██████████| 27/27 [01:05<00:00,  2.44s/it]\n"
     ]
    },
    {
     "name": "stdout",
     "output_type": "stream",
     "text": [
      "11414543383.6271\n"
     ]
    },
    {
     "name": "stderr",
     "output_type": "stream",
     "text": [
      "100%|██████████| 27/27 [01:01<00:00,  2.30s/it]\n"
     ]
    },
    {
     "name": "stdout",
     "output_type": "stream",
     "text": [
      "1638961956.6507442\n"
     ]
    },
    {
     "name": "stderr",
     "output_type": "stream",
     "text": [
      "100%|██████████| 27/27 [01:08<00:00,  2.52s/it]\n"
     ]
    },
    {
     "name": "stdout",
     "output_type": "stream",
     "text": [
      "17738509119.97908\n"
     ]
    },
    {
     "name": "stderr",
     "output_type": "stream",
     "text": [
      "100%|██████████| 27/27 [00:55<00:00,  2.04s/it]\n"
     ]
    },
    {
     "name": "stdout",
     "output_type": "stream",
     "text": [
      "119162545.6677074\n"
     ]
    },
    {
     "name": "stderr",
     "output_type": "stream",
     "text": [
      "100%|██████████| 27/27 [00:39<00:00,  1.46s/it]\n"
     ]
    },
    {
     "name": "stdout",
     "output_type": "stream",
     "text": [
      "95530199349.88266\n"
     ]
    },
    {
     "name": "stderr",
     "output_type": "stream",
     "text": [
      "100%|██████████| 27/27 [00:44<00:00,  1.65s/it]\n"
     ]
    },
    {
     "name": "stdout",
     "output_type": "stream",
     "text": [
      "197299230175.53897\n"
     ]
    },
    {
     "name": "stderr",
     "output_type": "stream",
     "text": [
      "100%|██████████| 27/27 [01:36<00:00,  3.58s/it]\n"
     ]
    },
    {
     "name": "stdout",
     "output_type": "stream",
     "text": [
      "1272784060659.093\n"
     ]
    },
    {
     "name": "stderr",
     "output_type": "stream",
     "text": [
      "100%|██████████| 27/27 [01:36<00:00,  3.57s/it]\n"
     ]
    },
    {
     "name": "stdout",
     "output_type": "stream",
     "text": [
      "121487294163.18346\n"
     ]
    },
    {
     "name": "stderr",
     "output_type": "stream",
     "text": [
      "100%|██████████| 27/27 [00:43<00:00,  1.62s/it]\n"
     ]
    },
    {
     "name": "stdout",
     "output_type": "stream",
     "text": [
      "18621771169.677372\n"
     ]
    },
    {
     "name": "stderr",
     "output_type": "stream",
     "text": [
      "100%|██████████| 27/27 [01:07<00:00,  2.51s/it]"
     ]
    },
    {
     "name": "stdout",
     "output_type": "stream",
     "text": [
      "18777699182.72722\n"
     ]
    },
    {
     "name": "stderr",
     "output_type": "stream",
     "text": [
      "\n"
     ]
    }
   ],
   "source": [
    "for iteration in range(30):\n",
    "    graph = mrob.FGraph(mrob.CAUCHY)\n",
    "\n",
    "    global_matches_to_graph_id = {}\n",
    "    corners_to_graph_id = {}\n",
    "\n",
    "    poses_indeces_in_graph = []\n",
    "    last_position = np.zeros((3, 1))\n",
    "\n",
    "    for angle in range(4):\n",
    "        l = graph.add_node_landmark_3d(marker_points[angle], mrob.NODE_ANCHOR)\n",
    "        corners_to_graph_id[angle] = l\n",
    "\n",
    "    for kf in tqdm(range(len(keyframes))):\n",
    "    # for kf in tqdm(range(len(detected_arucos))):\n",
    "\n",
    "        if len(detected_arucos) > kf:\n",
    "            # pose_id = graph.add_node_pose_3d(mrob.geometry.SE3(detected_arucos[kf][1]))\n",
    "\n",
    "            pose_id = graph.add_node_pose_3d(mrob.geometry.SE3())\n",
    "\n",
    "            graph.add_factor_1pose_3d(mrob.geometry.SE3(detected_arucos[kf][1]), pose_id, np.linalg.inv(np.diag((0.1, 0.1, 0.1, 0.5, 0.5, 0.5))))\n",
    "            # graph.add_factor_1pose_3d(mrob.geometry.SE3(detected_arucos[kf][1]), pose_id, np.diag((0.1, 0.1, 0.1, 0.5, 0.5, 0.5)))\n",
    "\n",
    "            for angles in range(4):\n",
    "                graph.add_factor_camera_proj_3d_point(\n",
    "                    obs = detected_arucos[kf][2][angle],\n",
    "                    nodePoseId = pose_id,\n",
    "                    nodeLandmarkId = corners_to_graph_id[angle],\n",
    "                    camera_k = camera_k,\n",
    "                    obsInvCov = W)\n",
    "\n",
    "        # if kf == 0:\n",
    "        #     pose_id = graph.add_node_pose_3d(mrob.geometry.SE3(), mrob.NODE_ANCHOR)\n",
    "        else:\n",
    "            pose_id = graph.add_node_pose_3d(mrob.geometry.SE3(last_pose))\n",
    "            # pose_id = graph.add_node_pose_3d(mrob.geometry.SE3())\n",
    "\n",
    "        poses_indeces_in_graph.append(pose_id)\n",
    "        \n",
    "        for global_match_index in range(global_matches.shape[0]):\n",
    "\n",
    "            if global_matches[global_match_index, kf] == -1:\n",
    "                continue\n",
    "            \n",
    "            if not (global_match_index in global_matches_to_graph_id.keys()):\n",
    "                l = graph.add_node_landmark_3d(last_position + np.random.random((3, 1)))\n",
    "                # l = graph.add_node_landmark_3d(np.random.random((3, 1)))\n",
    "                global_matches_to_graph_id[global_match_index] = l\n",
    "                \n",
    "            graph.add_factor_camera_proj_3d_point(\n",
    "                    obs = keyframes[kf][1][global_matches[global_match_index, kf]].pt,\n",
    "                    nodePoseId = pose_id,\n",
    "                    nodeLandmarkId = global_matches_to_graph_id[global_match_index],\n",
    "                    camera_k = camera_k,\n",
    "                    obsInvCov = W)\n",
    "        \n",
    "        # print(f\"{kf} : {graph.solve(method=mrob.LM, maxIters=200)} iterations\")\n",
    "        graph.solve(method=mrob.LM, maxIters=200)\n",
    "        last_pose = graph.get_estimated_state()[pose_id]\n",
    "        last_position = last_pose[0:3, 3:]\n",
    "        \n",
    "    print(graph.chi2())\n",
    "\n",
    "    landmarks_3d = np.array([x for x in np.array(graph.get_estimated_state())[list(global_matches_to_graph_id.values())]]).reshape(-1, 3).T\n",
    "    camera_poses = np.array([x[0:3, 3] for x in np.array(graph.get_estimated_state())[poses_indeces_in_graph]]).T\n",
    "\n",
    "    fig = go.Figure(data=[go.Scatter3d(x=landmarks_3d[0], y=landmarks_3d[1], z=landmarks_3d[2],\n",
    "                                   mode='markers', marker_size=1)] + \n",
    "                     [go.Scatter3d(x=marker_points.T[0], y=marker_points.T[1], z=marker_points.T[2],\n",
    "                                   mode='markers', marker_size=3)] + \n",
    "                     [go.Scatter3d(x=camera_poses[0], y=camera_poses[1], z=camera_poses[2],\n",
    "                                   line=dict(color='darkblue',width=2), marker_size=3, text=np.arange(0, len(keyframes)))])\n",
    "\n",
    "    window = 3\n",
    "    width = np.max(camera_poses, axis=1) - np.min(camera_poses, axis=1)\n",
    "    range_ = np.vstack((np.mean(camera_poses, axis=1) - window * width, np.mean(camera_poses, axis=1) + window * width))\n",
    "\n",
    "    range_ = range_.T\n",
    "\n",
    "    fig.update_layout(\n",
    "        scene = dict(\n",
    "            xaxis = dict(nticks=4, range=range_[0]),\n",
    "            yaxis = dict(nticks=4, range=range_[1]),\n",
    "            zaxis = dict(nticks=4, range=range_[2]),\n",
    "            aspectmode='data'))\n",
    "\n",
    "    # fig.show()\n",
    "    fig.write_html(f\"./maps_table/map_{iteration}.html\")\n",
    "\n",
    "\n",
    "for iteration in range(30, 60):\n",
    "    graph = mrob.FGraph(mrob.MCCLURE)\n",
    "\n",
    "    global_matches_to_graph_id = {}\n",
    "    corners_to_graph_id = {}\n",
    "\n",
    "    poses_indeces_in_graph = []\n",
    "    last_position = np.zeros((3, 1))\n",
    "\n",
    "    for angle in range(4):\n",
    "        l = graph.add_node_landmark_3d(marker_points[angle], mrob.NODE_ANCHOR)\n",
    "        corners_to_graph_id[angle] = l\n",
    "\n",
    "    for kf in tqdm(range(len(keyframes))):\n",
    "    # for kf in tqdm(range(len(detected_arucos))):\n",
    "\n",
    "        if len(detected_arucos) > kf:\n",
    "            # pose_id = graph.add_node_pose_3d(mrob.geometry.SE3(detected_arucos[kf][1]))\n",
    "\n",
    "            pose_id = graph.add_node_pose_3d(mrob.geometry.SE3())\n",
    "\n",
    "            graph.add_factor_1pose_3d(mrob.geometry.SE3(detected_arucos[kf][1]), pose_id, np.linalg.inv(np.diag((0.1, 0.1, 0.1, 0.5, 0.5, 0.5))))\n",
    "            # graph.add_factor_1pose_3d(mrob.geometry.SE3(detected_arucos[kf][1]), pose_id, np.diag((0.1, 0.1, 0.1, 0.5, 0.5, 0.5)))\n",
    "\n",
    "            for angles in range(4):\n",
    "                graph.add_factor_camera_proj_3d_point(\n",
    "                    obs = detected_arucos[kf][2][angle],\n",
    "                    nodePoseId = pose_id,\n",
    "                    nodeLandmarkId = corners_to_graph_id[angle],\n",
    "                    camera_k = camera_k,\n",
    "                    obsInvCov = W)\n",
    "\n",
    "        # if kf == 0:\n",
    "        #     pose_id = graph.add_node_pose_3d(mrob.geometry.SE3(), mrob.NODE_ANCHOR)\n",
    "        else:\n",
    "            pose_id = graph.add_node_pose_3d(mrob.geometry.SE3(last_pose))\n",
    "            # pose_id = graph.add_node_pose_3d(mrob.geometry.SE3())\n",
    "\n",
    "        poses_indeces_in_graph.append(pose_id)\n",
    "        \n",
    "        for global_match_index in range(global_matches.shape[0]):\n",
    "\n",
    "            if global_matches[global_match_index, kf] == -1:\n",
    "                continue\n",
    "            \n",
    "            if not (global_match_index in global_matches_to_graph_id.keys()):\n",
    "                l = graph.add_node_landmark_3d(last_position + np.random.random((3, 1)))\n",
    "                # l = graph.add_node_landmark_3d(np.random.random((3, 1)))\n",
    "                global_matches_to_graph_id[global_match_index] = l\n",
    "                \n",
    "            graph.add_factor_camera_proj_3d_point(\n",
    "                    obs = keyframes[kf][1][global_matches[global_match_index, kf]].pt,\n",
    "                    nodePoseId = pose_id,\n",
    "                    nodeLandmarkId = global_matches_to_graph_id[global_match_index],\n",
    "                    camera_k = camera_k,\n",
    "                    obsInvCov = W)\n",
    "        \n",
    "        # print(f\"{kf} : {graph.solve(method=mrob.LM, maxIters=200)} iterations\")\n",
    "        graph.solve(method=mrob.LM, maxIters=200)\n",
    "        last_pose = graph.get_estimated_state()[pose_id]\n",
    "        last_position = last_pose[0:3, 3:]\n",
    "        \n",
    "    print(graph.chi2())\n",
    "\n",
    "    landmarks_3d = np.array([x for x in np.array(graph.get_estimated_state())[list(global_matches_to_graph_id.values())]]).reshape(-1, 3).T\n",
    "    camera_poses = np.array([x[0:3, 3] for x in np.array(graph.get_estimated_state())[poses_indeces_in_graph]]).T\n",
    "\n",
    "    fig = go.Figure(data=[go.Scatter3d(x=landmarks_3d[0], y=landmarks_3d[1], z=landmarks_3d[2],\n",
    "                                   mode='markers', marker_size=1)] + \n",
    "                     [go.Scatter3d(x=marker_points.T[0], y=marker_points.T[1], z=marker_points.T[2],\n",
    "                                   mode='markers', marker_size=3)] + \n",
    "                     [go.Scatter3d(x=camera_poses[0], y=camera_poses[1], z=camera_poses[2],\n",
    "                                   line=dict(color='darkblue',width=2), marker_size=3, text=np.arange(0, len(keyframes)))])\n",
    "\n",
    "    window = 3\n",
    "    width = np.max(camera_poses, axis=1) - np.min(camera_poses, axis=1)\n",
    "    range_ = np.vstack((np.mean(camera_poses, axis=1) - window * width, np.mean(camera_poses, axis=1) + window * width))\n",
    "\n",
    "    range_ = range_.T\n",
    "\n",
    "    fig.update_layout(\n",
    "        scene = dict(\n",
    "            xaxis = dict(nticks=4, range=range_[0]),\n",
    "            yaxis = dict(nticks=4, range=range_[1]),\n",
    "            zaxis = dict(nticks=4, range=range_[2]),\n",
    "            aspectmode='data'))\n",
    "\n",
    "    # fig.show()\n",
    "    fig.write_html(f\"./maps_table/map_{iteration}.html\")"
   ]
  },
  {
   "cell_type": "code",
   "execution_count": null,
   "metadata": {},
   "outputs": [],
   "source": [
    "for iteration in range(30):\n",
    "    graph = mrob.FGraph(mrob.CAUCHY)\n",
    "\n",
    "    global_matches_to_graph_id = {}\n",
    "    corners_to_graph_id = {}\n",
    "\n",
    "    poses_indeces_in_graph = []\n",
    "    last_position = np.zeros((3, 1))\n",
    "\n",
    "    for angle in range(4):\n",
    "        l = graph.add_node_landmark_3d(marker_points[angle], mrob.NODE_ANCHOR)\n",
    "        corners_to_graph_id[angle] = l\n",
    "\n",
    "    for kf in tqdm(range(len(keyframes))):\n",
    "    # for kf in tqdm(range(len(detected_arucos))):\n",
    "\n",
    "        if len(detected_arucos) > kf:\n",
    "            # pose_id = graph.add_node_pose_3d(mrob.geometry.SE3(detected_arucos[kf][1]))\n",
    "\n",
    "            pose_id = graph.add_node_pose_3d(mrob.geometry.SE3())\n",
    "\n",
    "            graph.add_factor_1pose_3d(mrob.geometry.SE3(detected_arucos[kf][1]), pose_id, np.linalg.inv(np.diag((0.1, 0.1, 0.1, 0.5, 0.5, 0.5))))\n",
    "            # graph.add_factor_1pose_3d(mrob.geometry.SE3(detected_arucos[kf][1]), pose_id, np.diag((0.1, 0.1, 0.1, 0.5, 0.5, 0.5)))\n",
    "\n",
    "            for angles in range(4):\n",
    "                graph.add_factor_camera_proj_3d_point(\n",
    "                    obs = detected_arucos[kf][2][angle],\n",
    "                    nodePoseId = pose_id,\n",
    "                    nodeLandmarkId = corners_to_graph_id[angle],\n",
    "                    camera_k = camera_k,\n",
    "                    obsInvCov = W)\n",
    "\n",
    "        # if kf == 0:\n",
    "        #     pose_id = graph.add_node_pose_3d(mrob.geometry.SE3(), mrob.NODE_ANCHOR)\n",
    "        else:\n",
    "            pose_id = graph.add_node_pose_3d(mrob.geometry.SE3(last_pose))\n",
    "            # pose_id = graph.add_node_pose_3d(mrob.geometry.SE3())\n",
    "\n",
    "        poses_indeces_in_graph.append(pose_id)\n",
    "        \n",
    "        for global_match_index in range(global_matches.shape[0]):\n",
    "\n",
    "            if global_matches[global_match_index, kf] == -1:\n",
    "                continue\n",
    "            \n",
    "            if not (global_match_index in global_matches_to_graph_id.keys()):\n",
    "                l = graph.add_node_landmark_3d(last_position + np.random.random((3, 1)))\n",
    "                # l = graph.add_node_landmark_3d(np.random.random((3, 1)))\n",
    "                global_matches_to_graph_id[global_match_index] = l\n",
    "                \n",
    "            graph.add_factor_camera_proj_3d_point(\n",
    "                    obs = keyframes[kf][1][global_matches[global_match_index, kf]].pt,\n",
    "                    nodePoseId = pose_id,\n",
    "                    nodeLandmarkId = global_matches_to_graph_id[global_match_index],\n",
    "                    camera_k = camera_k,\n",
    "                    obsInvCov = W)\n",
    "        \n",
    "        # print(f\"{kf} : {graph.solve(method=mrob.LM, maxIters=200)} iterations\")\n",
    "        graph.solve(method=mrob.LM, maxIters=200)\n",
    "        last_pose = graph.get_estimated_state()[pose_id]\n",
    "        last_position = last_pose[0:3, 3:]\n",
    "        \n",
    "    print(graph.chi2())\n",
    "\n",
    "    landmarks_3d = np.array([x for x in np.array(graph.get_estimated_state())[list(global_matches_to_graph_id.values())]]).reshape(-1, 3).T\n",
    "    camera_poses = np.array([x[0:3, 3] for x in np.array(graph.get_estimated_state())[poses_indeces_in_graph]]).T\n",
    "\n",
    "    fig = go.Figure(data=[go.Scatter3d(x=landmarks_3d[0], y=landmarks_3d[1], z=landmarks_3d[2],\n",
    "                                   mode='markers', marker_size=1)] + \n",
    "                     [go.Scatter3d(x=marker_points.T[0], y=marker_points.T[1], z=marker_points.T[2],\n",
    "                                   mode='markers', marker_size=3)] + \n",
    "                     [go.Scatter3d(x=camera_poses[0], y=camera_poses[1], z=camera_poses[2],\n",
    "                                   line=dict(color='darkblue',width=2), marker_size=3, text=np.arange(0, len(keyframes)))])\n",
    "\n",
    "    window = 3\n",
    "    width = np.max(camera_poses, axis=1) - np.min(camera_poses, axis=1)\n",
    "    range_ = np.vstack((np.mean(camera_poses, axis=1) - window * width, np.mean(camera_poses, axis=1) + window * width))\n",
    "\n",
    "    range_ = range_.T\n",
    "\n",
    "    fig.update_layout(\n",
    "        scene = dict(\n",
    "            xaxis = dict(nticks=4, range=range_[0]),\n",
    "            yaxis = dict(nticks=4, range=range_[1]),\n",
    "            zaxis = dict(nticks=4, range=range_[2]),\n",
    "            aspectmode='data'))\n",
    "\n",
    "    # fig.show()\n",
    "    fig.write_html(f\"./maps_table/map_{iteration}.html\")\n",
    "\n",
    "\n",
    "for iteration in range(30, 60):\n",
    "    graph = mrob.FGraph(mrob.MCCLURE)\n",
    "\n",
    "    global_matches_to_graph_id = {}\n",
    "    corners_to_graph_id = {}\n",
    "\n",
    "    poses_indeces_in_graph = []\n",
    "    last_position = np.zeros((3, 1))\n",
    "\n",
    "    for angle in range(4):\n",
    "        l = graph.add_node_landmark_3d(marker_points[angle], mrob.NODE_ANCHOR)\n",
    "        corners_to_graph_id[angle] = l\n",
    "\n",
    "    for kf in tqdm(range(len(keyframes))):\n",
    "    # for kf in tqdm(range(len(detected_arucos))):\n",
    "\n",
    "        if len(detected_arucos) > kf:\n",
    "            # pose_id = graph.add_node_pose_3d(mrob.geometry.SE3(detected_arucos[kf][1]))\n",
    "\n",
    "            pose_id = graph.add_node_pose_3d(mrob.geometry.SE3())\n",
    "\n",
    "            graph.add_factor_1pose_3d(mrob.geometry.SE3(detected_arucos[kf][1]), pose_id, np.linalg.inv(np.diag((0.1, 0.1, 0.1, 0.5, 0.5, 0.5))))\n",
    "            # graph.add_factor_1pose_3d(mrob.geometry.SE3(detected_arucos[kf][1]), pose_id, np.diag((0.1, 0.1, 0.1, 0.5, 0.5, 0.5)))\n",
    "\n",
    "            for angles in range(4):\n",
    "                graph.add_factor_camera_proj_3d_point(\n",
    "                    obs = detected_arucos[kf][2][angle],\n",
    "                    nodePoseId = pose_id,\n",
    "                    nodeLandmarkId = corners_to_graph_id[angle],\n",
    "                    camera_k = camera_k,\n",
    "                    obsInvCov = W)\n",
    "\n",
    "        # if kf == 0:\n",
    "        #     pose_id = graph.add_node_pose_3d(mrob.geometry.SE3(), mrob.NODE_ANCHOR)\n",
    "        else:\n",
    "            pose_id = graph.add_node_pose_3d(mrob.geometry.SE3(last_pose))\n",
    "            # pose_id = graph.add_node_pose_3d(mrob.geometry.SE3())\n",
    "\n",
    "        poses_indeces_in_graph.append(pose_id)\n",
    "        \n",
    "        for global_match_index in range(global_matches.shape[0]):\n",
    "\n",
    "            if global_matches[global_match_index, kf] == -1:\n",
    "                continue\n",
    "            \n",
    "            if not (global_match_index in global_matches_to_graph_id.keys()):\n",
    "                l = graph.add_node_landmark_3d(last_position + np.random.random((3, 1)))\n",
    "                # l = graph.add_node_landmark_3d(np.random.random((3, 1)))\n",
    "                global_matches_to_graph_id[global_match_index] = l\n",
    "                \n",
    "            graph.add_factor_camera_proj_3d_point(\n",
    "                    obs = keyframes[kf][1][global_matches[global_match_index, kf]].pt,\n",
    "                    nodePoseId = pose_id,\n",
    "                    nodeLandmarkId = global_matches_to_graph_id[global_match_index],\n",
    "                    camera_k = camera_k,\n",
    "                    obsInvCov = W)\n",
    "        \n",
    "        # print(f\"{kf} : {graph.solve(method=mrob.LM, maxIters=200)} iterations\")\n",
    "        graph.solve(method=mrob.LM, maxIters=200)\n",
    "        last_pose = graph.get_estimated_state()[pose_id]\n",
    "        last_position = last_pose[0:3, 3:]\n",
    "        \n",
    "    print(graph.chi2())\n",
    "\n",
    "    landmarks_3d = np.array([x for x in np.array(graph.get_estimated_state())[list(global_matches_to_graph_id.values())]]).reshape(-1, 3).T\n",
    "    camera_poses = np.array([x[0:3, 3] for x in np.array(graph.get_estimated_state())[poses_indeces_in_graph]]).T\n",
    "\n",
    "    fig = go.Figure(data=[go.Scatter3d(x=landmarks_3d[0], y=landmarks_3d[1], z=landmarks_3d[2],\n",
    "                                   mode='markers', marker_size=1)] + \n",
    "                     [go.Scatter3d(x=marker_points.T[0], y=marker_points.T[1], z=marker_points.T[2],\n",
    "                                   mode='markers', marker_size=3)] + \n",
    "                     [go.Scatter3d(x=camera_poses[0], y=camera_poses[1], z=camera_poses[2],\n",
    "                                   line=dict(color='darkblue',width=2), marker_size=3, text=np.arange(0, len(keyframes)))])\n",
    "\n",
    "    window = 3\n",
    "    width = np.max(camera_poses, axis=1) - np.min(camera_poses, axis=1)\n",
    "    range_ = np.vstack((np.mean(camera_poses, axis=1) - window * width, np.mean(camera_poses, axis=1) + window * width))\n",
    "\n",
    "    range_ = range_.T\n",
    "\n",
    "    fig.update_layout(\n",
    "        scene = dict(\n",
    "            xaxis = dict(nticks=4, range=range_[0]),\n",
    "            yaxis = dict(nticks=4, range=range_[1]),\n",
    "            zaxis = dict(nticks=4, range=range_[2]),\n",
    "            aspectmode='data'))\n",
    "\n",
    "    # fig.show()\n",
    "    fig.write_html(f\"./maps_table/map_{iteration}.html\")"
   ]
  }
 ],
 "metadata": {
  "kernelspec": {
   "display_name": "Python 3",
   "language": "python",
   "name": "python3"
  },
  "language_info": {
   "codemirror_mode": {
    "name": "ipython",
    "version": 3
   },
   "file_extension": ".py",
   "mimetype": "text/x-python",
   "name": "python",
   "nbconvert_exporter": "python",
   "pygments_lexer": "ipython3",
   "version": "3.8.8"
  }
 },
 "nbformat": 4,
 "nbformat_minor": 2
}
