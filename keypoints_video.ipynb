{
 "cells": [
  {
   "cell_type": "code",
   "execution_count": 6,
   "metadata": {},
   "outputs": [],
   "source": [
    "import numpy as np\n",
    "import cv2 as cv\n",
    "from tqdm import tqdm\n",
    "import mrob\n",
    "import matplotlib.pyplot as plt\n",
    "import seaborn as sns\n",
    "import plotly.graph_objects as go\n",
    "from sklearn.decomposition import PCA\n",
    "from arucoprocessor import ArucoProcessor"
   ]
  },
  {
   "cell_type": "code",
   "execution_count": 7,
   "metadata": {},
   "outputs": [
    {
     "ename": "KeyboardInterrupt",
     "evalue": "",
     "output_type": "error",
     "traceback": [
      "\u001b[1;31m---------------------------------------------------------------------------\u001b[0m",
      "\u001b[1;31mKeyboardInterrupt\u001b[0m                         Traceback (most recent call last)",
      "\u001b[1;32m<ipython-input-7-f2b67abef362>\u001b[0m in \u001b[0;36m<module>\u001b[1;34m\u001b[0m\n\u001b[0;32m     12\u001b[0m \u001b[1;33m\u001b[0m\u001b[0m\n\u001b[0;32m     13\u001b[0m \u001b[1;32mwhile\u001b[0m \u001b[1;33m(\u001b[0m\u001b[0mfc\u001b[0m \u001b[1;33m<\u001b[0m \u001b[0mframeCount\u001b[0m  \u001b[1;32mand\u001b[0m \u001b[0mret\u001b[0m\u001b[1;33m)\u001b[0m\u001b[1;33m:\u001b[0m\u001b[1;33m\u001b[0m\u001b[1;33m\u001b[0m\u001b[0m\n\u001b[1;32m---> 14\u001b[1;33m     \u001b[0mret\u001b[0m\u001b[1;33m,\u001b[0m \u001b[0mbuf\u001b[0m\u001b[1;33m[\u001b[0m\u001b[0mfc\u001b[0m\u001b[1;33m]\u001b[0m \u001b[1;33m=\u001b[0m \u001b[0mcap\u001b[0m\u001b[1;33m.\u001b[0m\u001b[0mread\u001b[0m\u001b[1;33m(\u001b[0m\u001b[1;33m)\u001b[0m\u001b[1;33m\u001b[0m\u001b[1;33m\u001b[0m\u001b[0m\n\u001b[0m\u001b[0;32m     15\u001b[0m     \u001b[0mfc\u001b[0m \u001b[1;33m+=\u001b[0m \u001b[1;36m1\u001b[0m\u001b[1;33m\u001b[0m\u001b[1;33m\u001b[0m\u001b[0m\n\u001b[0;32m     16\u001b[0m \u001b[1;33m\u001b[0m\u001b[0m\n",
      "\u001b[1;31mKeyboardInterrupt\u001b[0m: "
     ]
    }
   ],
   "source": [
    "cap = cv.VideoCapture('aruco_video.mp4')\n",
    "# cap = cv.VideoCapture('table.mp4')\n",
    "\n",
    "frameCount = int(cap.get(cv.CAP_PROP_FRAME_COUNT))\n",
    "frameWidth = int(cap.get(cv.CAP_PROP_FRAME_WIDTH))\n",
    "frameHeight = int(cap.get(cv.CAP_PROP_FRAME_HEIGHT))\n",
    "\n",
    "buf = np.empty((frameCount, frameHeight, frameWidth, 3), np.dtype('uint8'))\n",
    "\n",
    "fc = 0\n",
    "ret = True\n",
    "\n",
    "while (fc < frameCount  and ret):\n",
    "    ret, buf[fc] = cap.read()\n",
    "    fc += 1\n",
    "\n",
    "cap.release()"
   ]
  },
  {
   "cell_type": "code",
   "execution_count": 8,
   "metadata": {},
   "outputs": [
    {
     "name": "stderr",
     "output_type": "stream",
     "text": [
      "  2%|▏         | 9/496 [00:01<00:57,  8.54it/s]"
     ]
    },
    {
     "name": "stdout",
     "output_type": "stream",
     "text": [
      "0.541173607515689\n",
      "0.5648935737662217\n",
      "0.4697629322072459\n"
     ]
    },
    {
     "name": "stderr",
     "output_type": "stream",
     "text": [
      "  2%|▏         | 11/496 [00:01<00:47, 10.19it/s]"
     ]
    },
    {
     "name": "stdout",
     "output_type": "stream",
     "text": [
      "0.43470700459059136\n",
      "0.5231226350806443\n",
      "0.49823997096577666\n",
      "0.5209065650580845\n"
     ]
    },
    {
     "name": "stderr",
     "output_type": "stream",
     "text": [
      "  3%|▎         | 17/496 [00:02<00:32, 14.56it/s]"
     ]
    },
    {
     "name": "stdout",
     "output_type": "stream",
     "text": [
      "0.6981193137557086\n",
      "0.7581108636726139\n",
      "0.6994215061279168\n",
      "0.7186640375163706\n",
      "252.11361218416195\n"
     ]
    },
    {
     "name": "stderr",
     "output_type": "stream",
     "text": [
      "  4%|▍         | 19/496 [00:02<00:30, 15.63it/s]"
     ]
    },
    {
     "name": "stdout",
     "output_type": "stream",
     "text": [
      "0.31908133032304775\n",
      "96.40088013368194\n",
      "0.29890974541102017\n",
      "159.14911659050588\n",
      "0.4948007721886601\n"
     ]
    },
    {
     "name": "stderr",
     "output_type": "stream",
     "text": [
      "  5%|▍         | 23/496 [00:02<00:28, 16.88it/s]"
     ]
    },
    {
     "name": "stdout",
     "output_type": "stream",
     "text": [
      "0.41518231347874285\n",
      "252.35395250744025\n",
      "0.5290272817644689\n",
      "252.39057996636427\n",
      "0.4693022329246142\n"
     ]
    },
    {
     "name": "stderr",
     "output_type": "stream",
     "text": [
      "  5%|▌         | 27/496 [00:02<00:35, 13.29it/s]"
     ]
    },
    {
     "name": "stdout",
     "output_type": "stream",
     "text": [
      "0.4570235086124119\n",
      "0.38318670135433913\n"
     ]
    },
    {
     "name": "stderr",
     "output_type": "stream",
     "text": [
      "  6%|▌         | 29/496 [00:03<00:39, 11.75it/s]"
     ]
    },
    {
     "name": "stdout",
     "output_type": "stream",
     "text": [
      "0.5075489857039553\n",
      "0.27500241490294686\n",
      "0.5568688834902775\n",
      "0.9428086723128712\n"
     ]
    },
    {
     "name": "stderr",
     "output_type": "stream",
     "text": [
      "  6%|▋         | 31/496 [00:03<00:51,  9.11it/s]"
     ]
    },
    {
     "name": "stdout",
     "output_type": "stream",
     "text": [
      "0.6322643251516991\n",
      "0.598115308045338\n"
     ]
    },
    {
     "name": "stderr",
     "output_type": "stream",
     "text": [
      "  7%|▋         | 35/496 [00:03<00:52,  8.78it/s]"
     ]
    },
    {
     "name": "stdout",
     "output_type": "stream",
     "text": [
      "0.6645295863372083\n",
      "0.5776847620773349\n"
     ]
    },
    {
     "name": "stderr",
     "output_type": "stream",
     "text": [
      "  7%|▋         | 36/496 [00:04<00:53,  8.57it/s]"
     ]
    },
    {
     "name": "stdout",
     "output_type": "stream",
     "text": [
      "0.5720025804385118\n",
      "0.5860209682793363\n"
     ]
    },
    {
     "name": "stderr",
     "output_type": "stream",
     "text": [
      "  8%|▊         | 38/496 [00:04<00:56,  8.12it/s]"
     ]
    },
    {
     "name": "stdout",
     "output_type": "stream",
     "text": [
      "0.7415556852688543\n",
      "0.8129098826851354\n"
     ]
    },
    {
     "name": "stderr",
     "output_type": "stream",
     "text": [
      "  8%|▊         | 41/496 [00:04<00:54,  8.33it/s]"
     ]
    },
    {
     "name": "stdout",
     "output_type": "stream",
     "text": [
      "0.763362054592886\n",
      "0.7482176469680825\n"
     ]
    },
    {
     "name": "stderr",
     "output_type": "stream",
     "text": [
      "  8%|▊         | 42/496 [00:04<00:54,  8.36it/s]"
     ]
    },
    {
     "name": "stdout",
     "output_type": "stream",
     "text": [
      "0.7138593236698698\n",
      "0.6973562201335105\n"
     ]
    },
    {
     "name": "stderr",
     "output_type": "stream",
     "text": [
      "  9%|▉         | 44/496 [00:05<01:03,  7.13it/s]"
     ]
    },
    {
     "name": "stdout",
     "output_type": "stream",
     "text": [
      "0.6907051819807629\n",
      "0.5838242734801421\n"
     ]
    },
    {
     "name": "stderr",
     "output_type": "stream",
     "text": [
      "  9%|▉         | 47/496 [00:05<00:57,  7.78it/s]"
     ]
    },
    {
     "name": "stdout",
     "output_type": "stream",
     "text": [
      "0.4974752252047631\n",
      "0.8386201695941699\n"
     ]
    },
    {
     "name": "stderr",
     "output_type": "stream",
     "text": [
      " 10%|▉         | 48/496 [00:05<00:56,  7.95it/s]"
     ]
    },
    {
     "name": "stdout",
     "output_type": "stream",
     "text": [
      "0.8085414008032822\n",
      "0.5042043910099024\n"
     ]
    },
    {
     "name": "stderr",
     "output_type": "stream",
     "text": [
      " 10%|█         | 51/496 [00:07<02:45,  2.69it/s]"
     ]
    },
    {
     "name": "stdout",
     "output_type": "stream",
     "text": [
      "0.5192128903327825\n",
      "0.482058382699457\n",
      "0.5755775739105359\n",
      "260.0721808599983\n",
      "0.253418163244251\n"
     ]
    },
    {
     "name": "stderr",
     "output_type": "stream",
     "text": [
      " 11%|█▏        | 57/496 [00:07<00:59,  7.37it/s]"
     ]
    },
    {
     "name": "stdout",
     "output_type": "stream",
     "text": [
      "260.72551104223663\n",
      "0.29943943142529084\n",
      "0.21676850416451188\n",
      "0.31229755016970634\n"
     ]
    },
    {
     "name": "stderr",
     "output_type": "stream",
     "text": [
      " 12%|█▏        | 61/496 [00:08<00:40, 10.82it/s]"
     ]
    },
    {
     "name": "stdout",
     "output_type": "stream",
     "text": [
      "0.4678055420198572\n",
      "0.37617770919417465\n",
      "0.3301189543466485\n",
      "0.35912708604997395\n",
      "537.057945886109\n"
     ]
    },
    {
     "name": "stderr",
     "output_type": "stream",
     "text": [
      " 13%|█▎        | 63/496 [00:08<00:34, 12.41it/s]"
     ]
    },
    {
     "name": "stdout",
     "output_type": "stream",
     "text": [
      "0.08746286273696342\n",
      "536.9374849925831\n",
      "0.2226213163751482\n",
      "0.10522321249714305\n"
     ]
    },
    {
     "name": "stderr",
     "output_type": "stream",
     "text": [
      " 14%|█▎        | 67/496 [00:08<00:28, 14.93it/s]"
     ]
    },
    {
     "name": "stdout",
     "output_type": "stream",
     "text": [
      "0.159967511438141\n",
      "0.30305625334061453\n",
      "0.3581363912564082\n",
      "0.3653068478568472\n"
     ]
    },
    {
     "name": "stderr",
     "output_type": "stream",
     "text": [
      " 14%|█▍        | 71/496 [00:08<00:26, 16.03it/s]"
     ]
    },
    {
     "name": "stdout",
     "output_type": "stream",
     "text": [
      "0.44649433070627126\n",
      "0.6956146309931089\n",
      "257.72660205554365\n",
      "0.45339795484678447\n",
      "258.05558297775616\n"
     ]
    },
    {
     "name": "stderr",
     "output_type": "stream",
     "text": [
      " 15%|█▌        | 75/496 [00:08<00:24, 17.16it/s]"
     ]
    },
    {
     "name": "stdout",
     "output_type": "stream",
     "text": [
      "0.7127669632941664\n",
      "0.6454727657280379\n",
      "0.72132291811539\n",
      "0.9075262067125105\n"
     ]
    },
    {
     "name": "stderr",
     "output_type": "stream",
     "text": [
      " 16%|█▌        | 79/496 [00:09<00:23, 17.43it/s]"
     ]
    },
    {
     "name": "stdout",
     "output_type": "stream",
     "text": [
      "0.792694476978867\n",
      "0.7325967327034598\n",
      "0.717369102064951\n",
      "0.8877089455681012\n"
     ]
    },
    {
     "name": "stderr",
     "output_type": "stream",
     "text": [
      " 17%|█▋        | 83/496 [00:09<00:23, 17.42it/s]"
     ]
    },
    {
     "name": "stdout",
     "output_type": "stream",
     "text": [
      "0.9856517351995193\n",
      "0.9462858770528443\n",
      "0.8987255687537675\n",
      "0.6540070123671639\n"
     ]
    },
    {
     "name": "stderr",
     "output_type": "stream",
     "text": [
      " 18%|█▊        | 87/496 [00:09<00:25, 16.02it/s]"
     ]
    },
    {
     "name": "stdout",
     "output_type": "stream",
     "text": [
      "0.4240722813417297\n",
      "0.47691943345592286\n",
      "0.7658221172387225\n"
     ]
    },
    {
     "name": "stderr",
     "output_type": "stream",
     "text": [
      " 18%|█▊        | 89/496 [00:09<00:39, 10.36it/s]"
     ]
    },
    {
     "name": "stdout",
     "output_type": "stream",
     "text": [
      "0.7506636219094448\n",
      "0.6427108819121062\n"
     ]
    },
    {
     "name": "stderr",
     "output_type": "stream",
     "text": [
      " 18%|█▊        | 91/496 [00:10<00:41,  9.69it/s]"
     ]
    },
    {
     "name": "stdout",
     "output_type": "stream",
     "text": [
      "0.3856327966576347\n",
      "0.46915602813243784\n"
     ]
    },
    {
     "name": "stderr",
     "output_type": "stream",
     "text": [
      " 19%|█▉        | 93/496 [00:10<00:43,  9.36it/s]"
     ]
    },
    {
     "name": "stdout",
     "output_type": "stream",
     "text": [
      "0.3117242362088319\n",
      "0.31666857446968777\n"
     ]
    },
    {
     "name": "stderr",
     "output_type": "stream",
     "text": [
      " 19%|█▉        | 95/496 [00:10<00:43,  9.27it/s]"
     ]
    },
    {
     "name": "stdout",
     "output_type": "stream",
     "text": [
      "0.320616459358668\n",
      "0.2623720986214901\n"
     ]
    },
    {
     "name": "stderr",
     "output_type": "stream",
     "text": [
      " 20%|█▉        | 97/496 [00:10<00:44,  9.00it/s]"
     ]
    },
    {
     "name": "stdout",
     "output_type": "stream",
     "text": [
      "0.3670974982682196\n",
      "0.4398529047484251\n"
     ]
    },
    {
     "name": "stderr",
     "output_type": "stream",
     "text": [
      " 20%|█▉        | 99/496 [00:11<00:47,  8.37it/s]"
     ]
    },
    {
     "name": "stdout",
     "output_type": "stream",
     "text": [
      "0.36892534221323675\n",
      "0.4100614407781177\n"
     ]
    },
    {
     "name": "stderr",
     "output_type": "stream",
     "text": [
      " 21%|██        | 102/496 [00:11<00:48,  8.15it/s]"
     ]
    },
    {
     "name": "stdout",
     "output_type": "stream",
     "text": [
      "0.496770349625104\n",
      "0.3797757545678734\n"
     ]
    },
    {
     "name": "stderr",
     "output_type": "stream",
     "text": [
      " 21%|██        | 104/496 [00:11<00:46,  8.43it/s]"
     ]
    },
    {
     "name": "stdout",
     "output_type": "stream",
     "text": [
      "0.1178136466303055\n",
      "0.29281241283691345\n"
     ]
    },
    {
     "name": "stderr",
     "output_type": "stream",
     "text": [
      " 21%|██▏       | 106/496 [00:12<00:45,  8.65it/s]"
     ]
    },
    {
     "name": "stdout",
     "output_type": "stream",
     "text": [
      "0.2733373853596048\n",
      "0.26372906714379957\n",
      "257.85933751897954\n",
      "0.21769813589181705\n"
     ]
    },
    {
     "name": "stderr",
     "output_type": "stream",
     "text": [
      " 22%|██▏       | 108/496 [00:12<00:56,  6.85it/s]"
     ]
    },
    {
     "name": "stdout",
     "output_type": "stream",
     "text": [
      "257.9820407394422\n",
      "0.42668980354555647\n"
     ]
    },
    {
     "name": "stderr",
     "output_type": "stream",
     "text": [
      " 22%|██▏       | 110/496 [00:12<00:53,  7.21it/s]"
     ]
    },
    {
     "name": "stdout",
     "output_type": "stream",
     "text": [
      "0.3966664412376159\n",
      "0.2880693897398721\n"
     ]
    },
    {
     "name": "stderr",
     "output_type": "stream",
     "text": [
      " 23%|██▎       | 113/496 [00:12<00:46,  8.32it/s]"
     ]
    },
    {
     "name": "stdout",
     "output_type": "stream",
     "text": [
      "0.22448929070612858\n",
      "0.22628891416883065\n"
     ]
    },
    {
     "name": "stderr",
     "output_type": "stream",
     "text": [
      " 23%|██▎       | 115/496 [00:13<00:37, 10.21it/s]"
     ]
    },
    {
     "name": "stdout",
     "output_type": "stream",
     "text": [
      "0.23015071971437093\n",
      "0.3679535846697995\n",
      "0.2689455740753009\n",
      "0.25291270197486454\n"
     ]
    },
    {
     "name": "stderr",
     "output_type": "stream",
     "text": [
      " 24%|██▍       | 119/496 [00:13<00:29, 12.97it/s]"
     ]
    },
    {
     "name": "stdout",
     "output_type": "stream",
     "text": [
      "0.17954291199372202\n",
      "0.2973234379829817\n",
      "0.3012877580395901\n"
     ]
    },
    {
     "name": "stderr",
     "output_type": "stream",
     "text": [
      " 25%|██▍       | 123/496 [00:13<00:25, 14.47it/s]"
     ]
    },
    {
     "name": "stdout",
     "output_type": "stream",
     "text": [
      "0.21133614704413092\n",
      "0.12992878408618788\n",
      "0.10646960224032448\n",
      "0.3842614122887515\n"
     ]
    },
    {
     "name": "stderr",
     "output_type": "stream",
     "text": [
      " 26%|██▌       | 127/496 [00:13<00:23, 15.68it/s]"
     ]
    },
    {
     "name": "stdout",
     "output_type": "stream",
     "text": [
      "0.1369783570644025\n",
      "0.08628916054759411\n",
      "0.20269083495222837\n",
      "0.1424451305581411\n"
     ]
    },
    {
     "name": "stderr",
     "output_type": "stream",
     "text": [
      " 26%|██▋       | 131/496 [00:14<00:21, 16.66it/s]"
     ]
    },
    {
     "name": "stdout",
     "output_type": "stream",
     "text": [
      "0.24705148572264835\n",
      "0.1566265922456653\n",
      "0.11464128177291381\n",
      "0.22770596002897606\n"
     ]
    },
    {
     "name": "stderr",
     "output_type": "stream",
     "text": [
      " 27%|██▋       | 136/496 [00:14<00:20, 17.34it/s]"
     ]
    },
    {
     "name": "stdout",
     "output_type": "stream",
     "text": [
      "0.2855328832944691\n",
      "0.4305781211188085\n",
      "0.45050317985296556\n",
      "0.47030117255512155\n"
     ]
    },
    {
     "name": "stderr",
     "output_type": "stream",
     "text": [
      " 28%|██▊       | 138/496 [00:14<00:20, 17.49it/s]"
     ]
    },
    {
     "name": "stdout",
     "output_type": "stream",
     "text": [
      "0.46257623806372217\n",
      "0.5286911376849637\n",
      "0.637427890905446\n"
     ]
    },
    {
     "name": "stderr",
     "output_type": "stream",
     "text": [
      " 29%|██▊       | 142/496 [00:14<00:23, 15.10it/s]"
     ]
    },
    {
     "name": "stdout",
     "output_type": "stream",
     "text": [
      "0.45422080003806325\n",
      "0.4516192027811681\n",
      "0.6059732924216744\n",
      "0.4301306004702852\n"
     ]
    },
    {
     "name": "stderr",
     "output_type": "stream",
     "text": [
      " 29%|██▉       | 146/496 [00:14<00:21, 16.13it/s]"
     ]
    },
    {
     "name": "stdout",
     "output_type": "stream",
     "text": [
      "0.6378956396566912\n",
      "0.7722419089834593\n",
      "0.8358737226504654\n",
      "0.8554288007986031\n"
     ]
    },
    {
     "name": "stderr",
     "output_type": "stream",
     "text": [
      " 30%|███       | 150/496 [00:15<00:20, 16.67it/s]"
     ]
    },
    {
     "name": "stdout",
     "output_type": "stream",
     "text": [
      "0.5121733424287497\n",
      "0.5809201088525415\n",
      "0.548677666414267\n",
      "0.7446155860369551\n"
     ]
    },
    {
     "name": "stderr",
     "output_type": "stream",
     "text": [
      " 31%|███       | 152/496 [00:15<00:21, 15.90it/s]"
     ]
    },
    {
     "name": "stdout",
     "output_type": "stream",
     "text": [
      "1.0729235233009864\n",
      "0.9925516398333765\n"
     ]
    },
    {
     "name": "stderr",
     "output_type": "stream",
     "text": [
      " 31%|███       | 154/496 [00:15<00:26, 13.09it/s]"
     ]
    },
    {
     "name": "stdout",
     "output_type": "stream",
     "text": [
      "0.8282317635062251\n",
      "1.0713812376721714\n"
     ]
    },
    {
     "name": "stderr",
     "output_type": "stream",
     "text": [
      " 31%|███▏      | 156/496 [00:15<00:30, 11.30it/s]"
     ]
    },
    {
     "name": "stdout",
     "output_type": "stream",
     "text": [
      "1.172580070239176\n",
      "1.0747477115052066\n"
     ]
    },
    {
     "name": "stderr",
     "output_type": "stream",
     "text": [
      " 32%|███▏      | 158/496 [00:16<00:31, 10.58it/s]"
     ]
    },
    {
     "name": "stdout",
     "output_type": "stream",
     "text": [
      "157\n"
     ]
    },
    {
     "name": "stderr",
     "output_type": "stream",
     "text": [
      " 33%|███▎      | 162/496 [00:16<00:33,  9.92it/s]"
     ]
    },
    {
     "name": "stdout",
     "output_type": "stream",
     "text": [
      "262.3129422618564\n"
     ]
    },
    {
     "name": "stderr",
     "output_type": "stream",
     "text": [
      " 36%|███▌      | 179/496 [00:18<00:35,  8.87it/s]"
     ]
    },
    {
     "name": "stdout",
     "output_type": "stream",
     "text": [
      "542.980226284221\n"
     ]
    },
    {
     "name": "stderr",
     "output_type": "stream",
     "text": [
      " 41%|████      | 202/496 [00:19<00:16, 18.09it/s]"
     ]
    },
    {
     "name": "stdout",
     "output_type": "stream",
     "text": [
      "48.626939958818554\n",
      "397.7353911067003\n"
     ]
    },
    {
     "name": "stderr",
     "output_type": "stream",
     "text": [
      " 46%|████▌     | 226/496 [00:21<00:24, 11.21it/s]"
     ]
    },
    {
     "name": "stdout",
     "output_type": "stream",
     "text": [
      "93.16298109991021\n"
     ]
    },
    {
     "name": "stderr",
     "output_type": "stream",
     "text": [
      " 49%|████▊     | 241/496 [00:23<00:28,  8.84it/s]"
     ]
    },
    {
     "name": "stdout",
     "output_type": "stream",
     "text": [
      "38.83425915436539\n"
     ]
    },
    {
     "name": "stderr",
     "output_type": "stream",
     "text": [
      " 52%|█████▏    | 256/496 [00:24<00:17, 13.44it/s]"
     ]
    },
    {
     "name": "stdout",
     "output_type": "stream",
     "text": [
      "138.7348571060928\n"
     ]
    },
    {
     "name": "stderr",
     "output_type": "stream",
     "text": [
      " 52%|█████▏    | 260/496 [00:24<00:14, 15.74it/s]"
     ]
    },
    {
     "name": "stdout",
     "output_type": "stream",
     "text": [
      "46.55775956073903\n",
      "9.56183180205891\n",
      "3.0313118970587936\n",
      "17.784483336246325\n",
      "16.944222585939023\n"
     ]
    },
    {
     "name": "stderr",
     "output_type": "stream",
     "text": [
      " 54%|█████▍    | 267/496 [00:25<00:13, 17.32it/s]"
     ]
    },
    {
     "name": "stdout",
     "output_type": "stream",
     "text": [
      "22.41466619591755\n",
      "22.802948379143814\n"
     ]
    },
    {
     "name": "stderr",
     "output_type": "stream",
     "text": [
      " 55%|█████▌    | 275/496 [00:25<00:12, 17.13it/s]"
     ]
    },
    {
     "name": "stdout",
     "output_type": "stream",
     "text": [
      "9.530896722464075\n"
     ]
    },
    {
     "name": "stderr",
     "output_type": "stream",
     "text": [
      " 57%|█████▋    | 281/496 [00:26<00:12, 17.78it/s]"
     ]
    },
    {
     "name": "stdout",
     "output_type": "stream",
     "text": [
      "12.938433849370398\n"
     ]
    },
    {
     "name": "stderr",
     "output_type": "stream",
     "text": [
      " 58%|█████▊    | 289/496 [00:26<00:11, 17.40it/s]"
     ]
    },
    {
     "name": "stdout",
     "output_type": "stream",
     "text": [
      "21.40648176792947\n"
     ]
    },
    {
     "name": "stderr",
     "output_type": "stream",
     "text": [
      " 60%|█████▉    | 297/496 [00:27<00:18, 10.56it/s]"
     ]
    },
    {
     "name": "stdout",
     "output_type": "stream",
     "text": [
      "15.91425046247322\n"
     ]
    },
    {
     "name": "stderr",
     "output_type": "stream",
     "text": [
      " 62%|██████▏   | 307/496 [00:28<00:21,  8.74it/s]"
     ]
    },
    {
     "name": "stdout",
     "output_type": "stream",
     "text": [
      "36.724730359566315\n"
     ]
    },
    {
     "name": "stderr",
     "output_type": "stream",
     "text": [
      " 66%|██████▌   | 327/496 [00:30<00:11, 14.73it/s]"
     ]
    },
    {
     "name": "stdout",
     "output_type": "stream",
     "text": [
      "36.447438169377065\n"
     ]
    },
    {
     "name": "stderr",
     "output_type": "stream",
     "text": [
      " 72%|███████▏  | 357/496 [00:32<00:07, 18.87it/s]"
     ]
    },
    {
     "name": "stdout",
     "output_type": "stream",
     "text": [
      "160.3359346566497\n"
     ]
    },
    {
     "name": "stderr",
     "output_type": "stream",
     "text": [
      " 75%|███████▌  | 372/496 [00:34<00:13,  8.95it/s]"
     ]
    },
    {
     "name": "stdout",
     "output_type": "stream",
     "text": [
      "164.13321268440038\n"
     ]
    },
    {
     "name": "stderr",
     "output_type": "stream",
     "text": [
      " 82%|████████▏ | 409/496 [00:37<00:04, 17.49it/s]"
     ]
    },
    {
     "name": "stdout",
     "output_type": "stream",
     "text": [
      "142.0390585453702\n",
      "254.09634527488035\n"
     ]
    },
    {
     "name": "stderr",
     "output_type": "stream",
     "text": [
      " 84%|████████▎ | 415/496 [00:37<00:04, 16.97it/s]"
     ]
    },
    {
     "name": "stdout",
     "output_type": "stream",
     "text": [
      "263.613614891511\n",
      "14.559737075230196\n"
     ]
    },
    {
     "name": "stderr",
     "output_type": "stream",
     "text": [
      " 85%|████████▌ | 424/496 [00:37<00:03, 18.77it/s]"
     ]
    },
    {
     "name": "stdout",
     "output_type": "stream",
     "text": [
      "36.64211791998637\n"
     ]
    },
    {
     "name": "stderr",
     "output_type": "stream",
     "text": [
      " 88%|████████▊ | 437/496 [00:39<00:05, 11.10it/s]\n"
     ]
    },
    {
     "ename": "error",
     "evalue": "OpenCV(4.8.1) D:\\a\\opencv-python\\opencv-python\\opencv\\modules\\core\\src\\batch_distance.cpp:275: error: (-215:Assertion failed) type == src2.type() && src1.cols == src2.cols && (type == CV_32F || type == CV_8U) in function 'cv::batchDistance'\n",
     "output_type": "error",
     "traceback": [
      "\u001b[1;31m---------------------------------------------------------------------------\u001b[0m",
      "\u001b[1;31merror\u001b[0m                                     Traceback (most recent call last)",
      "\u001b[1;32m<ipython-input-8-867441c1b122>\u001b[0m in \u001b[0;36m<module>\u001b[1;34m\u001b[0m\n\u001b[0;32m     42\u001b[0m     \u001b[1;32mif\u001b[0m \u001b[0mframe_index\u001b[0m \u001b[1;33m!=\u001b[0m \u001b[1;36m0\u001b[0m\u001b[1;33m:\u001b[0m\u001b[1;33m\u001b[0m\u001b[1;33m\u001b[0m\u001b[0m\n\u001b[0;32m     43\u001b[0m \u001b[1;33m\u001b[0m\u001b[0m\n\u001b[1;32m---> 44\u001b[1;33m         \u001b[0mmatches\u001b[0m \u001b[1;33m=\u001b[0m \u001b[0mbf\u001b[0m\u001b[1;33m.\u001b[0m\u001b[0mknnMatch\u001b[0m\u001b[1;33m(\u001b[0m\u001b[0mprev_des\u001b[0m\u001b[1;33m,\u001b[0m \u001b[0mdes\u001b[0m\u001b[1;33m,\u001b[0m \u001b[0mk\u001b[0m\u001b[1;33m=\u001b[0m\u001b[1;36m2\u001b[0m\u001b[1;33m)\u001b[0m\u001b[1;33m\u001b[0m\u001b[1;33m\u001b[0m\u001b[0m\n\u001b[0m\u001b[0;32m     45\u001b[0m         \u001b[0mkeyframe_matches\u001b[0m \u001b[1;33m=\u001b[0m \u001b[0mbf\u001b[0m\u001b[1;33m.\u001b[0m\u001b[0mknnMatch\u001b[0m\u001b[1;33m(\u001b[0m\u001b[0mkeyframe_des\u001b[0m\u001b[1;33m,\u001b[0m \u001b[0mdes\u001b[0m\u001b[1;33m,\u001b[0m \u001b[0mk\u001b[0m\u001b[1;33m=\u001b[0m\u001b[1;36m2\u001b[0m\u001b[1;33m)\u001b[0m\u001b[1;33m\u001b[0m\u001b[1;33m\u001b[0m\u001b[0m\n\u001b[0;32m     46\u001b[0m \u001b[1;33m\u001b[0m\u001b[0m\n",
      "\u001b[1;31merror\u001b[0m: OpenCV(4.8.1) D:\\a\\opencv-python\\opencv-python\\opencv\\modules\\core\\src\\batch_distance.cpp:275: error: (-215:Assertion failed) type == src2.type() && src1.cols == src2.cols && (type == CV_32F || type == CV_8U) in function 'cv::batchDistance'\n"
     ]
    },
    {
     "ename": "",
     "evalue": "",
     "output_type": "error",
     "traceback": [
      "\u001b[1;31mThe Kernel crashed while executing code in the current cell or a previous cell. \n",
      "\u001b[1;31mPlease review the code in the cell(s) to identify a possible cause of the failure. \n",
      "\u001b[1;31mClick <a href='https://aka.ms/vscodeJupyterKernelCrash'>here</a> for more info. \n",
      "\u001b[1;31mView Jupyter <a href='command:jupyter.viewOutput'>log</a> for further details."
     ]
    }
   ],
   "source": [
    "# sift = cv.SIFT_create(nfeatures=1500)\n",
    "orb = cv.ORB_create(nfeatures=500)\n",
    "\n",
    "# bf = cv.BFMatcher()\n",
    "bf = cv.BFMatcher(cv.NORM_HAMMING)\n",
    "apc = ArucoProcessor()\n",
    "\n",
    "# FLANN_INDEX_KDTREE = 1\n",
    "# index_params = dict(algorithm = FLANN_INDEX_KDTREE, trees = 5)\n",
    "# search_params = dict(checks=50) # or pass empty dictionary\n",
    "# flann = cv.FlannBasedMatcher(index_params,search_params)\n",
    "\n",
    "keyframe_index = 0\n",
    "frame_index = 0\n",
    "\n",
    "poses = []\n",
    "keyframes = []\n",
    "detected_arucos = []\n",
    "\n",
    "initialization = True\n",
    "\n",
    "for frame_index in tqdm(range(buf.shape[0])):\n",
    "    \n",
    "    frame = buf[frame_index]\n",
    "    gray = cv.cvtColor(frame, cv.COLOR_BGR2GRAY)\n",
    "    \n",
    "    if initialization:\n",
    "        see_arucos = apc.process_frame(gray)\n",
    "    if see_arucos and initialization:\n",
    "        poses.append(apc.get_aruco_pose())\n",
    "    if (not see_arucos or frame_index > 100) and initialization:\n",
    "        initialization = False\n",
    "\n",
    "    # kp, des = sift.detectAndCompute(gray,None)\n",
    "    kp, des = orb.detectAndCompute(gray,None)\n",
    "\n",
    "    if frame_index == 0:\n",
    "        keyframe_kp = kp\n",
    "        keyframe_des = des\n",
    "        keyframe_img = gray\n",
    "        keyframe_index = frame_index\n",
    "        keyframes.append((keyframe_index, keyframe_kp, keyframe_img))\n",
    "\n",
    "    if frame_index != 0:\n",
    "\n",
    "        matches = bf.knnMatch(prev_des, des, k=2)\n",
    "        keyframe_matches = bf.knnMatch(keyframe_des, des, k=2)\n",
    "\n",
    "        # matches = flann.knnMatch(prev_des, des, k=2)\n",
    "        # keyframe_matches = flann.knnMatch(keyframe_des, des, k=2)\n",
    "\n",
    "        good = []\n",
    "        for m,n in keyframe_matches:\n",
    "            if m.distance < 0.7*n.distance:\n",
    "                # good.append(m)\n",
    "                good.append([m])\n",
    "\n",
    "        # img=cv.drawKeypoints(gray, kp, None)\n",
    "        # cv.imshow('frame', img)      \n",
    "\n",
    "        cv.imshow('frame', cv.drawMatchesKnn(keyframe_img, keyframe_kp, gray, kp, good, None, flags=cv.DrawMatchesFlags_NOT_DRAW_SINGLE_POINTS))\n",
    "        if cv.waitKey(1) == ord('q'):\n",
    "            break\n",
    "                \n",
    "        if initialization:\n",
    "            if frame_index-keyframe_index > 20 or len(good) < 100:\n",
    "                keyframe_kp = kp\n",
    "                keyframe_des = des\n",
    "                keyframe_index = frame_index\n",
    "                keyframe_img = gray\n",
    "                detected_arucos = \n",
    "\n",
    "        if len(good) < 100:\n",
    "        # if frame_index % 2 == 0:\n",
    "\n",
    "            keyframe_kp = kp\n",
    "            keyframe_des = des\n",
    "            keyframe_index = frame_index\n",
    "            keyframe_img = gray\n",
    "            keyframes.append((keyframe_index, keyframe_kp, keyframe_img, good))\n",
    "\n",
    "    prev_kp = kp\n",
    "    prev_des = des\n",
    "    prev_img = gray\n",
    "\n",
    "cv.destroyAllWindows()"
   ]
  },
  {
   "cell_type": "code",
   "execution_count": 4,
   "metadata": {},
   "outputs": [],
   "source": [
    "positions = np.array(poses)[:, :3, 3]"
   ]
  },
  {
   "cell_type": "code",
   "execution_count": 5,
   "metadata": {},
   "outputs": [
    {
     "data": {
      "application/vnd.plotly.v1+json": {
       "config": {
        "plotlyServerURL": "https://plot.ly"
       },
       "data": [
        {
         "line": {
          "color": "darkblue",
          "width": 2
         },
         "marker": {
          "size": 5
         },
         "text": [
          0,
          1,
          2,
          3,
          4,
          5,
          6,
          7,
          8,
          9,
          10,
          11,
          12,
          13,
          14,
          15,
          16,
          17,
          18,
          19,
          20,
          21,
          22,
          23,
          24,
          25,
          26,
          27,
          28,
          29,
          30,
          31,
          32,
          33,
          34,
          35,
          36,
          37,
          38,
          39,
          40,
          41,
          42,
          43,
          44,
          45,
          46,
          47,
          48,
          49,
          50,
          51,
          52,
          53,
          54,
          55,
          56,
          57,
          58,
          59,
          60,
          61,
          62,
          63,
          64,
          65,
          66,
          67,
          68,
          69,
          70,
          71,
          72,
          73,
          74,
          75,
          76,
          77,
          78,
          79,
          80,
          81,
          82,
          83,
          84,
          85,
          86,
          87,
          88,
          89,
          90,
          91,
          92,
          93,
          94,
          95,
          96,
          97,
          98,
          99,
          100,
          101,
          102,
          103,
          104,
          105,
          106,
          107,
          108,
          109,
          110,
          111,
          112,
          113,
          114,
          115,
          116,
          117,
          118,
          119,
          120,
          121,
          122,
          123,
          124,
          125,
          126,
          127,
          128,
          129,
          130,
          131,
          132,
          133,
          134,
          135,
          136,
          137,
          138,
          139,
          140,
          141,
          142,
          143,
          144,
          145,
          146,
          147,
          148,
          149,
          150,
          151,
          152,
          153,
          154,
          155,
          156,
          157,
          158,
          159,
          160,
          161,
          162,
          163,
          164,
          165,
          166,
          167,
          168,
          169,
          170,
          171,
          172,
          173,
          174,
          175,
          176,
          177,
          178,
          179,
          180,
          181,
          182,
          183,
          184,
          185,
          186
         ],
         "type": "scatter3d",
         "x": [
          -0.23359080865674392,
          -0.09187956861877944,
          -0.11540236536485643,
          -0.09179376539087963,
          -0.25696945400103566,
          -0.04969789004353434,
          0.07288226826619487,
          -0.02621517161799297,
          0.005933871118338374,
          -0.12069102698748954,
          -0.023126591831636262,
          -0.19574229072933924,
          -0.08115700097356077,
          0.01621815181964581,
          -0.06286668227383013,
          -0.17095639667881332,
          -0.06874456023380804,
          -6.836420948908363,
          0.13431021876731847,
          -0.14349128592134017,
          -0.09522331538673945,
          0.4869156377124142,
          -0.32452046778939236,
          -0.16126510664693638,
          -0.15932142107567074,
          -0.35466938078824906,
          -0.29378825472647063,
          -0.2302623101842068,
          -0.3372428084467443,
          0.15810133391734255,
          0.053905009606125376,
          -0.2476571031717187,
          0.22096642561065166,
          -0.008291863161072999,
          0.27261050691671623,
          -0.2855065986734976,
          0.30474846885427126,
          -0.1711203915798341,
          0.09436322785650564,
          -0.22676789971667788,
          -0.3221796322188973,
          -0.21301627398503584,
          -0.26706914084969285,
          -0.2612532181992347,
          -0.4072468505442638,
          -0.40405681747635536,
          0.2389167145413491,
          0.18774394353795565,
          -0.09151244799407682,
          -0.09704282583827309,
          -0.10438659531507347,
          0.2169067559811615,
          -0.14064185498376816,
          -0.3499065948308004,
          -0.2331944267201515,
          -0.3921856219654237,
          -0.1944354541466675,
          -0.269471790005157,
          -0.2798413221605311,
          -0.17971830060403343,
          -5.242570325656985,
          -0.2508010232541301,
          -0.2548120764002048,
          -0.22213451248615224,
          -0.32790970990158685,
          -0.18901348672746698,
          -0.29965270092823837,
          -0.3392017919761899,
          -0.1632693566908389,
          -0.30298337230229755,
          -0.08119587641722481,
          -0.2024635292276932,
          -0.22672414312257444,
          -0.3462175505920655,
          -0.4133171036800524,
          -0.28072929451471335,
          -0.30090148597046373,
          -0.36223506058051375,
          -0.3773029266652802,
          -0.3461273614703756,
          -0.3691552703713615,
          -0.41149222482114334,
          -0.4625495157426079,
          -0.4090146569065779,
          -0.4659049689599052,
          -0.45689000951960046,
          -0.4784716631456244,
          -0.4935341820403946,
          -0.5339161567675764,
          -0.5453459214736187,
          -0.5016394617554336,
          -0.4899016129136645,
          -0.46296385069364665,
          -0.5316746072703321,
          -0.5019054496522735,
          -0.49291907601196683,
          -0.49862843035624327,
          -0.49080533034437734,
          -0.4816498859179531,
          -0.4729349806374073,
          -0.4751370559392303,
          -0.5359630762346779,
          -0.528078858454261,
          -0.46212758976524976,
          -0.46991615401687653,
          -0.512661631608959,
          -0.5022076599113345,
          -0.4855975728755431,
          -0.5098997258335358,
          -0.47037762163598584,
          -0.4776520105455346,
          -0.47011248295903585,
          -0.46858695180085314,
          -0.4641434613692519,
          -0.42521819394358684,
          -0.4550194921560219,
          -0.4515994478499455,
          -0.40776000192146383,
          -0.4340502810681852,
          -0.38948772650923336,
          -0.4082184249009053,
          -0.40576607046077123,
          -0.34632601851564526,
          -0.3884487471036343,
          -0.3990648548348778,
          -0.4302161202295663,
          -0.35370861982690327,
          -0.4158688711225339,
          -0.35367529204566384,
          -0.3990435051487614,
          -0.46303161330654713,
          -0.42458059250704183,
          -0.4237211128027282,
          -0.4723636636656578,
          -0.5039634556759831,
          -0.4707442331559705,
          -0.48657607620641447,
          -0.48391686748206947,
          -0.4482532367736607,
          -0.5048385522172113,
          -0.48344733536120904,
          -0.5008700332137946,
          -0.42975489775151804,
          -0.5373017824020436,
          -0.5014283815671657,
          -0.5634497251334172,
          -0.5361155657579711,
          -0.5196897686114124,
          -0.5253766925611949,
          -0.5111295350662742,
          -0.5265841905855848,
          -0.5539265430729277,
          -0.5566325847229877,
          -0.5391289765085191,
          -0.6146393843996976,
          -0.5931858069999444,
          -0.6012538595965944,
          -0.06337430761786118,
          -3.6319845084573767,
          -0.25844588751786235,
          -0.25870446692940163,
          8.830717245895602,
          -0.21219286241390556,
          0.10711958851462278,
          -0.04597841282040527,
          0.10388132165763464,
          -0.4776438249793664,
          -0.28083398310215335,
          0.09295187617466016,
          0.163336741807107,
          -0.0312841768549208,
          -0.28998859761771456,
          -0.026022014727099307,
          0.0625483266564002,
          0.06250919567339919,
          0.1353108054665526,
          -0.027911497643694577,
          -0.22405188697300993,
          -0.1783684369002021,
          -6.703606982523393,
          -6.57078109004444,
          5.135038693255547,
          4.450283141664611,
          2.662321964484244,
          -0.14877167185887075,
          11.4515455706883,
          5.4495589686001775
         ],
         "y": [
          -0.0011272395406322078,
          -0.16926139448738822,
          0.11223742613947332,
          -0.11724724092681346,
          0.01933359434200571,
          -0.27668984819561004,
          0.14688709042105538,
          -0.2945322911312056,
          -0.22017275157270125,
          -0.178789893000579,
          -0.1660658800851052,
          -0.07416447311511441,
          -0.21763159482018798,
          -0.1419302532287857,
          -0.19402073196536387,
          0.050419544974603894,
          -9.922608203901776,
          0.3400930184193911,
          -0.176018660402601,
          0.06158819922026881,
          -0.059363143076892264,
          -9.909616568821393,
          0.05849858174101687,
          0.0755625991041747,
          0.07649122126067773,
          0.032986233981769836,
          0.015119443771008156,
          0.053200178132619846,
          0.030844515516256707,
          -0.04253334944727262,
          -0.11236430366578093,
          -0.002808826399797612,
          -0.01905454022854898,
          -0.0991369013287452,
          -0.0732130745459588,
          0.033976516310601224,
          0.005866701558729787,
          -0.05278009509711458,
          -0.19427874086632943,
          0.017698054102898597,
          -0.0350037422416804,
          -0.0108013681482311,
          -0.0011325442463068491,
          -0.013919543169468196,
          -0.04200475302463985,
          -0.04768648359714436,
          -0.05781017993755877,
          0.022238654142700043,
          -0.13486330275222294,
          -0.1459845196370524,
          -0.16183789653177838,
          -10.181097995782387,
          -0.27005054353563357,
          -0.06279386171473486,
          -0.12198098302018304,
          -0.11018962098609025,
          -0.11071773268692978,
          -0.043672429398410706,
          -0.17415185783753137,
          -0.23670048901617524,
          9.955330358278786,
          -0.15080683443259052,
          -0.15353631570419907,
          -0.06630749808938907,
          -0.10955883310470388,
          -0.11079216488454405,
          -0.07984797155809437,
          -0.12228829758794776,
          -0.18979744444156993,
          -0.09609168417218147,
          -10.035626728279555,
          -0.1807165164748741,
          -0.1846984090784172,
          -0.15303949217048884,
          -0.12050860681902675,
          -0.19705099667040404,
          -0.20465944456681112,
          -0.2646942078552822,
          -0.26515522655355395,
          -0.27365509445905223,
          -0.2534327227100916,
          -0.23583234500347705,
          -0.24896119845192438,
          -0.22465610914587353,
          -0.23823200314659596,
          -0.2194700462100287,
          -0.24354867452227008,
          -0.24074696379680804,
          -0.2514683057695061,
          -0.2591735347809945,
          -0.2853054779002809,
          -0.3354903129521817,
          -0.2881758318893392,
          -0.2933712224804889,
          -0.2843346916969445,
          -0.3063039808627085,
          -0.3138539594856676,
          -0.331713933531727,
          -0.30018268148437843,
          -0.2969165932405812,
          -0.2694763191656384,
          -0.22868755905620042,
          -0.25673266986520804,
          -0.2819313839991657,
          -0.23890543009860005,
          -9.968193000057719,
          -0.24870216157500705,
          -0.28678187412454237,
          -0.20679087985582031,
          -0.2696346051749789,
          -0.24196030865159798,
          -0.24630224954512991,
          -0.22420326345711372,
          -0.2410121554339194,
          -0.27408144056476474,
          -0.24720839441392645,
          -0.2469878535876892,
          -0.24558771286734898,
          -0.2890020584158962,
          -0.2724900360566982,
          -0.22834769433689783,
          -0.23270731264153996,
          -0.3523686064386957,
          -0.3105951911752654,
          -0.2416098469344256,
          -0.2827386744861588,
          -0.29537479267974426,
          -0.22330191270383293,
          -0.3426361168686798,
          -0.26404195975305933,
          -0.1903123558453963,
          -0.24357648495661638,
          -0.23119992370348463,
          -0.21748701216493438,
          -0.17063269697714703,
          -0.2051556641916669,
          -0.19872962440752542,
          -0.20639241232058192,
          -0.2362685930002686,
          -0.2080801907821888,
          -0.2724434823013934,
          -0.2429417948331184,
          -0.2664329942132244,
          -0.2019622389534381,
          -0.2586566155437623,
          -0.20656874418892568,
          -0.22777244634629118,
          -0.2906909832093111,
          -0.27351922300974496,
          -0.2853157270300128,
          -0.27087043555438817,
          -0.2400013589838945,
          -0.2551858054165484,
          -0.27664608836023563,
          -0.22466543202465006,
          -0.2698174079943565,
          -0.28042594148774236,
          -9.945434720664625,
          -9.404257603298767,
          -9.20393334742568,
          -9.210857084956414,
          0.44795496247227407,
          -8.140280143410891,
          -7.745777895973255,
          -7.4632517151666065,
          -7.922642320787512,
          -7.893574414219251,
          -7.49825184891587,
          -7.778711058677649,
          -7.644059142523908,
          -7.521472228477181,
          -7.272346809140322,
          -7.350232883454563,
          -7.0569065968233415,
          -6.4677186291979645,
          -6.345782524561973,
          -1.3319448990842426,
          -6.77582007988007,
          -6.106659329096837,
          -10.294592558648768,
          -10.121733512437565,
          11.68091374521461,
          10.620503060900576,
          8.58276495204738,
          -5.889331559258492,
          0.18982397282689734,
          6.295611723157988
         ],
         "z": [
          -1.7698899113134325,
          -1.7726537409158625,
          -1.7722349635258685,
          -1.7809364492173194,
          -1.7608614697382876,
          -1.7498382586514711,
          -1.7657992791693329,
          -1.738252708569747,
          -1.7536783689490276,
          -1.7488437574475735,
          -1.7511502070484704,
          -1.7432814075118142,
          -1.7415839971318574,
          -1.7495279803690105,
          -1.7430465929117571,
          -1.7422263148444637,
          -1.098725344571116,
          -1.2468541232329264,
          -1.7249550337932993,
          -1.7315800469513052,
          -1.7367672221048533,
          -1.125156888150351,
          -1.6898092884065612,
          -1.7281336040725814,
          -1.7280103138344165,
          -1.6854959776999758,
          -1.7045152098024945,
          -1.7187747860057256,
          -1.697261916014831,
          -1.740874483006109,
          -1.7515727467265056,
          -1.733540849320943,
          -1.7400295319821724,
          -1.758421358581726,
          -1.7333952861955053,
          -1.7330517282627231,
          -1.7340418610503503,
          -1.7612479132804713,
          -1.7616428923153902,
          -1.7615947912508527,
          -1.7499385378166337,
          -1.7692710517080101,
          -1.765625150217857,
          -1.7695556726438293,
          -1.7334284397777873,
          -1.7359019843364483,
          -1.7875835320922422,
          -1.7953019079203234,
          -1.8055746656858327,
          -1.8058819136192206,
          -1.8060076729953936,
          -1.1811325414560618,
          -1.7832444523196038,
          -1.7662839930135588,
          -1.79210914683219,
          -1.7558800168286184,
          -1.8063806541062861,
          -1.7966663219588364,
          -1.7796441761990112,
          -1.790361571823441,
          -15.933316269483702,
          -1.7941975165005266,
          -1.7942048053207276,
          -1.8091740958944895,
          -1.7863908136543893,
          -1.808071302986811,
          -1.7992389189606735,
          -1.7873750678542393,
          -1.8135176661892507,
          -1.8007854753097412,
          -1.1130549601615725,
          -1.8147663854697043,
          -1.8149813678700966,
          -1.7948471103683543,
          -1.7809805639600567,
          -1.8148603746035725,
          -1.8147844836783233,
          -1.7915866590571565,
          -1.7912945119979604,
          -1.799902725193047,
          -1.8048370489977068,
          -1.797455336076795,
          -1.7788134259951778,
          -1.8114125587515146,
          -1.7863148976068042,
          -1.7954186314250127,
          -1.7777684240492115,
          -1.7806892088116657,
          -1.7611004069879064,
          -1.7483641854908336,
          -1.7668246501550695,
          -1.7649351415436547,
          -1.787471345401465,
          -1.752496863683496,
          -1.7709221902002457,
          -1.7633658759427524,
          -1.759960091946455,
          -1.751639839374958,
          -1.7651186944876438,
          -1.7651153980029004,
          -1.7589669124825968,
          -1.7448470895958779,
          -1.745299650346509,
          -1.7555084369050593,
          -1.7654510871159834,
          -1.138207813286515,
          -1.7507302352633256,
          -1.7416913210034457,
          -1.7444722729825208,
          -1.7450890634754468,
          -1.7512589455578333,
          -1.7513655349139756,
          -1.75464712365576,
          -1.7517417795635573,
          -1.749560788024955,
          -1.7525100559634168,
          -1.7526261520439748,
          -1.763079696827388,
          -1.7418761843602635,
          -1.755147172478294,
          -1.7530044319376554,
          -1.7529328516956404,
          -1.7426868969230267,
          -1.731645911105734,
          -1.7456840266778657,
          -1.7248809670039533,
          -1.7440339990986808,
          -1.7353603388967265,
          -1.727470314320695,
          -1.7380903572878554,
          -1.724654011545121,
          -1.731540859139748,
          -1.7276756410183525,
          -1.7143111397129907,
          -1.7080559374267068,
          -1.7214367507477193,
          -1.711364804393559,
          -1.7174634898810022,
          -1.7240730291059254,
          -1.7073090122964436,
          -1.6955313123779254,
          -1.684658635231843,
          -1.7110000750169105,
          -1.6703976936636322,
          -1.678683883425453,
          -1.6454847267063195,
          -1.653441724060348,
          -1.6424389724564077,
          -1.6369576748765615,
          -1.639350251632879,
          -1.6228978421294504,
          -1.6057111451059016,
          -1.5935750885521243,
          -1.590822146973295,
          -1.5510278206080668,
          -1.5462498650764485,
          -1.527409815708663,
          -1.0959453387660498,
          -16.74308037005925,
          -1.4451797768452752,
          -1.44712785245191,
          -2.3125054051383573,
          -1.100843058934848,
          -0.9560960928130773,
          -0.8782913452170342,
          -0.989096821731795,
          -1.3907938412236005,
          -1.2404184942618572,
          -0.9425979445117179,
          -1.2270663307153777,
          -1.1725640944815139,
          -1.123798641791101,
          -1.1437435300122212,
          -1.2058695217612123,
          -0.8442048420285735,
          -0.7912213082667874,
          -0.7647278598581646,
          -0.9322595284152301,
          -0.7590259204892957,
          -6.272257822557201,
          -6.414177722358218,
          -5.850420994699753,
          -6.012742135164537,
          -0.8386471601315093,
          -0.7102523049335872,
          -6.623336006576774,
          -1.3783405857407822
         ]
        }
       ],
       "layout": {
        "template": {
         "data": {
          "bar": [
           {
            "error_x": {
             "color": "#2a3f5f"
            },
            "error_y": {
             "color": "#2a3f5f"
            },
            "marker": {
             "line": {
              "color": "#E5ECF6",
              "width": 0.5
             },
             "pattern": {
              "fillmode": "overlay",
              "size": 10,
              "solidity": 0.2
             }
            },
            "type": "bar"
           }
          ],
          "barpolar": [
           {
            "marker": {
             "line": {
              "color": "#E5ECF6",
              "width": 0.5
             },
             "pattern": {
              "fillmode": "overlay",
              "size": 10,
              "solidity": 0.2
             }
            },
            "type": "barpolar"
           }
          ],
          "carpet": [
           {
            "aaxis": {
             "endlinecolor": "#2a3f5f",
             "gridcolor": "white",
             "linecolor": "white",
             "minorgridcolor": "white",
             "startlinecolor": "#2a3f5f"
            },
            "baxis": {
             "endlinecolor": "#2a3f5f",
             "gridcolor": "white",
             "linecolor": "white",
             "minorgridcolor": "white",
             "startlinecolor": "#2a3f5f"
            },
            "type": "carpet"
           }
          ],
          "choropleth": [
           {
            "colorbar": {
             "outlinewidth": 0,
             "ticks": ""
            },
            "type": "choropleth"
           }
          ],
          "contour": [
           {
            "colorbar": {
             "outlinewidth": 0,
             "ticks": ""
            },
            "colorscale": [
             [
              0,
              "#0d0887"
             ],
             [
              0.1111111111111111,
              "#46039f"
             ],
             [
              0.2222222222222222,
              "#7201a8"
             ],
             [
              0.3333333333333333,
              "#9c179e"
             ],
             [
              0.4444444444444444,
              "#bd3786"
             ],
             [
              0.5555555555555556,
              "#d8576b"
             ],
             [
              0.6666666666666666,
              "#ed7953"
             ],
             [
              0.7777777777777778,
              "#fb9f3a"
             ],
             [
              0.8888888888888888,
              "#fdca26"
             ],
             [
              1,
              "#f0f921"
             ]
            ],
            "type": "contour"
           }
          ],
          "contourcarpet": [
           {
            "colorbar": {
             "outlinewidth": 0,
             "ticks": ""
            },
            "type": "contourcarpet"
           }
          ],
          "heatmap": [
           {
            "colorbar": {
             "outlinewidth": 0,
             "ticks": ""
            },
            "colorscale": [
             [
              0,
              "#0d0887"
             ],
             [
              0.1111111111111111,
              "#46039f"
             ],
             [
              0.2222222222222222,
              "#7201a8"
             ],
             [
              0.3333333333333333,
              "#9c179e"
             ],
             [
              0.4444444444444444,
              "#bd3786"
             ],
             [
              0.5555555555555556,
              "#d8576b"
             ],
             [
              0.6666666666666666,
              "#ed7953"
             ],
             [
              0.7777777777777778,
              "#fb9f3a"
             ],
             [
              0.8888888888888888,
              "#fdca26"
             ],
             [
              1,
              "#f0f921"
             ]
            ],
            "type": "heatmap"
           }
          ],
          "heatmapgl": [
           {
            "colorbar": {
             "outlinewidth": 0,
             "ticks": ""
            },
            "colorscale": [
             [
              0,
              "#0d0887"
             ],
             [
              0.1111111111111111,
              "#46039f"
             ],
             [
              0.2222222222222222,
              "#7201a8"
             ],
             [
              0.3333333333333333,
              "#9c179e"
             ],
             [
              0.4444444444444444,
              "#bd3786"
             ],
             [
              0.5555555555555556,
              "#d8576b"
             ],
             [
              0.6666666666666666,
              "#ed7953"
             ],
             [
              0.7777777777777778,
              "#fb9f3a"
             ],
             [
              0.8888888888888888,
              "#fdca26"
             ],
             [
              1,
              "#f0f921"
             ]
            ],
            "type": "heatmapgl"
           }
          ],
          "histogram": [
           {
            "marker": {
             "pattern": {
              "fillmode": "overlay",
              "size": 10,
              "solidity": 0.2
             }
            },
            "type": "histogram"
           }
          ],
          "histogram2d": [
           {
            "colorbar": {
             "outlinewidth": 0,
             "ticks": ""
            },
            "colorscale": [
             [
              0,
              "#0d0887"
             ],
             [
              0.1111111111111111,
              "#46039f"
             ],
             [
              0.2222222222222222,
              "#7201a8"
             ],
             [
              0.3333333333333333,
              "#9c179e"
             ],
             [
              0.4444444444444444,
              "#bd3786"
             ],
             [
              0.5555555555555556,
              "#d8576b"
             ],
             [
              0.6666666666666666,
              "#ed7953"
             ],
             [
              0.7777777777777778,
              "#fb9f3a"
             ],
             [
              0.8888888888888888,
              "#fdca26"
             ],
             [
              1,
              "#f0f921"
             ]
            ],
            "type": "histogram2d"
           }
          ],
          "histogram2dcontour": [
           {
            "colorbar": {
             "outlinewidth": 0,
             "ticks": ""
            },
            "colorscale": [
             [
              0,
              "#0d0887"
             ],
             [
              0.1111111111111111,
              "#46039f"
             ],
             [
              0.2222222222222222,
              "#7201a8"
             ],
             [
              0.3333333333333333,
              "#9c179e"
             ],
             [
              0.4444444444444444,
              "#bd3786"
             ],
             [
              0.5555555555555556,
              "#d8576b"
             ],
             [
              0.6666666666666666,
              "#ed7953"
             ],
             [
              0.7777777777777778,
              "#fb9f3a"
             ],
             [
              0.8888888888888888,
              "#fdca26"
             ],
             [
              1,
              "#f0f921"
             ]
            ],
            "type": "histogram2dcontour"
           }
          ],
          "mesh3d": [
           {
            "colorbar": {
             "outlinewidth": 0,
             "ticks": ""
            },
            "type": "mesh3d"
           }
          ],
          "parcoords": [
           {
            "line": {
             "colorbar": {
              "outlinewidth": 0,
              "ticks": ""
             }
            },
            "type": "parcoords"
           }
          ],
          "pie": [
           {
            "automargin": true,
            "type": "pie"
           }
          ],
          "scatter": [
           {
            "fillpattern": {
             "fillmode": "overlay",
             "size": 10,
             "solidity": 0.2
            },
            "type": "scatter"
           }
          ],
          "scatter3d": [
           {
            "line": {
             "colorbar": {
              "outlinewidth": 0,
              "ticks": ""
             }
            },
            "marker": {
             "colorbar": {
              "outlinewidth": 0,
              "ticks": ""
             }
            },
            "type": "scatter3d"
           }
          ],
          "scattercarpet": [
           {
            "marker": {
             "colorbar": {
              "outlinewidth": 0,
              "ticks": ""
             }
            },
            "type": "scattercarpet"
           }
          ],
          "scattergeo": [
           {
            "marker": {
             "colorbar": {
              "outlinewidth": 0,
              "ticks": ""
             }
            },
            "type": "scattergeo"
           }
          ],
          "scattergl": [
           {
            "marker": {
             "colorbar": {
              "outlinewidth": 0,
              "ticks": ""
             }
            },
            "type": "scattergl"
           }
          ],
          "scattermapbox": [
           {
            "marker": {
             "colorbar": {
              "outlinewidth": 0,
              "ticks": ""
             }
            },
            "type": "scattermapbox"
           }
          ],
          "scatterpolar": [
           {
            "marker": {
             "colorbar": {
              "outlinewidth": 0,
              "ticks": ""
             }
            },
            "type": "scatterpolar"
           }
          ],
          "scatterpolargl": [
           {
            "marker": {
             "colorbar": {
              "outlinewidth": 0,
              "ticks": ""
             }
            },
            "type": "scatterpolargl"
           }
          ],
          "scatterternary": [
           {
            "marker": {
             "colorbar": {
              "outlinewidth": 0,
              "ticks": ""
             }
            },
            "type": "scatterternary"
           }
          ],
          "surface": [
           {
            "colorbar": {
             "outlinewidth": 0,
             "ticks": ""
            },
            "colorscale": [
             [
              0,
              "#0d0887"
             ],
             [
              0.1111111111111111,
              "#46039f"
             ],
             [
              0.2222222222222222,
              "#7201a8"
             ],
             [
              0.3333333333333333,
              "#9c179e"
             ],
             [
              0.4444444444444444,
              "#bd3786"
             ],
             [
              0.5555555555555556,
              "#d8576b"
             ],
             [
              0.6666666666666666,
              "#ed7953"
             ],
             [
              0.7777777777777778,
              "#fb9f3a"
             ],
             [
              0.8888888888888888,
              "#fdca26"
             ],
             [
              1,
              "#f0f921"
             ]
            ],
            "type": "surface"
           }
          ],
          "table": [
           {
            "cells": {
             "fill": {
              "color": "#EBF0F8"
             },
             "line": {
              "color": "white"
             }
            },
            "header": {
             "fill": {
              "color": "#C8D4E3"
             },
             "line": {
              "color": "white"
             }
            },
            "type": "table"
           }
          ]
         },
         "layout": {
          "annotationdefaults": {
           "arrowcolor": "#2a3f5f",
           "arrowhead": 0,
           "arrowwidth": 1
          },
          "autotypenumbers": "strict",
          "coloraxis": {
           "colorbar": {
            "outlinewidth": 0,
            "ticks": ""
           }
          },
          "colorscale": {
           "diverging": [
            [
             0,
             "#8e0152"
            ],
            [
             0.1,
             "#c51b7d"
            ],
            [
             0.2,
             "#de77ae"
            ],
            [
             0.3,
             "#f1b6da"
            ],
            [
             0.4,
             "#fde0ef"
            ],
            [
             0.5,
             "#f7f7f7"
            ],
            [
             0.6,
             "#e6f5d0"
            ],
            [
             0.7,
             "#b8e186"
            ],
            [
             0.8,
             "#7fbc41"
            ],
            [
             0.9,
             "#4d9221"
            ],
            [
             1,
             "#276419"
            ]
           ],
           "sequential": [
            [
             0,
             "#0d0887"
            ],
            [
             0.1111111111111111,
             "#46039f"
            ],
            [
             0.2222222222222222,
             "#7201a8"
            ],
            [
             0.3333333333333333,
             "#9c179e"
            ],
            [
             0.4444444444444444,
             "#bd3786"
            ],
            [
             0.5555555555555556,
             "#d8576b"
            ],
            [
             0.6666666666666666,
             "#ed7953"
            ],
            [
             0.7777777777777778,
             "#fb9f3a"
            ],
            [
             0.8888888888888888,
             "#fdca26"
            ],
            [
             1,
             "#f0f921"
            ]
           ],
           "sequentialminus": [
            [
             0,
             "#0d0887"
            ],
            [
             0.1111111111111111,
             "#46039f"
            ],
            [
             0.2222222222222222,
             "#7201a8"
            ],
            [
             0.3333333333333333,
             "#9c179e"
            ],
            [
             0.4444444444444444,
             "#bd3786"
            ],
            [
             0.5555555555555556,
             "#d8576b"
            ],
            [
             0.6666666666666666,
             "#ed7953"
            ],
            [
             0.7777777777777778,
             "#fb9f3a"
            ],
            [
             0.8888888888888888,
             "#fdca26"
            ],
            [
             1,
             "#f0f921"
            ]
           ]
          },
          "colorway": [
           "#636efa",
           "#EF553B",
           "#00cc96",
           "#ab63fa",
           "#FFA15A",
           "#19d3f3",
           "#FF6692",
           "#B6E880",
           "#FF97FF",
           "#FECB52"
          ],
          "font": {
           "color": "#2a3f5f"
          },
          "geo": {
           "bgcolor": "white",
           "lakecolor": "white",
           "landcolor": "#E5ECF6",
           "showlakes": true,
           "showland": true,
           "subunitcolor": "white"
          },
          "hoverlabel": {
           "align": "left"
          },
          "hovermode": "closest",
          "mapbox": {
           "style": "light"
          },
          "paper_bgcolor": "white",
          "plot_bgcolor": "#E5ECF6",
          "polar": {
           "angularaxis": {
            "gridcolor": "white",
            "linecolor": "white",
            "ticks": ""
           },
           "bgcolor": "#E5ECF6",
           "radialaxis": {
            "gridcolor": "white",
            "linecolor": "white",
            "ticks": ""
           }
          },
          "scene": {
           "xaxis": {
            "backgroundcolor": "#E5ECF6",
            "gridcolor": "white",
            "gridwidth": 2,
            "linecolor": "white",
            "showbackground": true,
            "ticks": "",
            "zerolinecolor": "white"
           },
           "yaxis": {
            "backgroundcolor": "#E5ECF6",
            "gridcolor": "white",
            "gridwidth": 2,
            "linecolor": "white",
            "showbackground": true,
            "ticks": "",
            "zerolinecolor": "white"
           },
           "zaxis": {
            "backgroundcolor": "#E5ECF6",
            "gridcolor": "white",
            "gridwidth": 2,
            "linecolor": "white",
            "showbackground": true,
            "ticks": "",
            "zerolinecolor": "white"
           }
          },
          "shapedefaults": {
           "line": {
            "color": "#2a3f5f"
           }
          },
          "ternary": {
           "aaxis": {
            "gridcolor": "white",
            "linecolor": "white",
            "ticks": ""
           },
           "baxis": {
            "gridcolor": "white",
            "linecolor": "white",
            "ticks": ""
           },
           "bgcolor": "#E5ECF6",
           "caxis": {
            "gridcolor": "white",
            "linecolor": "white",
            "ticks": ""
           }
          },
          "title": {
           "x": 0.05
          },
          "xaxis": {
           "automargin": true,
           "gridcolor": "white",
           "linecolor": "white",
           "ticks": "",
           "title": {
            "standoff": 15
           },
           "zerolinecolor": "white",
           "zerolinewidth": 2
          },
          "yaxis": {
           "automargin": true,
           "gridcolor": "white",
           "linecolor": "white",
           "ticks": "",
           "title": {
            "standoff": 15
           },
           "zerolinecolor": "white",
           "zerolinewidth": 2
          }
         }
        }
       }
      }
     },
     "metadata": {},
     "output_type": "display_data"
    }
   ],
   "source": [
    "fig = go.Figure(data=[go.Scatter3d(x=positions.T[0], y=positions.T[1], z=positions.T[2],\n",
    "                                    marker_size=5, text=np.arange(0, len(positions)), line=dict(\n",
    "        color='darkblue',\n",
    "        width=2\n",
    "    )\n",
    ")])\n",
    "\n",
    "fig.show()"
   ]
  },
  {
   "cell_type": "code",
   "execution_count": null,
   "metadata": {},
   "outputs": [],
   "source": [
    "len(keyframes)"
   ]
  },
  {
   "cell_type": "code",
   "execution_count": null,
   "metadata": {},
   "outputs": [],
   "source": [
    "global_matches = []\n",
    "\n",
    "for m in range(len(keyframes[1][3])):\n",
    "    global_matches.append([keyframes[1][3][m].queryIdx, keyframes[1][3][m].trainIdx])\n",
    "\n",
    "for kf in tqdm(range(2, len(keyframes))):\n",
    "    for m in range(len(keyframes[kf][3])):\n",
    "        found_match = False\n",
    "        for global_match in global_matches:\n",
    "            if global_match[-1] == keyframes[kf][3][m].queryIdx and len(global_match) != kf+1:\n",
    "                global_match.append(keyframes[kf][3][m].trainIdx)\n",
    "                found_match = True\n",
    "        if not found_match:\n",
    "            global_matches.append([-1] * (kf - 1) + [keyframes[kf][3][m].queryIdx, keyframes[kf][3][m].trainIdx])\n",
    "            \n",
    "    for global_match in global_matches:\n",
    "        if len(global_match) < kf + 1:\n",
    "            global_match.extend([-1])\n",
    "\n",
    "assert len(keyframes) == min([len(x) for x in global_matches]) == max([len(x) for x in global_matches])"
   ]
  },
  {
   "cell_type": "code",
   "execution_count": null,
   "metadata": {},
   "outputs": [],
   "source": [
    "global_matches = np.array(global_matches)"
   ]
  },
  {
   "cell_type": "code",
   "execution_count": null,
   "metadata": {},
   "outputs": [],
   "source": [
    "plt.figure(figsize=(15, 20))\n",
    "sns.heatmap(np.where(global_matches > 0, 1, 0));"
   ]
  },
  {
   "cell_type": "code",
   "execution_count": null,
   "metadata": {},
   "outputs": [],
   "source": [
    "W = np.identity(2)\n",
    "\n",
    "K = np.array([[1.23472227e+03, 0.00000000e+00, 6.38814655e+02],\n",
    "              [0.00000000e+00, 1.23122213e+03, 3.37257425e+02],\n",
    "              [0.00000000e+00, 0.00000000e+00, 1.00000000e+00]])\n",
    "\n",
    "camera_k = np.array([K[0, 0],\n",
    "                     K[1, 1],\n",
    "                     K[0, 2],\n",
    "                     K[1, 2]])"
   ]
  },
  {
   "cell_type": "code",
   "execution_count": null,
   "metadata": {},
   "outputs": [],
   "source": [
    "mrob.RANSAC?"
   ]
  },
  {
   "cell_type": "code",
   "execution_count": null,
   "metadata": {},
   "outputs": [],
   "source": [
    "graph = mrob.FGraph(mrob.CAUCHY)\n",
    "global_matches_to_graph_id = {}\n",
    "poses_indeces_in_graph = []\n",
    "last_position = np.zeros((3, 1))\n",
    "\n",
    "for kf in tqdm(range(len(keyframes))):\n",
    "\n",
    "    if kf == 0:\n",
    "        pose_id = graph.add_node_pose_3d(mrob.geometry.SE3(), mrob.NODE_ANCHOR)\n",
    "    else:\n",
    "        pose_id = graph.add_node_pose_3d(mrob.geometry.SE3(last_pose))\n",
    "        # pose_id = graph.add_node_pose_3d(mrob.geometry.SE3())\n",
    "\n",
    "    poses_indeces_in_graph.append(pose_id)\n",
    "    \n",
    "    for global_match_index in range(global_matches.shape[0]):\n",
    "\n",
    "        if global_matches[global_match_index, kf] == -1:\n",
    "            continue\n",
    "        \n",
    "        if not (global_match_index in global_matches_to_graph_id.keys()):\n",
    "            l = graph.add_node_landmark_3d(last_position + np.random.random((3, 1)))\n",
    "            # l = graph.add_node_landmark_3d(np.random.random((3, 1)))\n",
    "            global_matches_to_graph_id[global_match_index] = l\n",
    "            \n",
    "        graph.add_factor_camera_proj_3d_point(\n",
    "                obs = keyframes[kf][1][global_matches[global_match_index, kf]].pt,\n",
    "                nodePoseId = pose_id,\n",
    "                nodeLandmarkId = global_matches_to_graph_id[global_match_index],\n",
    "                camera_k = camera_k,\n",
    "                obsInvCov = W)\n",
    "    \n",
    "    # print(f\"{kf} : {graph.solve(method=mrob.LM, maxIters=200)} iterations\")\n",
    "    graph.solve(method=mrob.LM, maxIters=200)\n",
    "    last_pose = graph.get_estimated_state()[pose_id]\n",
    "    last_position = last_pose[0:3, 3:]\n",
    "    \n",
    "print(graph.chi2())"
   ]
  },
  {
   "cell_type": "code",
   "execution_count": null,
   "metadata": {},
   "outputs": [],
   "source": [
    "landmarks_3d = np.array([x for x in np.array(graph.get_estimated_state())[list(global_matches_to_graph_id.values())]]).reshape(-1, 3).T\n",
    "camera_poses = np.array([x[0:3, 3] for x in np.array(graph.get_estimated_state())[poses_indeces_in_graph]]).T"
   ]
  },
  {
   "cell_type": "code",
   "execution_count": null,
   "metadata": {},
   "outputs": [],
   "source": [
    "fig = go.Figure(data=[go.Scatter3d(x=landmarks_3d[0], y=landmarks_3d[1], z=landmarks_3d[2],\n",
    "                                   mode='markers', marker_size=1)] + \n",
    "                     [go.Scatter3d(x=camera_poses[0], y=camera_poses[1], z=camera_poses[2],\n",
    "                                   mode='markers', marker_size=5, text=np.arange(0, len(keyframes)))])\n",
    "\n",
    "fig.update_layout(\n",
    "    scene = dict(\n",
    "        xaxis = dict(nticks=4, range=[np.min(camera_poses, axis=1)[0]*2, np.max(camera_poses, axis=1)[0]*2]),\n",
    "        yaxis = dict(nticks=4, range=[np.min(camera_poses, axis=1)[1]*2, np.max(camera_poses, axis=1)[1]*2]),\n",
    "        zaxis = dict(nticks=4, range=[np.min(camera_poses, axis=1)[2]*2, np.max(camera_poses, axis=1)[2]*2])))\n",
    "\n",
    "fig.show()\n",
    "fig.write_html(\"feature_map.html\")"
   ]
  },
  {
   "cell_type": "code",
   "execution_count": null,
   "metadata": {},
   "outputs": [],
   "source": [
    "# U, S, V = np.linalg.svd(camera_poses)\n",
    "# S[2] = 0\n",
    "# projected_points = U[:2, :] @ np.diag(S[:]) @ V.T[:3, :]\n",
    "\n",
    "# plt.figure(figsize=(15, 10))\n",
    "# plt.scatter(projected_points[0], projected_points[1], )\n",
    "# plt.plot(projected_points[0], projected_points[1])\n",
    "# for i in range(projected_points.shape[1]):\n",
    "#     plt.annotate(i, (projected_points[0][i], projected_points[1][i]))\n",
    "# plt.show()"
   ]
  },
  {
   "cell_type": "code",
   "execution_count": null,
   "metadata": {},
   "outputs": [],
   "source": [
    "pca = PCA(n_components=2)\n",
    "proj_points = pca.fit_transform(camera_poses.T)\n",
    "proj_points = proj_points.T\n",
    "\n",
    "plt.figure(figsize=(15, 10))\n",
    "plt.plot(proj_points[0], proj_points[1], marker='.')\n",
    "for i in range(proj_points.shape[1]):\n",
    "    plt.annotate(i, (proj_points[0][i], proj_points[1][i]))\n",
    "plt.show()"
   ]
  },
  {
   "cell_type": "code",
   "execution_count": null,
   "metadata": {},
   "outputs": [],
   "source": [
    "# global_matches = []\n",
    "\n",
    "# for m in range(len(keyframes[1][3])):\n",
    "#     global_matches.append([keyframes[1][3][m].queryIdx, keyframes[1][3][m].trainIdx])\n",
    "\n",
    "# for kf in tqdm(range(2, len(keyframes))):\n",
    "#     for m in range(len(keyframes[kf][3])):\n",
    "#         found_match = False\n",
    "#         for global_match in global_matches:\n",
    "#             if global_match[-1] == keyframes[kf][3][m].queryIdx and len(global_match) != kf+1:\n",
    "#                 global_match.append(keyframes[kf][3][m].trainIdx)\n",
    "#                 found_match = True\n",
    "#         if not found_match:\n",
    "#             global_matches.append([-1] * (kf - 1) + [keyframes[kf][3][m].queryIdx, keyframes[kf][3][m].trainIdx])\n",
    "            \n",
    "#     for global_match in global_matches:\n",
    "#         if len(global_match) < kf + 1:\n",
    "#             global_match.extend([-1])\n",
    "\n",
    "# assert len(keyframes) == min([len(x) for x in global_matches]) == max([len(x) for x in global_matches])\n",
    "\n",
    "# global_matches = []\n",
    "\n",
    "# for kf_1 in tqdm(range(len(keyframes))):\n",
    "    \n",
    "#     kp_1, des_1 = orb.detectAndCompute(keyframes[kf_1][2], None)\n",
    "\n",
    "#     for kf_2 in range(kf_1 + 1, len(keyframes)):\n",
    "#         kp_2, des_2 = orb.detectAndCompute(keyframes[kf_2][2], None)\n",
    "#         matches = bf.knnMatch(des_1, des_2, k=2)\n",
    "\n",
    "#         for m,n in keyframe_matches:\n",
    "#             if m.distance < 0.75*n.distance:\n",
    "#                 good.append(m)\n",
    "            \n",
    "#         for m in good:\n"
   ]
  },
  {
   "cell_type": "code",
   "execution_count": null,
   "metadata": {},
   "outputs": [],
   "source": []
  }
 ],
 "metadata": {
  "kernelspec": {
   "display_name": "Python 3",
   "language": "python",
   "name": "python3"
  },
  "language_info": {
   "codemirror_mode": {
    "name": "ipython",
    "version": 3
   },
   "file_extension": ".py",
   "mimetype": "text/x-python",
   "name": "python",
   "nbconvert_exporter": "python",
   "pygments_lexer": "ipython3",
   "version": "3.8.8"
  }
 },
 "nbformat": 4,
 "nbformat_minor": 2
}
